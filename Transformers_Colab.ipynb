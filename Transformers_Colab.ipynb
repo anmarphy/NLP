{
  "nbformat": 4,
  "nbformat_minor": 0,
  "metadata": {
    "colab": {
      "name": "Transformers_Colab.ipynb",
      "provenance": []
    },
    "kernelspec": {
      "name": "python3",
      "display_name": "Python 3"
    },
    "language_info": {
      "name": "python"
    }
  },
  "cells": [
    {
      "cell_type": "code",
      "metadata": {
        "colab": {
          "base_uri": "https://localhost:8080/"
        },
        "id": "1ycbeGQlb6do",
        "outputId": "7f785802-f0f8-4357-a25f-3561ae08c0b7"
      },
      "source": [
        "!pip install transformers"
      ],
      "execution_count": 12,
      "outputs": [
        {
          "output_type": "stream",
          "text": [
            "Requirement already satisfied: transformers in /usr/local/lib/python3.7/dist-packages (4.5.1)\n",
            "Requirement already satisfied: filelock in /usr/local/lib/python3.7/dist-packages (from transformers) (3.0.12)\n",
            "Requirement already satisfied: sacremoses in /usr/local/lib/python3.7/dist-packages (from transformers) (0.0.45)\n",
            "Requirement already satisfied: tqdm>=4.27 in /usr/local/lib/python3.7/dist-packages (from transformers) (4.41.1)\n",
            "Requirement already satisfied: numpy>=1.17 in /usr/local/lib/python3.7/dist-packages (from transformers) (1.19.5)\n",
            "Requirement already satisfied: importlib-metadata; python_version < \"3.8\" in /usr/local/lib/python3.7/dist-packages (from transformers) (3.10.1)\n",
            "Requirement already satisfied: packaging in /usr/local/lib/python3.7/dist-packages (from transformers) (20.9)\n",
            "Requirement already satisfied: tokenizers<0.11,>=0.10.1 in /usr/local/lib/python3.7/dist-packages (from transformers) (0.10.2)\n",
            "Requirement already satisfied: regex!=2019.12.17 in /usr/local/lib/python3.7/dist-packages (from transformers) (2019.12.20)\n",
            "Requirement already satisfied: requests in /usr/local/lib/python3.7/dist-packages (from transformers) (2.23.0)\n",
            "Requirement already satisfied: six in /usr/local/lib/python3.7/dist-packages (from sacremoses->transformers) (1.15.0)\n",
            "Requirement already satisfied: click in /usr/local/lib/python3.7/dist-packages (from sacremoses->transformers) (7.1.2)\n",
            "Requirement already satisfied: joblib in /usr/local/lib/python3.7/dist-packages (from sacremoses->transformers) (1.0.1)\n",
            "Requirement already satisfied: zipp>=0.5 in /usr/local/lib/python3.7/dist-packages (from importlib-metadata; python_version < \"3.8\"->transformers) (3.4.1)\n",
            "Requirement already satisfied: typing-extensions>=3.6.4; python_version < \"3.8\" in /usr/local/lib/python3.7/dist-packages (from importlib-metadata; python_version < \"3.8\"->transformers) (3.7.4.3)\n",
            "Requirement already satisfied: pyparsing>=2.0.2 in /usr/local/lib/python3.7/dist-packages (from packaging->transformers) (2.4.7)\n",
            "Requirement already satisfied: idna<3,>=2.5 in /usr/local/lib/python3.7/dist-packages (from requests->transformers) (2.10)\n",
            "Requirement already satisfied: chardet<4,>=3.0.2 in /usr/local/lib/python3.7/dist-packages (from requests->transformers) (3.0.4)\n",
            "Requirement already satisfied: urllib3!=1.25.0,!=1.25.1,<1.26,>=1.21.1 in /usr/local/lib/python3.7/dist-packages (from requests->transformers) (1.24.3)\n",
            "Requirement already satisfied: certifi>=2017.4.17 in /usr/local/lib/python3.7/dist-packages (from requests->transformers) (2020.12.5)\n"
          ],
          "name": "stdout"
        }
      ]
    },
    {
      "cell_type": "markdown",
      "metadata": {
        "id": "mcMEp2Yy1qUS"
      },
      "source": [
        "## **Sentence Prediction:** Fill-Mask"
      ]
    },
    {
      "cell_type": "code",
      "metadata": {
        "id": "w-rWiwvEzXKQ"
      },
      "source": [
        "from transformers import AutoTokenizer, AutoModelForQuestionAnswering, pipeline, set_seed\n",
        "from textwrap import wrap"
      ],
      "execution_count": 13,
      "outputs": []
    },
    {
      "cell_type": "code",
      "metadata": {
        "colab": {
          "base_uri": "https://localhost:8080/"
        },
        "id": "oXK1TfsY04-3",
        "outputId": "7c93da66-adcf-400d-dedd-3ce7a0d144c8"
      },
      "source": [
        "unmasker = pipeline('fill-mask', model='distilbert-base-uncased')\n",
        "unmasker(\"On Sundays I enjoy [MASK] at home\")"
      ],
      "execution_count": 14,
      "outputs": [
        {
          "output_type": "execute_result",
          "data": {
            "text/plain": [
              "[{'score': 0.06422755122184753,\n",
              "  'sequence': 'on sundays i enjoy breakfast at home',\n",
              "  'token': 6350,\n",
              "  'token_str': 'breakfast'},\n",
              " {'score': 0.05887323617935181,\n",
              "  'sequence': 'on sundays i enjoy reading at home',\n",
              "  'token': 3752,\n",
              "  'token_str': 'reading'},\n",
              " {'score': 0.05435291305184364,\n",
              "  'sequence': 'on sundays i enjoy eating at home',\n",
              "  'token': 5983,\n",
              "  'token_str': 'eating'},\n",
              " {'score': 0.04633665084838867,\n",
              "  'sequence': 'on sundays i enjoy working at home',\n",
              "  'token': 2551,\n",
              "  'token_str': 'working'},\n",
              " {'score': 0.026207586750388145,\n",
              "  'sequence': 'on sundays i enjoy gardening at home',\n",
              "  'token': 21529,\n",
              "  'token_str': 'gardening'}]"
            ]
          },
          "metadata": {
            "tags": []
          },
          "execution_count": 14
        }
      ]
    },
    {
      "cell_type": "markdown",
      "metadata": {
        "id": "AxSj-lXp2DdP"
      },
      "source": [
        "## **Question Answering**"
      ]
    },
    {
      "cell_type": "code",
      "metadata": {
        "colab": {
          "base_uri": "https://localhost:8080/"
        },
        "id": "QjhOAIHDzlWd",
        "outputId": "f81128fd-c8f3-4f17-f2ed-e0c4e27f80b7"
      },
      "source": [
        "## The context was extracted from: https://pt.wikipedia.org/wiki/Florian%C3%B3polis \n",
        "\n",
        "context = r\"\"\"\n",
        "\n",
        "Florianópolis é a capital do estado brasileiro de Santa Catarina, na região Sul do país. \n",
        "O município é composto pela ilha principal, a ilha de Santa Catarina, a parte continental e algumas pequenas ilhas circundantes. \n",
        "A cidade tem uma população de 500 973 habitantes, de acordo com estimativas para 2019 do Instituto Brasileiro de Geografia e Estatística (IBGE). \n",
        "É o segundo município mais populoso do estado (após Joinville) e o 48º do Brasil. \n",
        "A região metropolitana tem uma população estimada de 1 209 818 habitantes, a 21ª maior do país. \n",
        "A cidade é conhecida por ter uma elevada qualidade de vida, sendo a capital brasileira com maior pontuação do Índice de Desenvolvimento Humano (IDH), calculado pelo PNUD, das Nações Unidas.[10]\n",
        "\n",
        "A economia de Florianópolis é fortemente baseada na tecnologia da informação, no turismo e nos serviços.[12]\n",
        " A cidade tem mais de 100 praias registradas e é um centro de atividade de navegação. \n",
        " O jornal estadunidense The New York Times afirmou em 2009 que \"Florianópolis era o destino do ano\".[13] \n",
        " A Newsweek considerou que o município é uma das \"dez cidades mais dinâmicas do mundo\" em 2006.[14] \n",
        " A revista Veja classificou a cidade como \"o melhor lugar para se viver no Brasil\",[15] enquanto que o Índice de Cidades Empreendedoras (ICE), \n",
        " elaborado pela filial brasileira da ONG norte-americana Endeavor, elegeu a cidade como o melhor ambiente para o empreendedorismo no país.[16] \n",
        " A cidade também foi considerada pela Organização das Nações Unidas para a Educação, a Ciência e a Cultura (Unesco) uma das \"cidades criativas\" do Brasil em 2014, ao lado de Curitiba.[17]\n",
        "\n",
        "\"\"\"\n",
        "\n",
        "model_name = 'pierreguillou/bert-base-cased-squad-v1.1-portuguese'\n",
        "nlp = pipeline(\"question-answering\", model=model_name)\n",
        "\n",
        "question = \"O que diz The New York Times do Floripa?\"\n",
        "\n",
        "result = nlp(question=question, context=context)\n",
        "\n",
        "print(f\"Answer: '{result['answer']}', score: {round(result['score'], 4)}, start: {result['start']}, end: {result['end']}\")\n"
      ],
      "execution_count": 15,
      "outputs": [
        {
          "output_type": "stream",
          "text": [
            "Answer: '\"Florianópolis era o destino do ano\"', score: 0.5065, start: 1002, end: 1038\n"
          ],
          "name": "stdout"
        }
      ]
    },
    {
      "cell_type": "markdown",
      "metadata": {
        "id": "geX4v0JZ6dLy"
      },
      "source": [
        "## **Text Generation:** GPT2"
      ]
    },
    {
      "cell_type": "code",
      "metadata": {
        "colab": {
          "base_uri": "https://localhost:8080/"
        },
        "id": "T2Iw2lIZzlcH",
        "outputId": "3e1fe207-4330-4417-b0d0-c5c7a1c627c1"
      },
      "source": [
        "generator = pipeline('text-generation', model='gpt2')\n",
        "set_seed(42)\n",
        "generator(\"My name is Marce, I am Data Scientist and\", max_length=30, num_return_sequences=5)\n"
      ],
      "execution_count": 16,
      "outputs": [
        {
          "output_type": "stream",
          "text": [
            "Setting `pad_token_id` to `eos_token_id`:50256 for open-end generation.\n"
          ],
          "name": "stderr"
        },
        {
          "output_type": "execute_result",
          "data": {
            "text/plain": [
              "[{'generated_text': 'My name is Marce, I am Data Scientist and I am writing a paper which will describe the problems and opportunities for the field of data visualization.'},\n",
              " {'generated_text': 'My name is Marce, I am Data Scientist and Software Engineer, and I am an expert in a variety of related fields. I have worked on'},\n",
              " {'generated_text': 'My name is Marce, I am Data Scientist and currently working in the research area of blockchain. The project to take a completely decentralized application using Ethereum'},\n",
              " {'generated_text': \"My name is Marce, I am Data Scientist and a Senior Director of Security Research at ATSB's Directorate of Cyber Crime in Airmen\"},\n",
              " {'generated_text': 'My name is Marce, I am Data Scientist and I work like crazy. I create code as well as code analyzers. But we are really'}]"
            ]
          },
          "metadata": {
            "tags": []
          },
          "execution_count": 16
        }
      ]
    },
    {
      "cell_type": "code",
      "metadata": {
        "id": "87WTOGzTzle2"
      },
      "source": [
        "from transformers import AutoTokenizer, AutoModelForSeq2SeqLM\n",
        "tokenizer = AutoTokenizer.from_pretrained(\"Helsinki-NLP/opus-mt-es-en\")\n",
        "model = AutoModelForSeq2SeqLM.from_pretrained(\"Helsinki-NLP/opus-mt-es-en\")"
      ],
      "execution_count": 17,
      "outputs": []
    },
    {
      "cell_type": "code",
      "metadata": {
        "id": "qQOSztXe7-H8"
      },
      "source": [
        ""
      ],
      "execution_count": 17,
      "outputs": []
    },
    {
      "cell_type": "markdown",
      "metadata": {
        "id": "f76CgwWa1XQ4"
      },
      "source": [
        "# References\n",
        "\n",
        "\n",
        "https://huggingface.co/distilbert-base-uncased?text=The+goal+of+life+is+%5BMASK%5D.\n",
        "\n",
        "\n",
        "\n",
        "https://huggingface.co/transformers/master/model_doc/pegasus.html\n",
        "\n",
        "\n",
        "https://huggingface.co/gpt2?text=My+name+is+Mariama%2C+my+favorite\n"
      ]
    },
    {
      "cell_type": "code",
      "metadata": {
        "id": "NWZLT2fr5AfS"
      },
      "source": [
        ""
      ],
      "execution_count": 17,
      "outputs": []
    }
  ]
}
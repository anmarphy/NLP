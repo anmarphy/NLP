{
 "cells": [
  {
   "cell_type": "code",
   "execution_count": 5,
   "metadata": {},
   "outputs": [],
   "source": [
    "import re"
   ]
  },
  {
   "cell_type": "code",
   "execution_count": 17,
   "metadata": {},
   "outputs": [
    {
     "data": {
      "text/plain": [
       "[' 99', '299']"
      ]
     },
     "execution_count": 17,
     "metadata": {},
     "output_type": "execute_result"
    }
   ],
   "source": [
    "l='There are 99 or 299 bottles on the wall'\n",
    "f=re.findall(\".9+\", l)\n",
    "f"
   ]
  },
  {
   "cell_type": "code",
   "execution_count": 28,
   "metadata": {},
   "outputs": [
    {
     "data": {
      "text/plain": [
       "['Buttercup', 'woodchuck']"
      ]
     },
     "execution_count": 28,
     "metadata": {},
     "output_type": "execute_result"
    }
   ],
   "source": [
    "p='I’m called little Buttercup or woodchuck'\n",
    "re.findall('Buttercup|woodchuck', p)"
   ]
  },
  {
   "cell_type": "code",
   "execution_count": 38,
   "metadata": {},
   "outputs": [
    {
     "data": {
      "text/plain": [
       "['D', 'R', 'B']"
      ]
     },
     "execution_count": 38,
     "metadata": {},
     "output_type": "execute_result"
    }
   ],
   "source": [
    "t='we should call it ‘DRrenched Blossoms'\n",
    "re.findall('[A-Z]', t)"
   ]
  },
  {
   "cell_type": "code",
   "execution_count": 45,
   "metadata": {},
   "outputs": [
    {
     "data": {
      "text/plain": [
       "['1', '12']"
      ]
     },
     "execution_count": 45,
     "metadata": {},
     "output_type": "execute_result"
    }
   ],
   "source": [
    "c='Chapter 1: Down the Rabbit Hole 12'\n",
    "re.findall('[0-9]+', c)"
   ]
  },
  {
   "cell_type": "code",
   "execution_count": 57,
   "metadata": {},
   "outputs": [
    {
     "data": {
      "text/plain": [
       "['Mar', 'marcela']"
      ]
     },
     "execution_count": 57,
     "metadata": {},
     "output_type": "execute_result"
    }
   ],
   "source": [
    "f='Call me Mar, marcela'\n",
    "re.findall('[Mm]a[a-z]+',f)"
   ]
  },
  {
   "cell_type": "code",
   "execution_count": 58,
   "metadata": {},
   "outputs": [],
   "source": [
    "p='And indeed there will be time.For the yellow smoke that slides along the street, Rubbing its back upon the window-panes; There will be time, there will be time To prepare a face to meet the faces that you meet; There will be time to murder and create , And time for all the works and days of hands That lift and drop a question on your plate; Time for you and time for me, And time yet for a hundred indecisions, And for a hundred visions and revisions, Before the taking of a toast and tea.'"
   ]
  },
  {
   "cell_type": "code",
   "execution_count": 75,
   "metadata": {},
   "outputs": [
    {
     "data": {
      "text/plain": [
       "[' there',\n",
       " ' time',\n",
       " ' the',\n",
       " ' that',\n",
       " ' the',\n",
       " ' the',\n",
       " ' There',\n",
       " ' time',\n",
       " ' there',\n",
       " ' time',\n",
       " ' To',\n",
       " ' to',\n",
       " ' the',\n",
       " ' that',\n",
       " ' There',\n",
       " ' time',\n",
       " ' to',\n",
       " ' time',\n",
       " ' the',\n",
       " ' That',\n",
       " ' Time',\n",
       " ' time',\n",
       " ' time',\n",
       " ' the',\n",
       " ' taking',\n",
       " ' toast',\n",
       " ' tea']"
      ]
     },
     "execution_count": 75,
     "metadata": {},
     "output_type": "execute_result"
    }
   ],
   "source": [
    "re.findall('[^a-z][Tt][a-z]+', p) "
   ]
  },
  {
   "cell_type": "code",
   "execution_count": null,
   "metadata": {},
   "outputs": [],
   "source": []
  }
 ],
 "metadata": {
  "kernelspec": {
   "display_name": "Python 3",
   "language": "python",
   "name": "python3"
  },
  "language_info": {
   "codemirror_mode": {
    "name": "ipython",
    "version": 3
   },
   "file_extension": ".py",
   "mimetype": "text/x-python",
   "name": "python",
   "nbconvert_exporter": "python",
   "pygments_lexer": "ipython3",
   "version": "3.8.5"
  }
 },
 "nbformat": 4,
 "nbformat_minor": 4
}

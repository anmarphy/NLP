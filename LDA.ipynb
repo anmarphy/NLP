{
 "cells": [
  {
   "cell_type": "markdown",
   "metadata": {},
   "source": [
    "# Latent Dirilechlet Allocation"
   ]
  },
  {
   "cell_type": "markdown",
   "metadata": {},
   "source": [
    " Latent Dirichlet allocation (LDA), perhaps the most common topic model currently in use. Topic modeling is a type of statistical modeling for discovering the main topics in a collection of documents. The number of topics could be analyzed similar as a number of clusters."
   ]
  },
  {
   "cell_type": "markdown",
   "metadata": {},
   "source": [
    "### Data acquisition"
   ]
  },
  {
   "cell_type": "code",
   "execution_count": 1,
   "metadata": {},
   "outputs": [],
   "source": [
    "import pandas as pd\n",
    "import numpy as np\n",
    "import matplotlib.pyplot as plt\n",
    "import re\n",
    "import string\n",
    "import nltk                                  \n",
    "from nltk.corpus import stopwords\n",
    "from nltk.stem import PorterStemmer\n",
    "from nltk.tokenize import TweetTokenizer\n",
    "from nltk import word_tokenize          \n",
    "from nltk.stem import WordNetLemmatizer \n",
    "import gensim\n",
    "import os\n",
    "import pyLDAvis.gensim\n",
    "import pickle \n",
    "import pyLDAvis"
   ]
  },
  {
   "cell_type": "code",
   "execution_count": 2,
   "metadata": {},
   "outputs": [
    {
     "data": {
      "text/html": [
       "<div>\n",
       "<style scoped>\n",
       "    .dataframe tbody tr th:only-of-type {\n",
       "        vertical-align: middle;\n",
       "    }\n",
       "\n",
       "    .dataframe tbody tr th {\n",
       "        vertical-align: top;\n",
       "    }\n",
       "\n",
       "    .dataframe thead th {\n",
       "        text-align: right;\n",
       "    }\n",
       "</style>\n",
       "<table border=\"1\" class=\"dataframe\">\n",
       "  <thead>\n",
       "    <tr style=\"text-align: right;\">\n",
       "      <th></th>\n",
       "      <th>tweet_id</th>\n",
       "      <th>airline_sentiment</th>\n",
       "      <th>airline_sentiment_confidence</th>\n",
       "      <th>negativereason</th>\n",
       "      <th>negativereason_confidence</th>\n",
       "      <th>airline</th>\n",
       "      <th>airline_sentiment_gold</th>\n",
       "      <th>name</th>\n",
       "      <th>negativereason_gold</th>\n",
       "      <th>retweet_count</th>\n",
       "      <th>text</th>\n",
       "      <th>tweet_coord</th>\n",
       "      <th>tweet_created</th>\n",
       "      <th>tweet_location</th>\n",
       "      <th>user_timezone</th>\n",
       "    </tr>\n",
       "  </thead>\n",
       "  <tbody>\n",
       "    <tr>\n",
       "      <th>0</th>\n",
       "      <td>570306133677760513</td>\n",
       "      <td>neutral</td>\n",
       "      <td>1.0000</td>\n",
       "      <td>NaN</td>\n",
       "      <td>NaN</td>\n",
       "      <td>Virgin America</td>\n",
       "      <td>NaN</td>\n",
       "      <td>cairdin</td>\n",
       "      <td>NaN</td>\n",
       "      <td>0</td>\n",
       "      <td>@VirginAmerica What @dhepburn said.</td>\n",
       "      <td>NaN</td>\n",
       "      <td>2015-02-24 11:35:52 -0800</td>\n",
       "      <td>NaN</td>\n",
       "      <td>Eastern Time (US &amp; Canada)</td>\n",
       "    </tr>\n",
       "    <tr>\n",
       "      <th>1</th>\n",
       "      <td>570301130888122368</td>\n",
       "      <td>positive</td>\n",
       "      <td>0.3486</td>\n",
       "      <td>NaN</td>\n",
       "      <td>0.0000</td>\n",
       "      <td>Virgin America</td>\n",
       "      <td>NaN</td>\n",
       "      <td>jnardino</td>\n",
       "      <td>NaN</td>\n",
       "      <td>0</td>\n",
       "      <td>@VirginAmerica plus you've added commercials t...</td>\n",
       "      <td>NaN</td>\n",
       "      <td>2015-02-24 11:15:59 -0800</td>\n",
       "      <td>NaN</td>\n",
       "      <td>Pacific Time (US &amp; Canada)</td>\n",
       "    </tr>\n",
       "    <tr>\n",
       "      <th>2</th>\n",
       "      <td>570301083672813571</td>\n",
       "      <td>neutral</td>\n",
       "      <td>0.6837</td>\n",
       "      <td>NaN</td>\n",
       "      <td>NaN</td>\n",
       "      <td>Virgin America</td>\n",
       "      <td>NaN</td>\n",
       "      <td>yvonnalynn</td>\n",
       "      <td>NaN</td>\n",
       "      <td>0</td>\n",
       "      <td>@VirginAmerica I didn't today... Must mean I n...</td>\n",
       "      <td>NaN</td>\n",
       "      <td>2015-02-24 11:15:48 -0800</td>\n",
       "      <td>Lets Play</td>\n",
       "      <td>Central Time (US &amp; Canada)</td>\n",
       "    </tr>\n",
       "    <tr>\n",
       "      <th>3</th>\n",
       "      <td>570301031407624196</td>\n",
       "      <td>negative</td>\n",
       "      <td>1.0000</td>\n",
       "      <td>Bad Flight</td>\n",
       "      <td>0.7033</td>\n",
       "      <td>Virgin America</td>\n",
       "      <td>NaN</td>\n",
       "      <td>jnardino</td>\n",
       "      <td>NaN</td>\n",
       "      <td>0</td>\n",
       "      <td>@VirginAmerica it's really aggressive to blast...</td>\n",
       "      <td>NaN</td>\n",
       "      <td>2015-02-24 11:15:36 -0800</td>\n",
       "      <td>NaN</td>\n",
       "      <td>Pacific Time (US &amp; Canada)</td>\n",
       "    </tr>\n",
       "    <tr>\n",
       "      <th>4</th>\n",
       "      <td>570300817074462722</td>\n",
       "      <td>negative</td>\n",
       "      <td>1.0000</td>\n",
       "      <td>Can't Tell</td>\n",
       "      <td>1.0000</td>\n",
       "      <td>Virgin America</td>\n",
       "      <td>NaN</td>\n",
       "      <td>jnardino</td>\n",
       "      <td>NaN</td>\n",
       "      <td>0</td>\n",
       "      <td>@VirginAmerica and it's a really big bad thing...</td>\n",
       "      <td>NaN</td>\n",
       "      <td>2015-02-24 11:14:45 -0800</td>\n",
       "      <td>NaN</td>\n",
       "      <td>Pacific Time (US &amp; Canada)</td>\n",
       "    </tr>\n",
       "  </tbody>\n",
       "</table>\n",
       "</div>"
      ],
      "text/plain": [
       "             tweet_id airline_sentiment  airline_sentiment_confidence  \\\n",
       "0  570306133677760513           neutral                        1.0000   \n",
       "1  570301130888122368          positive                        0.3486   \n",
       "2  570301083672813571           neutral                        0.6837   \n",
       "3  570301031407624196          negative                        1.0000   \n",
       "4  570300817074462722          negative                        1.0000   \n",
       "\n",
       "  negativereason  negativereason_confidence         airline  \\\n",
       "0            NaN                        NaN  Virgin America   \n",
       "1            NaN                     0.0000  Virgin America   \n",
       "2            NaN                        NaN  Virgin America   \n",
       "3     Bad Flight                     0.7033  Virgin America   \n",
       "4     Can't Tell                     1.0000  Virgin America   \n",
       "\n",
       "  airline_sentiment_gold        name negativereason_gold  retweet_count  \\\n",
       "0                    NaN     cairdin                 NaN              0   \n",
       "1                    NaN    jnardino                 NaN              0   \n",
       "2                    NaN  yvonnalynn                 NaN              0   \n",
       "3                    NaN    jnardino                 NaN              0   \n",
       "4                    NaN    jnardino                 NaN              0   \n",
       "\n",
       "                                                text tweet_coord  \\\n",
       "0                @VirginAmerica What @dhepburn said.         NaN   \n",
       "1  @VirginAmerica plus you've added commercials t...         NaN   \n",
       "2  @VirginAmerica I didn't today... Must mean I n...         NaN   \n",
       "3  @VirginAmerica it's really aggressive to blast...         NaN   \n",
       "4  @VirginAmerica and it's a really big bad thing...         NaN   \n",
       "\n",
       "               tweet_created tweet_location               user_timezone  \n",
       "0  2015-02-24 11:35:52 -0800            NaN  Eastern Time (US & Canada)  \n",
       "1  2015-02-24 11:15:59 -0800            NaN  Pacific Time (US & Canada)  \n",
       "2  2015-02-24 11:15:48 -0800      Lets Play  Central Time (US & Canada)  \n",
       "3  2015-02-24 11:15:36 -0800            NaN  Pacific Time (US & Canada)  \n",
       "4  2015-02-24 11:14:45 -0800            NaN  Pacific Time (US & Canada)  "
      ]
     },
     "execution_count": 2,
     "metadata": {},
     "output_type": "execute_result"
    }
   ],
   "source": [
    "dataset= pd.read_csv('Tweets.csv', sep=',')\n",
    "dataset.head()"
   ]
  },
  {
   "cell_type": "code",
   "execution_count": 3,
   "metadata": {},
   "outputs": [
    {
     "data": {
      "text/html": [
       "<div>\n",
       "<style scoped>\n",
       "    .dataframe tbody tr th:only-of-type {\n",
       "        vertical-align: middle;\n",
       "    }\n",
       "\n",
       "    .dataframe tbody tr th {\n",
       "        vertical-align: top;\n",
       "    }\n",
       "\n",
       "    .dataframe thead th {\n",
       "        text-align: right;\n",
       "    }\n",
       "</style>\n",
       "<table border=\"1\" class=\"dataframe\">\n",
       "  <thead>\n",
       "    <tr style=\"text-align: right;\">\n",
       "      <th></th>\n",
       "      <th>text</th>\n",
       "      <th>airline_sentiment</th>\n",
       "    </tr>\n",
       "  </thead>\n",
       "  <tbody>\n",
       "    <tr>\n",
       "      <th>1</th>\n",
       "      <td>@VirginAmerica plus you've added commercials t...</td>\n",
       "      <td>positive</td>\n",
       "    </tr>\n",
       "    <tr>\n",
       "      <th>3</th>\n",
       "      <td>@VirginAmerica it's really aggressive to blast...</td>\n",
       "      <td>negative</td>\n",
       "    </tr>\n",
       "    <tr>\n",
       "      <th>4</th>\n",
       "      <td>@VirginAmerica and it's a really big bad thing...</td>\n",
       "      <td>negative</td>\n",
       "    </tr>\n",
       "    <tr>\n",
       "      <th>5</th>\n",
       "      <td>@VirginAmerica seriously would pay $30 a fligh...</td>\n",
       "      <td>negative</td>\n",
       "    </tr>\n",
       "    <tr>\n",
       "      <th>6</th>\n",
       "      <td>@VirginAmerica yes, nearly every time I fly VX...</td>\n",
       "      <td>positive</td>\n",
       "    </tr>\n",
       "  </tbody>\n",
       "</table>\n",
       "</div>"
      ],
      "text/plain": [
       "                                                text airline_sentiment\n",
       "1  @VirginAmerica plus you've added commercials t...          positive\n",
       "3  @VirginAmerica it's really aggressive to blast...          negative\n",
       "4  @VirginAmerica and it's a really big bad thing...          negative\n",
       "5  @VirginAmerica seriously would pay $30 a fligh...          negative\n",
       "6  @VirginAmerica yes, nearly every time I fly VX...          positive"
      ]
     },
     "execution_count": 3,
     "metadata": {},
     "output_type": "execute_result"
    }
   ],
   "source": [
    "tweet_df = dataset[dataset['airline_sentiment'] != 'neutral'] #Removing the tweets associated with neutral reviews\n",
    "tweet_df=tweet_df[['text','airline_sentiment']]\n",
    "tweet_df.head()"
   ]
  },
  {
   "cell_type": "markdown",
   "metadata": {},
   "source": [
    "### Preprocessing"
   ]
  },
  {
   "cell_type": "code",
   "execution_count": 4,
   "metadata": {},
   "outputs": [],
   "source": [
    "tweet = tweet_df.text.to_list()"
   ]
  },
  {
   "cell_type": "code",
   "execution_count": 5,
   "metadata": {},
   "outputs": [],
   "source": [
    "def process_tweet(tweet):\n",
    "    \"\"\"Process tweet function.\n",
    "    Input:\n",
    "        tweet: a string containing a tweet\n",
    "    Output:\n",
    "        tweets_clean: a list of words containing the processed tweet\n",
    "    \n",
    "    \"\"\"\n",
    "    stemmer = PorterStemmer()\n",
    "    stopwords_english = stopwords.words('english')\n",
    "    # remove stock market tickers like $GE\n",
    "    tweet = re.sub(r'\\$\\w*', '', tweet)\n",
    "    \n",
    "    # remove old style retweet text \"RT\"\n",
    "    tweet = re.sub(r'^RT[\\s]+', '', tweet)\n",
    "    \n",
    "    # remove hyperlinks\n",
    "    tweet = re.sub(r'https?:\\/\\/.*[\\r\\n]*', '', tweet)\n",
    "    \n",
    "    # remove hashtags\n",
    "    # only removing the hash # sign from the word\n",
    "    tweet = re.sub(r'#', '', tweet)\n",
    "    \n",
    "    # tokenize tweets\n",
    "    tokenizer = TweetTokenizer(preserve_case=False, strip_handles=True,\n",
    "                               reduce_len=True)\n",
    "    tweet_tokens = tokenizer.tokenize(tweet)\n",
    "\n",
    "    tweets_clean = []\n",
    "    for word in tweet_tokens:\n",
    "        if (word not in stopwords_english and  # remove stopwords\n",
    "                word not in string.punctuation):  # remove punctuation\n",
    "            \n",
    "            stem_word = stemmer.stem(word)  # stemming word\n",
    "            tweets_clean.append(stem_word)\n",
    "\n",
    "    return tweets_clean"
   ]
  },
  {
   "cell_type": "code",
   "execution_count": 6,
   "metadata": {},
   "outputs": [
    {
     "data": {
      "text/plain": [
       "['plu', 'ad', 'commerci', 'experi', '...', 'tacki']"
      ]
     },
     "execution_count": 6,
     "metadata": {},
     "output_type": "execute_result"
    }
   ],
   "source": [
    "process_tweet(tweet[0])"
   ]
  },
  {
   "cell_type": "code",
   "execution_count": 7,
   "metadata": {},
   "outputs": [],
   "source": [
    "text_data = []\n",
    "for i in range(len(tweet)):\n",
    "    text_data.append(process_tweet(tweet[i]))"
   ]
  },
  {
   "cell_type": "code",
   "execution_count": 8,
   "metadata": {},
   "outputs": [
    {
     "data": {
      "text/plain": [
       "[['plu', 'ad', 'commerci', 'experi', '...', 'tacki'],\n",
       " ['realli',\n",
       "  'aggress',\n",
       "  'blast',\n",
       "  'obnoxi',\n",
       "  'entertain',\n",
       "  'guest',\n",
       "  'face',\n",
       "  'littl',\n",
       "  'recours'],\n",
       " ['realli', 'big', 'bad', 'thing']]"
      ]
     },
     "execution_count": 8,
     "metadata": {},
     "output_type": "execute_result"
    }
   ],
   "source": [
    "text_data[0:3]"
   ]
  },
  {
   "cell_type": "code",
   "execution_count": 9,
   "metadata": {},
   "outputs": [],
   "source": [
    "dictionary = gensim.corpora.Dictionary(text_data)"
   ]
  },
  {
   "cell_type": "markdown",
   "metadata": {},
   "source": [
    "#### Bag of words -Gensim doc2bow\n"
   ]
  },
  {
   "cell_type": "markdown",
   "metadata": {},
   "source": [
    "Filtering out the tokens that appear in less than 15 documents or in more of 0.5 of the documents. Keeping just the more freqient 100.000 tokens."
   ]
  },
  {
   "cell_type": "code",
   "execution_count": 10,
   "metadata": {},
   "outputs": [],
   "source": [
    "dictionary.filter_extremes(no_below=15, no_above=0.5, keep_n=100000)"
   ]
  },
  {
   "cell_type": "code",
   "execution_count": 11,
   "metadata": {},
   "outputs": [
    {
     "data": {
      "text/plain": [
       "[(12, 1),\n",
       " (125, 1),\n",
       " (210, 1),\n",
       " (229, 1),\n",
       " (240, 1),\n",
       " (247, 1),\n",
       " (256, 1),\n",
       " (258, 1),\n",
       " (280, 1),\n",
       " (333, 1),\n",
       " (341, 2),\n",
       " (423, 1),\n",
       " (607, 1)]"
      ]
     },
     "execution_count": 11,
     "metadata": {},
     "output_type": "execute_result"
    }
   ],
   "source": [
    "bow_corpus = [dictionary.doc2bow(doc) for doc in text_data]\n",
    "bow_corpus[4310]"
   ]
  },
  {
   "cell_type": "code",
   "execution_count": 12,
   "metadata": {},
   "outputs": [
    {
     "name": "stdout",
     "output_type": "stream",
     "text": [
      "Word 11 (\"fli\") appears 1 time.\n",
      "Word 44 (\"think\") appears 1 time.\n",
      "Word 135 (\"problem\") appears 1 time.\n",
      "Word 151 (\"end\") appears 1 time.\n",
      "Word 159 (\"airlin\") appears 1 time.\n",
      "Word 208 (\"like\") appears 1 time.\n",
      "Word 476 (\"continu\") appears 1 time.\n",
      "Word 533 (\"resolut\") appears 1 time.\n",
      "Word 979 (\"especi\") appears 1 time.\n",
      "Word 981 (\"decid\") appears 1 time.\n"
     ]
    }
   ],
   "source": [
    "bow_doc_4310 = bow_corpus[2210]\n",
    "for i in range(len(bow_doc_4310)):\n",
    "    print(\"Word {} (\\\"{}\\\") appears {} time.\".format(bow_doc_4310[i][0], \n",
    "                                               dictionary[bow_doc_4310[i][0]], \n",
    "bow_doc_4310[i][1]))"
   ]
  },
  {
   "cell_type": "markdown",
   "metadata": {},
   "source": [
    "### Topic Modeling"
   ]
  },
  {
   "cell_type": "code",
   "execution_count": 13,
   "metadata": {},
   "outputs": [
    {
     "name": "stdout",
     "output_type": "stream",
     "text": [
      "Topic: 0 Words: 0.076*\"thank\" + 0.018*\"fli\" + 0.016*\"servic\" + 0.016*\"great\"\n",
      "Topic: 1 Words: 0.027*\"plane\" + 0.024*\"bag\" + 0.023*\"time\" + 0.020*\"hour\"\n",
      "Topic: 2 Words: 0.038*\"get\" + 0.033*\"call\" + 0.031*\"hold\" + 0.030*\"help\"\n",
      "Topic: 3 Words: 0.081*\"flight\" + 0.021*\"go\" + 0.021*\"delay\" + 0.016*\"miss\"\n",
      "Topic: 4 Words: 0.101*\"flight\" + 0.063*\"cancel\" + 0.032*\"custom\" + 0.032*\"flightl\"\n"
     ]
    }
   ],
   "source": [
    "lda_model = gensim.models.LdaMulticore(bow_corpus, num_topics=5, id2word=dictionary, passes=15)\n",
    "for idx, topic in lda_model.print_topics(num_words=4):\n",
    "    print('Topic: {} Words: {}'.format(idx, topic))"
   ]
  },
  {
   "cell_type": "markdown",
   "metadata": {},
   "source": [
    "#### Checking the topic for one specific document"
   ]
  },
  {
   "cell_type": "code",
   "execution_count": 14,
   "metadata": {},
   "outputs": [
    {
     "name": "stdout",
     "output_type": "stream",
     "text": [
      "\n",
      "Score: 0.9261821508407593\t \n",
      "Topic: 0.076*\"thank\" + 0.018*\"fli\" + 0.016*\"servic\" + 0.016*\"great\" + 0.014*\"custom\" + 0.013*\"guy\" + 0.011*\"airlin\" + 0.011*\"love\" + 0.011*\"flight\" + 0.011*\"much\"\n",
      "\n",
      "Score: 0.01867743395268917\t \n",
      "Topic: 0.101*\"flight\" + 0.063*\"cancel\" + 0.032*\"custom\" + 0.032*\"flightl\" + 0.030*\"servic\" + 0.014*\"airlin\" + 0.012*\"weather\" + 0.010*\"delay\" + 0.009*\"worst\" + 0.008*\"today\"\n",
      "\n",
      "Score: 0.01841619983315468\t \n",
      "Topic: 0.081*\"flight\" + 0.021*\"go\" + 0.021*\"delay\" + 0.016*\"miss\" + 0.015*\"late\" + 0.014*\"get\" + 0.014*\"i'm\" + 0.013*\"connect\" + 0.011*\"day\" + 0.011*\"seat\"\n",
      "\n",
      "Score: 0.01839832216501236\t \n",
      "Topic: 0.027*\"plane\" + 0.024*\"bag\" + 0.023*\"time\" + 0.020*\"hour\" + 0.019*\"gate\" + 0.019*\"wait\" + 0.018*\"flight\" + 0.018*\"delay\" + 0.014*\"...\" + 0.014*\"us\"\n",
      "\n",
      "Score: 0.018325895071029663\t \n",
      "Topic: 0.038*\"get\" + 0.033*\"call\" + 0.031*\"hold\" + 0.030*\"help\" + 0.028*\"hour\" + 0.021*\"flight\" + 0.020*\"2\" + 0.019*\"can't\" + 0.019*\"phone\" + 0.017*\"tri\"\n"
     ]
    }
   ],
   "source": [
    "for index, score in sorted(lda_model[bow_corpus[2210]], key=lambda tup: -1*tup[1]):\n",
    "    print(\"\\nScore: {}\\t \\nTopic: {}\".format(score, lda_model.print_topic(index, 10)))"
   ]
  },
  {
   "cell_type": "markdown",
   "metadata": {},
   "source": [
    "Comparing the scores, this document is highly associated with the first topic."
   ]
  },
  {
   "cell_type": "markdown",
   "metadata": {},
   "source": [
    "#### Obtaining the score for a new document"
   ]
  },
  {
   "cell_type": "code",
   "execution_count": 15,
   "metadata": {},
   "outputs": [
    {
     "name": "stdout",
     "output_type": "stream",
     "text": [
      "Score: 0.8341799378395081\t Topic: 0.101*\"flight\" + 0.063*\"cancel\" + 0.032*\"custom\" + 0.032*\"flightl\" + 0.030*\"servic\"\n",
      "Score: 0.04300623759627342\t Topic: 0.027*\"plane\" + 0.024*\"bag\" + 0.023*\"time\" + 0.020*\"hour\" + 0.019*\"gate\"\n",
      "Score: 0.0418250635266304\t Topic: 0.038*\"get\" + 0.033*\"call\" + 0.031*\"hold\" + 0.030*\"help\" + 0.028*\"hour\"\n",
      "Score: 0.040550291538238525\t Topic: 0.076*\"thank\" + 0.018*\"fli\" + 0.016*\"servic\" + 0.016*\"great\" + 0.014*\"custom\"\n",
      "Score: 0.04043850302696228\t Topic: 0.081*\"flight\" + 0.021*\"go\" + 0.021*\"delay\" + 0.016*\"miss\" + 0.015*\"late\"\n"
     ]
    }
   ],
   "source": [
    "unseen_document = 'Waiting for the flight was a terrible experience.'\n",
    "\n",
    "bow_vector = dictionary.doc2bow(process_tweet(unseen_document))\n",
    "\n",
    "for index, score in sorted(lda_model[bow_vector], key=lambda tup: -1*tup[1]):\n",
    "    print(\"Score: {}\\t Topic: {}\".format(score, lda_model.print_topic(index, 5)))"
   ]
  },
  {
   "cell_type": "markdown",
   "metadata": {},
   "source": [
    "### Topic Visualization"
   ]
  },
  {
   "cell_type": "markdown",
   "metadata": {},
   "source": [
    "In order to have a better understanding regarding the relationships between the topics."
   ]
  },
  {
   "cell_type": "code",
   "execution_count": 16,
   "metadata": {},
   "outputs": [
    {
     "data": {
      "text/html": [
       "\n",
       "<link rel=\"stylesheet\" type=\"text/css\" href=\"https://cdn.jsdelivr.net/gh/bmabey/pyLDAvis@3.2.2/pyLDAvis/js/ldavis.v1.0.0.css\">\n",
       "\n",
       "\n",
       "<div id=\"ldavis_el16231406121009936481425248024\"></div>\n",
       "<script type=\"text/javascript\">\n",
       "\n",
       "var ldavis_el16231406121009936481425248024_data = {\"mdsDat\": {\"x\": [-0.10961446890946616, -0.10121106962497077, 0.23461120987762835, -0.04811937826363791, 0.024333706920446545], \"y\": [0.0970791364149737, 0.002473496090717188, 0.07206353431816934, 0.025385148169974458, -0.19700131499383466], \"topics\": [1, 2, 3, 4, 5], \"cluster\": [1, 1, 1, 1, 1], \"Freq\": [22.289383351072708, 21.719900893898288, 19.95846165338978, 19.75515039990773, 16.277103701731495]}, \"tinfo\": {\"Term\": [\"thank\", \"cancel\", \"flight\", \"hold\", \"call\", \"flightl\", \"plane\", \"custom\", \"servic\", \"get\", \"help\", \"hour\", \"bag\", \"phone\", \"go\", \"can't\", \"gate\", \"great\", \"delay\", \"wait\", \"late\", \"miss\", \"time\", \"connect\", \"much\", \"airlin\", \"2\", \"sit\", \"fli\", \"need\", \"tarmac\", \"head\", \"door\", \"announc\", \"load\", \"knew\", \"water\", \"item\", \"deplan\", \"engin\", \"728\", \"trust\", \"complain\", \"freez\", \"exactli\", \"jetway\", \"bin\", \"fast\", \"\\ud83d\\ude12\", \"sit\", \"\\u2764\", \"walk\", \"close\", \"front\", \"carrier\", \"captain\", \"stand\", \"id\", \"safe\", \"fuel\", \"plane\", \"come\", \"better\", \"gate\", \"runway\", \"bag\", \"baggag\", \"half\", \"land\", \"board\", \"room\", \"min\", \"30\", \"time\", \"40\", \"pilot\", \"wait\", \"we'r\", \"20\", \"open\", \"claim\", \"us\", \"take\", \"delay\", \"hour\", \"check\", \"minut\", \"left\", \"...\", \"long\", \"still\", \"passeng\", \"leav\", \"jfk\", \"peopl\", \"luggag\", \"get\", \"flight\", \"agent\", \"back\", \"would\", \"way\", \"make\", \"like\", \"hang\", \"onlin\", \"award\", \"locat\", \"autom\", \"speak\", \"hung\", \"nashvil\", \"callback\", \"disconnect\", \"track\", \"hold\", \"800\", \"number\", \"record\", \"answer\", \"desk\", \"phone\", \"call\", \"act\", \"supervisor\", \"talk\", \"center\", \"human\", \"print\", \"drop\", \"cant\", \"reserv\", \"messag\", \"platinum\", \"can't\", \"person\", \"help\", \"tri\", \"2\", \"get\", \"chang\", \"anyon\", \"hour\", \"need\", \"someon\", \"i'v\", \"back\", \"system\", \"pleas\", \"3\", \"day\", \"wait\", \"agent\", \"hr\", \"still\", \"flight\", \"minut\", \"time\", \"...\", \"book\", \"bag\", \"servic\", \"much\", \"card\", \"thank\", \"rock\", \"forward\", \":)\", \"submit\", \"amaz\", \"destinationdragon\", \"flown\", \"\\ud83d\\ude0a\", \"great\", \"snack\", \"view\", \"log\", \"deserv\", \"form\", \"\\u2708\", \"fantast\", \":-)\", \"win\", \"passbook\", \"fan\", \"favorit\", \"beauti\", \"tv\", \"appreci\", \"read\", \"program\", \"\\ufe0f\", \"awesom\", \"love\", \"respons\", \"follow\", \"repli\", \"upgrad\", \"i'll\", \"free\", \"fli\", \"guy\", \"credit\", \"account\", \"ever\", \"southwest\", \"never\", \"best\", \"use\", \"experi\", \"email\", \"year\", \"airlin\", \"jetblu\", \"servic\", \"like\", \"would\", \"custom\", \"look\", \"seat\", \"...\", \"work\", \"ticket\", \"flight\", \"good\", \"time\", \"know\", \"help\", \"la\", \"ua\", \"rout\", \"world\", \"attitud\", \"disgust\", \"media\", \"oscar\", \"catch\", \"social\", \"jet\", \"sfo\", \"blue\", \"orlando\", \"wed\", \"middl\", \"broke\", \"bo\", \"pleasant\", \"seriou\", \"save\", \"slow\", \"usairwaysfail\", \"club\", \"tuesday\", \"attend\", \"exit\", \"iad\", \"despit\", \"crash\", \"connect\", \"go\", \"miss\", \"unit\", \"late\", \"dalla\", \"polici\", \"row\", \"old\", \"tonight\", \"flight\", \"flightr\", \"earli\", \"comput\", \"i'm\", \"delay\", \"u\", \"seat\", \"arriv\", \"day\", \"fail\", \"one\", \"due\", \"avail\", \"get\", \"make\", \"want\", \"check\", \"care\", \"realli\", \"...\", \"need\", \"peopl\", \"airport\", \"help\", \"work\", \"board\", \"\\u201c\", \"flightlat\", \"flightl\", \"fleek\", \"joke\", \"fleet'\", \"hate\", \"famili\", \"high\", \"dividend\", \"volum\", \"\\u201d\", \"\\ud83d\\ude21\", \"rt\", \"cancel\", \"flightat\", \"merg\", \"yall\", \"reflight\", \"onto\", \"notifi\", \"video\", \"forgot\", \"flightd\", \"bna\", \"angri\", \"warm\", \"monday\", \"courtesi\", \"unprofession\", \"notic\", \"anymor\", \"weather\", \"hotel\", \"custom\", \"servic\", \"flight\", \"worst\", \"terribl\", \"rude\", \"anoth\", \"airlin\", \"problem\", \"aw\", \"rebook\", \"today\", \"airport\", \"tomorrow\", \"dfw\", \"got\", \"bad\", \"pay\", \"book\", \"delay\", \"due\", \"us\", \"ever\", \"luggag\", \"call\", \"hour\"], \"Freq\": [1448.0, 977.0, 4010.0, 660.0, 748.0, 487.0, 649.0, 901.0, 932.0, 1324.0, 864.0, 1108.0, 681.0, 420.0, 507.0, 471.0, 493.0, 308.0, 935.0, 711.0, 399.0, 382.0, 837.0, 280.0, 198.0, 487.0, 596.0, 256.0, 526.0, 500.0, 80.69096018269876, 46.83039082185286, 37.97928394736589, 37.268926416434205, 52.7485844165929, 28.735906598413308, 33.62996968873843, 22.957596360670884, 21.668387280577395, 19.17569132378566, 18.756214877149876, 17.591519781280862, 17.402720173133467, 16.926803753209015, 15.33300811613489, 15.477094629442783, 13.661552956746092, 13.591214594820412, 14.717240893779774, 238.30631715231607, 23.759056038616997, 20.356918111040297, 45.54662679451245, 28.11539002645802, 17.766935845238887, 20.593203980841203, 25.358092960969607, 17.197585406726837, 34.814912519523844, 14.561241820418644, 566.4190613255743, 124.37991728343556, 142.21304862052494, 402.3346681968766, 54.304461217521855, 499.58768955898427, 160.47717348660117, 60.50245528654876, 111.63968027433722, 195.18736399287968, 42.902173503860325, 203.12145694545472, 91.07249583255967, 469.9653293369495, 52.90924964454978, 88.73849253811277, 390.2843661537118, 59.63637358748794, 67.2872659221172, 62.424052504010916, 73.42521007809842, 284.22448077932296, 167.95318751048936, 371.2256976465787, 417.76848454387493, 170.9304786936087, 164.7046179152751, 86.96168838863372, 292.3580874097451, 94.75714229210335, 202.25937342950488, 104.11163681811932, 95.00330304721155, 89.70315911168703, 119.08144207089826, 115.04445391611193, 251.62583253712063, 377.90660857314833, 139.25544451033568, 141.116620451544, 136.69959751656538, 113.41225956446135, 116.65134734062111, 112.51723564965984, 78.56055785198454, 156.53547965522898, 30.521671008078496, 37.92706591453188, 42.475612262417634, 108.23383391583086, 83.02467686704848, 18.23637438465396, 19.327217398826566, 55.69634183301682, 22.77881350333757, 630.0321601770542, 34.97917522891234, 168.74006873953198, 32.08682531644474, 170.77683320320466, 67.22119795200767, 384.36910755407354, 674.8685372790006, 15.344676552257004, 34.14501325400582, 110.3771118405558, 23.20915345222719, 47.67486402566011, 14.111791699994098, 44.96267150006059, 33.29865091972356, 166.41015727415632, 59.331912636376984, 29.50357545648943, 392.6475683548912, 97.4321263707473, 607.7718243497759, 348.1155798800817, 399.497553179987, 757.2613050855936, 228.1447464622782, 81.55397900048241, 566.9005452462391, 290.292211602587, 134.90615994993126, 176.7506855952256, 235.46389056155007, 106.08092165492708, 198.95097835956688, 157.43046718915724, 215.8083032629345, 265.2160553898344, 183.64168919406234, 139.20530153220403, 182.33908934527415, 418.7664887195268, 143.95702193107292, 205.2353289577651, 175.68384030257164, 127.61176434544853, 135.20681703417756, 138.1893631319838, 196.4368345820841, 57.743706084785956, 1418.1082138553013, 41.72741663112695, 39.08799710076648, 122.35810040516701, 29.732117429649545, 88.5782220807154, 27.790094948189946, 28.443054198645168, 24.47452127763163, 297.3433025063337, 22.74390870726129, 18.82869898511148, 16.970653794140173, 23.184229421393262, 39.98332157224861, 47.94256312807728, 20.437455252397175, 24.086919166466167, 16.087834741010713, 14.450197143641937, 14.460338160182268, 14.454483296699012, 15.718626380382629, 36.84499814458664, 138.028656013543, 29.144646711218535, 20.99416499528607, 89.8055863004085, 107.48726970129633, 203.76172116692342, 190.74368322716694, 92.68273725609791, 65.72605615951478, 86.74501822367111, 101.9218694594617, 81.41259469228801, 331.7629469350548, 248.04398299947405, 83.40335624014776, 55.44035982097933, 157.76228606708924, 52.39440137224405, 187.686466339117, 109.44301650962281, 125.54495992774936, 126.68331035720323, 126.7124691536177, 75.40007851029088, 208.9612286088449, 84.24271672425796, 303.0158285040714, 162.26381345692323, 168.16427210791278, 253.01795889756406, 110.27874941834969, 148.5874396817684, 195.69333709602023, 133.97638656076455, 114.1109718757929, 200.59028747680443, 108.18303002273258, 131.00642149776766, 105.48610046692013, 105.51231401760674, 64.54670190669452, 36.21848307610241, 35.03933126520511, 32.76232104187363, 29.46829697678486, 25.993754376072154, 32.6061417959147, 24.302246411710446, 25.251331236658583, 23.80182266553438, 42.112395524839805, 76.05194482995545, 42.077587861379655, 23.9292876195501, 21.02271948411708, 24.635960557152426, 16.611598324128416, 60.661208310354226, 15.279560808313088, 15.743407227186129, 22.10814109232219, 18.74476031060899, 27.496481098992852, 33.45087416056308, 29.395182930407092, 134.219453136334, 13.337149562345028, 30.61768936817957, 28.6517723698638, 16.74665487955703, 243.05489940512308, 388.8083118939364, 287.79193296010965, 149.93592321588292, 283.5240680117491, 53.19796736976912, 52.45946185574683, 46.52106843611831, 47.58334549147988, 90.29306240699366, 1484.1398837353147, 106.06821351368009, 62.30621771606194, 47.897969495080645, 261.22856055415014, 385.92312719660475, 154.9899805619157, 195.93883920826886, 94.43945318364716, 204.94820638142846, 84.39463603309183, 173.89819754044615, 103.18446506526439, 66.6734018416909, 264.09380874867225, 130.04344827488967, 97.88737388481057, 103.6967357277219, 73.15122641666969, 94.33391453562663, 136.0038214323927, 110.1233426404657, 87.27786298636543, 90.18559166221715, 113.3151322849507, 90.12060994787093, 82.35015279943312, 84.3988297347128, 64.16320026983682, 478.91577904661716, 36.83830905288684, 50.23354358990733, 35.17304516153238, 43.784800189581134, 76.12498782115183, 33.775973213832714, 29.34640014308853, 27.232291246069963, 58.55646785529334, 32.665953427499026, 32.11658751171448, 945.7027510751966, 24.308043546308333, 20.868513918978778, 18.637533306849257, 44.33096814501428, 20.549772717676962, 29.754862094359275, 20.04451611405206, 16.113194423211482, 19.996916516971442, 18.307562263498493, 19.886498835278932, 16.473054773304725, 30.55757831842328, 12.850417261978048, 15.328362827632517, 20.143339428479354, 18.727453048844456, 180.93159449437036, 98.37488149361698, 485.46914646698605, 460.57157407442264, 1529.2537078058867, 140.53400135614916, 67.60543830191332, 86.0056357561195, 124.39729065401004, 205.55788968637606, 122.19421999430857, 45.381251581656194, 101.73863566173904, 125.90293828641566, 111.66865475111854, 85.95143244135289, 64.85404423332602, 110.52221414100309, 75.0037998274676, 70.77401827308242, 103.5536753921945, 151.85130128113926, 79.83118437359856, 106.649956101146, 76.68704696282454, 63.92428304693187, 67.29682808403751, 68.2270893919844], \"Total\": [1448.0, 977.0, 4010.0, 660.0, 748.0, 487.0, 649.0, 901.0, 932.0, 1324.0, 864.0, 1108.0, 681.0, 420.0, 507.0, 471.0, 493.0, 308.0, 935.0, 711.0, 399.0, 382.0, 837.0, 280.0, 198.0, 487.0, 596.0, 256.0, 526.0, 500.0, 82.07146991500217, 47.76180203020468, 38.80070651232562, 38.11387596739964, 54.252261491368444, 29.623804116960006, 34.78948859894483, 23.790337234502115, 22.464861604942964, 19.970509015357266, 19.65103782947398, 18.46585127685578, 18.28764797912134, 17.796118490715138, 16.132440639550822, 16.29458748366439, 14.457071568133292, 14.449922901565213, 15.798130898272161, 256.3879680306416, 26.1174476885099, 22.422194470957635, 50.637047260966476, 31.288715430698147, 19.792603006339597, 22.953394488806456, 28.299064931260975, 19.275494966889962, 39.123953830493505, 16.467621262325835, 649.4982719314017, 145.5988291586469, 167.6722740201514, 493.0802170679365, 63.439591474525294, 681.8733439791172, 202.97693485265603, 72.27070221196131, 147.59672448687945, 281.67807639657445, 51.23808963710668, 301.6738605570454, 121.76938902290932, 837.8612031302596, 66.1263800289064, 120.70107066988193, 711.6594167120626, 76.72606793918098, 89.01241566642915, 83.05718675107781, 101.9446505125713, 581.7069248299814, 317.59447491181766, 935.0100818069443, 1108.2302214604879, 330.8617726048721, 325.4765899973123, 131.92207840864373, 839.4856619965781, 153.51556699132783, 528.7830227131302, 182.02474357576583, 161.25526905694554, 152.80178307378577, 264.11235310117405, 249.61463016223118, 1324.2766349274457, 4010.656976310681, 407.86488205993675, 448.84167265231036, 418.6061990083462, 267.88470480311116, 406.1017288606638, 366.5571359688602, 80.35942155469797, 160.50248536756393, 31.329239569861535, 39.139849727801334, 43.94488169222109, 112.05580088718413, 86.60861380317152, 19.064955666173, 20.21602515447415, 58.28562020488259, 23.869529054820003, 660.3153418040163, 36.788995748564886, 177.715519907126, 33.92429703613916, 181.81632114559224, 71.88029976965424, 420.12394731625625, 748.4882876992708, 17.23092192240162, 38.840875638117325, 126.31545874277396, 26.85406061491798, 55.33880815731413, 16.448862972275254, 52.4501974953953, 39.21185827102039, 197.14116036414214, 70.81328512761024, 35.21841866364171, 471.6611560292455, 121.17989136248774, 864.1008988201321, 507.04790357215865, 596.8894748910459, 1324.2766349274457, 349.2281676796888, 107.51260518307879, 1108.2302214604879, 500.25660658298483, 200.58220120870607, 297.32126932319875, 448.84167265231036, 159.816433310907, 384.01135391250546, 289.83481091551386, 508.0893325490331, 711.6594167120626, 407.86488205993675, 297.21764827707943, 528.7830227131302, 4010.656976310681, 325.4765899973123, 837.8612031302596, 839.4856619965781, 372.1841930573377, 681.8733439791172, 932.3805664083432, 198.112083307015, 58.9065313575852, 1448.3616076589142, 42.61814064091637, 39.92592479012697, 125.23239762614207, 30.538899708667866, 91.10754263119172, 28.6530182602386, 29.36077474468073, 25.327732424158956, 308.3702285225415, 23.666029863138988, 19.622626416122337, 17.76642775652803, 24.294010063190438, 41.93105779209025, 50.35997713665072, 21.47316861584513, 25.32639325840934, 16.929229434927976, 15.238472777963588, 15.253439911045295, 15.253202421471084, 16.590180959834782, 38.91253268669591, 147.32132112460005, 31.149560807875933, 22.469260698507956, 96.69801782010134, 116.60216138199488, 234.6563606153564, 223.6947525112366, 105.75834578130409, 75.22215879591461, 103.91750141890846, 124.38139129417203, 100.12530121776439, 526.8120767134845, 380.2547623730628, 108.66742894511627, 67.99265679367022, 240.77649657352418, 63.63547885399347, 302.3382897144526, 165.4003630794625, 200.1818718227278, 208.97100306789656, 211.09910301427956, 106.01635507418355, 487.4560514254654, 126.08385555473771, 932.3805664083432, 366.5571359688602, 418.6061990083462, 901.7934813678307, 213.43070645566274, 420.1015996904483, 839.4856619965781, 363.6195266865385, 280.8085378187199, 4010.656976310681, 257.59503622294477, 837.8612031302596, 286.554908645384, 864.1008988201321, 65.8748437197616, 37.04952329241398, 35.92977407629045, 33.60946968343828, 30.27421736237139, 26.789569461333915, 33.621371554800874, 25.09696523298915, 26.118253543606738, 24.631544306553025, 43.59013328899859, 78.82187966425842, 43.784250932402, 24.94862959087787, 21.96508052494472, 25.785210205878077, 17.45301064120474, 63.761160614569725, 16.127858398936194, 16.624495507764045, 23.425250823827607, 20.10967072091479, 29.741705507301408, 36.264781050398476, 32.20521457232574, 148.52758312949175, 14.793351596783646, 34.106809338712054, 32.20671138475769, 19.291623204287504, 280.5195475998296, 507.6913556729219, 382.7070067327137, 195.63746570490028, 399.17746256927796, 63.67594422209617, 64.26858373658803, 56.2278345256601, 58.487507819519706, 127.13781705811587, 4010.656976310681, 160.0686699354336, 82.50369576145005, 59.80734772312454, 555.4216319937217, 935.0100818069443, 301.0827699364388, 420.1015996904483, 160.61109641842327, 508.0893325490331, 139.04896214173095, 490.1225510286156, 221.1444055178942, 105.76283066146267, 1324.2766349274457, 406.1017288606638, 270.4970407428202, 330.8617726048721, 151.74113148384708, 278.3808986834191, 839.4856619965781, 500.25660658298483, 264.11235310117405, 301.30145255081874, 864.1008988201321, 363.6195266865385, 281.67807639657445, 85.53897133635418, 65.05179557864376, 487.8681840116384, 37.63259338991126, 51.36435089118557, 35.96675431624069, 44.85223846410034, 78.18084957101536, 34.69521554854546, 30.205650271920238, 28.03205426733294, 60.37955205138367, 33.68900853923095, 33.1433662593951, 977.2358379309144, 25.180731698906822, 21.686622314601742, 19.478498657703707, 46.69080040706379, 21.979345934111723, 31.863982645237577, 21.479708933170098, 17.492373115418395, 21.832535305836263, 20.57431299181314, 22.50500758736618, 19.09733898317303, 35.97678276374218, 15.402072014964387, 18.497011247125272, 24.343453678979692, 22.6875828179217, 264.48988178704667, 146.86380954457383, 901.7934813678307, 932.3805664083432, 4010.656976310681, 246.43999780893182, 101.91362928807999, 144.4820243427693, 246.60370976682867, 487.4560514254654, 256.7610594719753, 64.01253174976804, 242.74924201521807, 342.9787337048173, 301.30145255081874, 206.14406160488758, 128.56100496844354, 392.03823184378683, 179.00994269352145, 164.27668144400076, 372.1841930573377, 935.0100818069443, 221.1444055178942, 581.7069248299814, 240.77649657352418, 249.61463016223118, 748.4882876992708, 1108.2302214604879], \"Category\": [\"Default\", \"Default\", \"Default\", \"Default\", \"Default\", \"Default\", \"Default\", \"Default\", \"Default\", \"Default\", \"Default\", \"Default\", \"Default\", \"Default\", \"Default\", \"Default\", \"Default\", \"Default\", \"Default\", \"Default\", \"Default\", \"Default\", \"Default\", \"Default\", \"Default\", \"Default\", \"Default\", \"Default\", \"Default\", \"Default\", \"Topic1\", \"Topic1\", \"Topic1\", \"Topic1\", \"Topic1\", \"Topic1\", \"Topic1\", \"Topic1\", \"Topic1\", \"Topic1\", \"Topic1\", \"Topic1\", \"Topic1\", \"Topic1\", \"Topic1\", \"Topic1\", \"Topic1\", \"Topic1\", \"Topic1\", \"Topic1\", \"Topic1\", \"Topic1\", \"Topic1\", \"Topic1\", \"Topic1\", \"Topic1\", \"Topic1\", \"Topic1\", \"Topic1\", \"Topic1\", \"Topic1\", \"Topic1\", \"Topic1\", \"Topic1\", \"Topic1\", \"Topic1\", \"Topic1\", \"Topic1\", \"Topic1\", \"Topic1\", \"Topic1\", \"Topic1\", \"Topic1\", \"Topic1\", \"Topic1\", \"Topic1\", \"Topic1\", \"Topic1\", \"Topic1\", \"Topic1\", \"Topic1\", \"Topic1\", \"Topic1\", \"Topic1\", \"Topic1\", \"Topic1\", \"Topic1\", \"Topic1\", \"Topic1\", \"Topic1\", \"Topic1\", \"Topic1\", \"Topic1\", \"Topic1\", \"Topic1\", \"Topic1\", \"Topic1\", \"Topic1\", \"Topic1\", \"Topic1\", \"Topic1\", \"Topic1\", \"Topic1\", \"Topic1\", \"Topic2\", \"Topic2\", \"Topic2\", \"Topic2\", \"Topic2\", \"Topic2\", \"Topic2\", \"Topic2\", \"Topic2\", \"Topic2\", \"Topic2\", \"Topic2\", \"Topic2\", \"Topic2\", \"Topic2\", \"Topic2\", \"Topic2\", \"Topic2\", \"Topic2\", \"Topic2\", \"Topic2\", \"Topic2\", \"Topic2\", \"Topic2\", \"Topic2\", \"Topic2\", \"Topic2\", \"Topic2\", \"Topic2\", \"Topic2\", \"Topic2\", \"Topic2\", \"Topic2\", \"Topic2\", \"Topic2\", \"Topic2\", \"Topic2\", \"Topic2\", \"Topic2\", \"Topic2\", \"Topic2\", \"Topic2\", \"Topic2\", \"Topic2\", \"Topic2\", \"Topic2\", \"Topic2\", \"Topic2\", \"Topic2\", \"Topic2\", \"Topic2\", \"Topic2\", \"Topic2\", \"Topic2\", \"Topic2\", \"Topic2\", \"Topic2\", \"Topic2\", \"Topic3\", \"Topic3\", \"Topic3\", \"Topic3\", \"Topic3\", \"Topic3\", \"Topic3\", \"Topic3\", \"Topic3\", \"Topic3\", \"Topic3\", \"Topic3\", \"Topic3\", \"Topic3\", \"Topic3\", \"Topic3\", \"Topic3\", \"Topic3\", \"Topic3\", \"Topic3\", \"Topic3\", \"Topic3\", \"Topic3\", \"Topic3\", \"Topic3\", \"Topic3\", \"Topic3\", \"Topic3\", \"Topic3\", \"Topic3\", \"Topic3\", \"Topic3\", \"Topic3\", \"Topic3\", \"Topic3\", \"Topic3\", \"Topic3\", \"Topic3\", \"Topic3\", \"Topic3\", \"Topic3\", \"Topic3\", \"Topic3\", \"Topic3\", \"Topic3\", \"Topic3\", \"Topic3\", \"Topic3\", \"Topic3\", \"Topic3\", \"Topic3\", \"Topic3\", \"Topic3\", \"Topic3\", \"Topic3\", \"Topic3\", \"Topic3\", \"Topic3\", \"Topic3\", \"Topic3\", \"Topic3\", \"Topic3\", \"Topic3\", \"Topic3\", \"Topic3\", \"Topic3\", \"Topic4\", \"Topic4\", \"Topic4\", \"Topic4\", \"Topic4\", \"Topic4\", \"Topic4\", \"Topic4\", \"Topic4\", \"Topic4\", \"Topic4\", \"Topic4\", \"Topic4\", \"Topic4\", \"Topic4\", \"Topic4\", \"Topic4\", \"Topic4\", \"Topic4\", \"Topic4\", \"Topic4\", \"Topic4\", \"Topic4\", \"Topic4\", \"Topic4\", \"Topic4\", \"Topic4\", \"Topic4\", \"Topic4\", \"Topic4\", \"Topic4\", \"Topic4\", \"Topic4\", \"Topic4\", \"Topic4\", \"Topic4\", \"Topic4\", \"Topic4\", \"Topic4\", \"Topic4\", \"Topic4\", \"Topic4\", \"Topic4\", \"Topic4\", \"Topic4\", \"Topic4\", \"Topic4\", \"Topic4\", \"Topic4\", \"Topic4\", \"Topic4\", \"Topic4\", \"Topic4\", \"Topic4\", \"Topic4\", \"Topic4\", \"Topic4\", \"Topic4\", \"Topic4\", \"Topic4\", \"Topic4\", \"Topic4\", \"Topic4\", \"Topic4\", \"Topic4\", \"Topic4\", \"Topic4\", \"Topic5\", \"Topic5\", \"Topic5\", \"Topic5\", \"Topic5\", \"Topic5\", \"Topic5\", \"Topic5\", \"Topic5\", \"Topic5\", \"Topic5\", \"Topic5\", \"Topic5\", \"Topic5\", \"Topic5\", \"Topic5\", \"Topic5\", \"Topic5\", \"Topic5\", \"Topic5\", \"Topic5\", \"Topic5\", \"Topic5\", \"Topic5\", \"Topic5\", \"Topic5\", \"Topic5\", \"Topic5\", \"Topic5\", \"Topic5\", \"Topic5\", \"Topic5\", \"Topic5\", \"Topic5\", \"Topic5\", \"Topic5\", \"Topic5\", \"Topic5\", \"Topic5\", \"Topic5\", \"Topic5\", \"Topic5\", \"Topic5\", \"Topic5\", \"Topic5\", \"Topic5\", \"Topic5\", \"Topic5\", \"Topic5\", \"Topic5\", \"Topic5\", \"Topic5\", \"Topic5\", \"Topic5\", \"Topic5\", \"Topic5\", \"Topic5\", \"Topic5\", \"Topic5\", \"Topic5\"], \"logprob\": [30.0, 29.0, 28.0, 27.0, 26.0, 25.0, 24.0, 23.0, 22.0, 21.0, 20.0, 19.0, 18.0, 17.0, 16.0, 15.0, 14.0, 13.0, 12.0, 11.0, 10.0, 9.0, 8.0, 7.0, 6.0, 5.0, 4.0, 3.0, 2.0, 1.0, -5.5479, -6.092, -6.3015, -6.3204, -5.973, -6.5804, -6.4232, -6.8049, -6.8627, -6.9849, -7.007, -7.0712, -7.0819, -7.1097, -7.2086, -7.1992, -7.324, -7.3292, -7.2496, -4.465, -6.7706, -6.9252, -6.1198, -6.6023, -7.0612, -6.9136, -6.7055, -7.0938, -6.3885, -7.2602, -3.5992, -5.1152, -4.9812, -3.9413, -5.944, -3.7248, -4.8604, -5.8359, -5.2233, -4.6646, -6.1797, -4.6248, -5.4269, -3.7859, -5.97, -5.4529, -3.9717, -5.8503, -5.7296, -5.8046, -5.6423, -4.2888, -4.8149, -4.0218, -3.9036, -4.7973, -4.8344, -5.4731, -4.2606, -5.3873, -4.629, -5.2931, -5.3847, -5.4421, -5.1588, -5.1933, -4.4106, -4.0039, -5.0023, -4.989, -5.0208, -5.2075, -5.1794, -5.2155, -5.5488, -4.8594, -6.4943, -6.277, -6.1638, -5.2284, -5.4936, -7.0093, -6.9512, -5.8928, -6.7869, -3.4669, -6.3579, -4.7843, -6.4442, -4.7723, -5.7047, -3.9611, -3.3982, -7.1819, -6.3821, -5.2088, -6.7681, -6.0483, -7.2657, -6.1069, -6.4072, -4.7982, -5.8295, -6.5282, -3.9398, -5.3335, -3.5029, -4.0602, -3.9225, -3.283, -4.4827, -5.5114, -3.5725, -4.2418, -5.0081, -4.738, -4.4511, -5.2485, -4.6196, -4.8537, -4.5383, -4.3321, -4.6997, -4.9767, -4.7068, -3.8754, -4.9432, -4.5885, -4.744, -5.0637, -5.0059, -4.9841, -4.5478, -5.7721, -2.571, -6.097, -6.1623, -5.0212, -6.4359, -5.3442, -6.5034, -6.4802, -6.6305, -4.1332, -6.7038, -6.8927, -6.9966, -6.6846, -6.1397, -5.9581, -6.8107, -6.6464, -7.0501, -7.1574, -7.1567, -7.1571, -7.0733, -6.2214, -4.9007, -6.4558, -6.7839, -5.3305, -5.1507, -4.5112, -4.5772, -5.2989, -5.6426, -5.3651, -5.2039, -5.4286, -4.0237, -4.3145, -5.4044, -5.8128, -4.767, -5.8693, -4.5933, -5.1327, -4.9955, -4.9864, -4.9862, -5.5053, -4.486, -5.3944, -4.1143, -4.7389, -4.7032, -4.2947, -5.1251, -4.8269, -4.5516, -4.9305, -5.0909, -4.5269, -5.1443, -4.9529, -5.1695, -5.1693, -5.6505, -6.2283, -6.2614, -6.3286, -6.4346, -6.56, -6.3334, -6.6273, -6.589, -6.6481, -6.0775, -5.4865, -6.0784, -6.6428, -6.7723, -6.6137, -7.0078, -5.7126, -7.0914, -7.0615, -6.7219, -6.887, -6.5038, -6.3078, -6.437, -4.9184, -7.2273, -6.3963, -6.4627, -6.9997, -4.3246, -3.8548, -4.1556, -4.8077, -4.1706, -5.8439, -5.8578, -5.978, -5.9554, -5.3148, -2.5153, -5.1538, -5.6858, -5.9488, -4.2525, -3.8622, -4.7745, -4.5401, -5.2699, -4.4951, -5.3824, -4.6594, -5.1814, -5.6181, -4.2416, -4.95, -5.2341, -5.1764, -5.5253, -5.271, -4.9052, -5.1163, -5.3488, -5.316, -5.0877, -5.3167, -5.4069, -5.1887, -5.4628, -3.4527, -6.0177, -5.7075, -6.0639, -5.8449, -5.2918, -6.1045, -6.2451, -6.3198, -5.5542, -6.1379, -6.1549, -2.7723, -6.4334, -6.586, -6.699, -5.8325, -6.6014, -6.2312, -6.6263, -6.8446, -6.6286, -6.7169, -6.6342, -6.8225, -6.2046, -7.0708, -6.8945, -6.6213, -6.6942, -4.4261, -5.0354, -3.4391, -3.4918, -2.2917, -4.6788, -5.4105, -5.1698, -4.8007, -4.2985, -4.8186, -5.8091, -5.0018, -4.7887, -4.9087, -5.1704, -5.4521, -4.919, -5.3067, -5.3647, -4.9841, -4.6013, -5.2443, -4.9547, -5.2845, -5.4665, -5.4151, -5.4014], \"loglift\": [30.0, 29.0, 28.0, 27.0, 26.0, 25.0, 24.0, 23.0, 22.0, 21.0, 20.0, 19.0, 18.0, 17.0, 16.0, 15.0, 14.0, 13.0, 12.0, 11.0, 10.0, 9.0, 8.0, 7.0, 6.0, 5.0, 4.0, 3.0, 2.0, 1.0, 1.4841, 1.4814, 1.4797, 1.4786, 1.473, 1.4706, 1.4672, 1.4654, 1.465, 1.4604, 1.4545, 1.4526, 1.4515, 1.451, 1.4502, 1.4496, 1.4445, 1.4398, 1.4302, 1.4279, 1.4064, 1.4044, 1.3951, 1.3941, 1.3931, 1.3926, 1.3913, 1.387, 1.3844, 1.378, 1.3642, 1.3435, 1.3364, 1.2977, 1.3456, 1.19, 1.2661, 1.3233, 1.2219, 1.1343, 1.3235, 1.1055, 1.2106, 0.9229, 1.2781, 1.1934, 0.9003, 1.2491, 1.2213, 1.2155, 1.1729, 0.7849, 0.864, 0.5773, 0.5255, 0.8406, 0.8199, 1.0843, 0.4462, 1.0186, 0.54, 0.9424, 0.972, 0.9684, 0.7045, 0.7265, -0.1596, -0.861, 0.4264, 0.344, 0.3819, 0.6415, 0.2536, 0.32, 1.5043, 1.5019, 1.5008, 1.4955, 1.4929, 1.4922, 1.4847, 1.4825, 1.482, 1.4815, 1.4802, 1.48, 1.4765, 1.4751, 1.4713, 1.4643, 1.4599, 1.438, 1.4234, 1.411, 1.3981, 1.3921, 1.3811, 1.3779, 1.3737, 1.3729, 1.3635, 1.3575, 1.35, 1.3499, 1.3436, 1.3088, 1.1751, 1.1509, 1.1254, 0.968, 1.1012, 1.2506, 0.8566, 0.9827, 1.1303, 1.0069, 0.8818, 1.1171, 0.8693, 0.9166, 0.6707, 0.5399, 0.729, 0.7684, 0.4622, -0.7325, 0.7112, 0.1202, -0.0372, 0.4565, -0.0911, -0.3822, 1.603, 1.5916, 1.5904, 1.5904, 1.5903, 1.5883, 1.5847, 1.5834, 1.5809, 1.5798, 1.5772, 1.5751, 1.5718, 1.5702, 1.5657, 1.5648, 1.564, 1.5623, 1.5621, 1.5613, 1.5605, 1.5584, 1.5581, 1.5577, 1.5576, 1.5569, 1.5464, 1.545, 1.5436, 1.5376, 1.5301, 1.4703, 1.4522, 1.4795, 1.4766, 1.4309, 1.4124, 1.4046, 1.1491, 1.1843, 1.3469, 1.4074, 1.1887, 1.4171, 1.1347, 1.1986, 1.145, 1.111, 1.1011, 1.2707, 0.7645, 1.2083, 0.4876, 0.7966, 0.6995, 0.3406, 0.9512, 0.5722, 0.1553, 0.6131, 0.711, -1.3839, 0.744, -0.2441, 0.6122, -0.4913, 1.6014, 1.5991, 1.5967, 1.5962, 1.5948, 1.5916, 1.5911, 1.5896, 1.588, 1.5875, 1.5873, 1.586, 1.582, 1.58, 1.5779, 1.5762, 1.5723, 1.5719, 1.5677, 1.5673, 1.5639, 1.5515, 1.5433, 1.541, 1.5305, 1.5205, 1.5181, 1.5138, 1.5048, 1.4803, 1.4784, 1.355, 1.3367, 1.3557, 1.2796, 1.442, 1.4187, 1.4322, 1.4154, 1.2795, 0.6276, 1.2102, 1.341, 1.3997, 0.8674, 0.7368, 0.9577, 0.8591, 1.0907, 0.7139, 1.1224, 0.5856, 0.8595, 1.1604, 0.0094, 0.483, 0.6053, 0.4615, 0.8921, 0.5396, -0.1984, 0.1082, 0.5145, 0.4155, -0.4098, 0.2268, 0.392, 1.802, 1.8017, 1.7969, 1.7941, 1.7931, 1.7931, 1.7913, 1.7888, 1.7886, 1.7866, 1.7865, 1.7848, 1.7846, 1.7839, 1.7826, 1.7801, 1.777, 1.7713, 1.7635, 1.7482, 1.7469, 1.7463, 1.7333, 1.7276, 1.6987, 1.6917, 1.6676, 1.6521, 1.6343, 1.6275, 1.626, 1.6236, 1.4357, 1.4147, 1.1961, 1.1101, 0.8512, 1.2537, 1.405, 1.2967, 1.1311, 0.9519, 1.0729, 1.4714, 0.9458, 0.8133, 0.8228, 0.9406, 1.1311, 0.5493, 0.9455, 0.9734, 0.5361, -0.0022, 0.7965, 0.119, 0.6713, 0.4532, -0.5935, -0.9723]}, \"token.table\": {\"Topic\": [1, 2, 3, 4, 5, 1, 2, 3, 4, 5, 1, 2, 4, 5, 1, 2, 3, 4, 5, 1, 2, 5, 1, 2, 5, 1, 2, 4, 3, 4, 5, 3, 1, 2, 3, 4, 5, 2, 3, 1, 2, 4, 5, 1, 2, 3, 4, 5, 1, 2, 4, 5, 1, 3, 4, 3, 5, 1, 1, 2, 3, 4, 5, 2, 3, 4, 5, 3, 5, 1, 2, 3, 4, 5, 1, 2, 3, 5, 1, 4, 2, 3, 4, 4, 2, 3, 1, 2, 3, 4, 5, 1, 4, 5, 2, 1, 3, 4, 1, 2, 3, 4, 5, 1, 2, 3, 5, 1, 2, 3, 4, 5, 1, 2, 4, 5, 3, 1, 3, 4, 5, 1, 2, 3, 5, 1, 3, 4, 2, 5, 1, 3, 4, 1, 2, 3, 4, 5, 2, 3, 4, 5, 4, 1, 2, 3, 4, 5, 2, 1, 2, 3, 4, 5, 2, 3, 4, 5, 2, 5, 1, 2, 3, 3, 1, 2, 3, 4, 5, 1, 5, 4, 1, 2, 3, 1, 2, 3, 4, 5, 1, 2, 3, 4, 5, 1, 2, 5, 1, 3, 4, 1, 4, 1, 2, 4, 1, 1, 2, 4, 1, 2, 4, 5, 2, 5, 1, 3, 4, 2, 3, 5, 1, 2, 3, 4, 5, 1, 2, 4, 1, 2, 3, 4, 5, 1, 2, 3, 4, 5, 1, 2, 3, 2, 3, 4, 1, 2, 4, 3, 1, 2, 4, 5, 2, 5, 4, 5, 1, 1, 2, 1, 2, 3, 4, 5, 1, 4, 1, 2, 3, 4, 5, 1, 1, 2, 3, 5, 1, 3, 4, 1, 3, 4, 5, 1, 2, 4, 5, 2, 3, 5, 3, 3, 1, 3, 5, 5, 1, 2, 3, 4, 5, 1, 2, 3, 4, 5, 5, 1, 5, 2, 5, 5, 1, 2, 4, 5, 3, 1, 2, 3, 1, 5, 3, 5, 3, 1, 2, 3, 4, 1, 1, 3, 5, 1, 4, 1, 2, 3, 4, 5, 1, 2, 3, 4, 5, 1, 2, 3, 4, 1, 2, 3, 4, 5, 1, 2, 3, 4, 5, 2, 3, 4, 5, 1, 2, 3, 4, 5, 1, 2, 3, 5, 2, 5, 5, 1, 2, 3, 4, 5, 5, 2, 3, 5, 1, 3, 4, 5, 1, 2, 3, 4, 5, 1, 2, 4, 5, 1, 2, 5, 2, 5, 1, 3, 4, 1, 2, 3, 4, 5, 1, 2, 3, 4, 5, 2, 4, 1, 4, 1, 3, 4, 1, 3, 4, 5, 1, 1, 2, 3, 4, 5, 5, 1, 1, 2, 3, 4, 5, 4, 1, 2, 3, 4, 5, 1, 2, 4, 5, 1, 2, 4, 5, 1, 2, 4, 5, 1, 2, 3, 4, 5, 1, 4, 2, 4, 3, 1, 2, 3, 4, 5, 1, 2, 3, 4, 5, 1, 3, 4, 5, 1, 2, 4, 5, 1, 2, 3, 4, 5, 4, 5, 2, 3, 5, 3, 4, 1, 2, 4, 5, 1, 2, 3, 5, 1, 2, 3, 4, 5, 2, 3, 5, 1, 3, 4, 2, 1, 2, 4, 5, 1, 2, 3, 4, 5, 1, 3, 5, 1, 3, 5, 1, 2, 4, 5, 3, 4, 1, 2, 3, 4, 5, 2, 3, 4, 2, 5, 1, 3, 4, 5, 4, 4, 3, 1, 2, 4, 5, 1, 2, 3, 4, 5, 1, 2, 3, 4, 5, 2, 4, 5, 1, 2, 3, 4, 5, 1, 3, 4, 1, 3, 4, 5, 2, 4, 5, 1, 2, 3, 4, 5, 4, 4, 5, 2, 4, 2, 3, 4, 5, 1, 3, 2, 3, 1, 2, 3, 4, 5, 2, 3, 4, 5, 2, 3, 4, 4, 5, 2, 3, 2, 3, 4, 5, 2, 3, 4, 5, 3, 1, 3, 4, 4, 1, 3, 4, 5, 1, 2, 4, 5, 1, 4, 5, 1, 5, 2, 4, 1, 3, 4, 5, 4, 1, 2, 3, 4, 5, 1, 4, 1, 2, 4, 5, 4, 5, 3, 4, 1, 2, 3, 4, 5, 1, 3, 5, 2, 5, 1, 3, 1, 2, 3, 4, 5, 3, 2, 3, 1, 2, 3, 4, 5, 1, 2, 3, 4, 5, 2, 3, 4, 5, 1, 4, 1, 2, 3, 4, 5, 1, 2, 3, 4, 5, 1, 2, 3, 4, 5, 1, 2, 3, 4, 5, 1, 2, 3, 4, 5, 1, 2, 3, 4, 5, 1, 2, 3, 4, 5, 2, 1, 2, 3, 4, 5, 1, 2, 4, 1, 3, 4, 1, 2, 3, 4, 5, 4, 1, 2, 3, 4, 5, 1, 5, 1, 2, 3, 4, 1, 2, 3, 4, 5, 2, 4, 2, 3, 4, 1, 5, 3, 5, 1, 2, 3, 4, 5, 1, 2, 5, 1, 2, 3, 4, 5, 2, 5, 1, 1, 2, 3, 4, 5, 1, 2, 5, 1, 2, 3, 4, 5, 4, 3, 1, 2, 3, 4, 5, 4, 1, 3, 4, 5, 1, 2, 3, 4, 5, 5, 1, 3, 4, 5, 5, 3, 5, 1, 3, 4, 1, 3, 1, 3, 4, 3, 1, 5], \"Freq\": [0.3478320276555125, 0.2096521810526377, 0.23347629253589197, 0.16200395808612914, 0.047648222966508565, 0.11727464286881177, 0.6684654643522271, 0.0033507040819660506, 0.11727464286881177, 0.0921443622540664, 0.7527039851505671, 0.12357826621874983, 0.022468775676136334, 0.1011094905426135, 0.2622183296752225, 0.5416878652501308, 0.02070144707962283, 0.14836037073729696, 0.02760192943949711, 0.7473142530334905, 0.2217306025483983, 0.024636733616488698, 0.8014955601203582, 0.10585790416683977, 0.09073534642871979, 0.9668700536265057, 0.9513714437656354, 0.027182041250446726, 0.9741888066713232, 0.007985154153043633, 0.007985154153043633, 0.9476280240586991, 0.014707470588104671, 0.07353735294052335, 0.8089108823457569, 0.014707470588104671, 0.08824482352862803, 0.8705280000426885, 0.0580352000028459, 0.34079913744467366, 0.45112979345194215, 0.16181829547732707, 0.04413226240290738, 0.0430808068513865, 0.002051466992923167, 0.42875660152094186, 0.1046248166390815, 0.42260220054217235, 0.265514816880967, 0.06305976900922966, 0.29870416899108787, 0.3717207436333538, 0.01097603964633372, 0.9768675285237012, 0.01097603964633372, 0.08886911022961647, 0.8886911022961647, 0.9707750539894607, 0.1986993628211473, 0.13381793822648697, 0.08515686978049171, 0.08110178074332544, 0.5028310406086177, 0.940509624892636, 0.0055000562859218475, 0.03300033771553109, 0.016500168857765545, 0.13223092226599817, 0.837462507684655, 0.055807409650085654, 0.7627012652178372, 0.018602469883361884, 0.0651086445917666, 0.10231358435849036, 0.047515186169689624, 0.006787883738527089, 0.9367279559167383, 0.006787883738527089, 0.41093051147634974, 0.5852646678602557, 0.006732756158350491, 0.08752583005855638, 0.9021893252189658, 0.9579108074993493, 0.9557427027374302, 0.02275577863660548, 0.11346141101698501, 0.10400629343223625, 0.056730705508492504, 0.6334928781781662, 0.10400629343223625, 0.015621941089740191, 0.26557299852558325, 0.7029873490383086, 0.9894909811287517, 0.008576170356945158, 0.917650228193132, 0.06860936285556127, 0.31414195381368676, 0.5235699230228112, 0.09357419900833223, 0.040103228146428097, 0.02896344255019807, 0.1061393558039926, 0.11731191957283393, 0.3575220406029225, 0.4189711413315498, 0.7332740081643562, 0.19798398220437616, 0.0029330960326574246, 0.06012846866947721, 0.007332740081643562, 0.7882669039028812, 0.1330200400336112, 0.014780004448179023, 0.05912001779271609, 0.9644258877426579, 0.0846431031912188, 0.6590070177030607, 0.22369962986250683, 0.030229679711149572, 0.8468901661280861, 0.04174810678096199, 0.017892045763269426, 0.08946022881634712, 0.9683842217990548, 0.022839262490613084, 0.9592490246057496, 0.0972085921311605, 0.8748773291804445, 0.015683528818506095, 0.015683528818506095, 0.9566952579288717, 0.6922796495012256, 0.007100304097448468, 0.003550152048724234, 0.29111246799538715, 0.003550152048724234, 0.3439157341652085, 0.1585236587167758, 0.2203210171995867, 0.27943153400923193, 0.9740439829827852, 0.004008078749263404, 0.9018177185842658, 0.002672052499508936, 0.001336026249754468, 0.08951375873354935, 0.9398484546204167, 0.0021201661133570106, 0.8332252825493052, 0.0021201661133570106, 0.15265196016170476, 0.010600830566785053, 0.029675538774142002, 0.0010232944404876554, 0.0020465888809753107, 0.9680365407013218, 0.841582150274901, 0.12751244701134865, 0.9148973590917432, 0.04356654090913063, 0.04356654090913063, 0.9846106817581532, 0.17793461625053297, 0.02636068388896785, 0.21747564208398476, 0.48108248097366324, 0.09226239361138748, 0.9094306592333801, 0.050523925512965556, 0.9571849801618736, 0.11171494855170762, 0.8564812722297585, 0.03723831618390254, 0.002863457454317366, 0.6528682995843595, 0.12599212798996412, 0.21475930907380247, 0.002863457454317366, 0.51683214610657, 0.14205327992402803, 0.009067230633448596, 0.31433066195955134, 0.021156871478046724, 0.7160748468209032, 0.22561262297096948, 0.049046222384993364, 0.9084257966885653, 0.05924516065360208, 0.019748386884534026, 0.05514992623891835, 0.9099737829421528, 0.8516552002275206, 0.08241824518330845, 0.06181368388748133, 0.9295891970038235, 0.03344070713951254, 0.1672035356975627, 0.802576971348301, 0.0855555350967441, 0.010694441887093013, 0.8662497928545341, 0.035648139623643375, 0.12985265865896709, 0.8440422812832861, 0.051835969913498675, 0.051835969913498675, 0.8812114885294775, 0.09202389434510883, 0.7637983230644032, 0.13803584151766324, 0.005544506700598515, 0.13195925947424467, 0.28055203905028486, 0.04324715226466842, 0.537817149958056, 0.015704517808359256, 0.14134066027523332, 0.8323394438430406, 0.005904473500652536, 0.4251220920469826, 0.09643973384399142, 0.4034723558779233, 0.0688855241742796, 0.39678716542074893, 0.026737679610562597, 0.0010695071844225039, 0.41282977318708647, 0.16256509203222058, 0.979307168095766, 0.04116240988617891, 0.9467354273821149, 0.9321051834050007, 0.013912017662761204, 0.04173605298828362, 0.06209885809535121, 0.031049429047675606, 0.9004334423825926, 0.9772094424989501, 0.29557951891654427, 0.11667612588810958, 0.08556249231794702, 0.5055965455151415, 0.960785864560619, 0.03431378087716496, 0.9705269820601813, 0.960085273415185, 0.9793636099881, 0.13345993598240585, 0.8579567313154661, 0.12661410056667402, 0.04521932163095501, 0.004521932163095501, 0.46575901279883664, 0.3617545730476401, 0.23029271385534433, 0.7514814873174394, 0.028422669326047003, 0.18001023906496436, 0.6016131674013282, 0.056845338652094006, 0.13737623507589383, 0.9514028904014942, 0.020766146493344236, 0.004153229298668847, 0.6562102291896779, 0.31979865599750124, 0.929803514244801, 0.06759793367024541, 0.8787731377131904, 0.019141411685239237, 0.6077398210063458, 0.09092170550488639, 0.2823358223572788, 0.17979278388656939, 0.07191711355462775, 0.604103753858873, 0.13664251575379271, 0.012790856142995131, 0.012790856142995131, 0.9721050668676299, 0.9178257548228412, 0.9313949123112613, 0.9688633008888596, 0.917840045202113, 0.9831902791456077, 0.9731208908165463, 0.15944964763153063, 0.007592840363406221, 0.6302057501627164, 0.14236575681386665, 0.06264093299810132, 0.0942488979318581, 0.10447166199325011, 0.05011647747170232, 0.3700141918806281, 0.3812342987772779, 0.9531097144822809, 0.04580320086475163, 0.9160640172950326, 0.016397871929703774, 0.9818225817910133, 0.9838314135791655, 0.31861325530206325, 0.01249463746282601, 0.6622157855297784, 0.006247318731413005, 0.9536533093382605, 0.009455518546667544, 0.11346622256001053, 0.8793632248400816, 0.057167772114268746, 0.9146843538282999, 0.9539468381249728, 0.02384867095312432, 0.9768089331682572, 0.029962456676911702, 0.019974971117941134, 0.8089863302766159, 0.12983731226661738, 0.9552644869649244, 0.8948913247019561, 0.03196040445364129, 0.06392080890728258, 0.9108783691981417, 0.06072522461320944, 0.8152831650607725, 0.024336810897336494, 0.0020280675747780413, 0.15616120325790916, 0.0020280675747780413, 0.19029256678972256, 0.5716328296024602, 0.024919264698654145, 0.19935411758923316, 0.014347455432558448, 0.16742455637704595, 0.06303042122429965, 0.001969700663259364, 0.7662135580078927, 0.21739549341134357, 0.003882062382345421, 0.4192627372933055, 0.13975424576443515, 0.221277555793689, 0.17345247089854124, 0.3264987687501953, 0.20406173046887205, 0.015304629785165403, 0.28313565102556, 0.0032428552029525807, 0.9631279952769165, 0.0032428552029525807, 0.029185696826573227, 0.08941373879926075, 0.07100502787000118, 0.652194330065196, 0.09204355464629782, 0.09467337049333491, 0.8440488072344213, 0.05534746276947025, 0.027673731384735126, 0.08302119415420538, 0.9830832336968396, 0.012444091565782781, 0.9809989758976585, 0.9840499730365511, 0.703621534047911, 0.12267085955440551, 0.13077176537403606, 0.04281907361804721, 0.9799622069627232, 0.9540895994916714, 0.0015144279357010657, 0.043918410135330904, 0.12937155899005476, 0.006809029420529198, 0.19065282377481754, 0.6672848832118614, 0.3771779472401828, 0.5116265456583341, 0.0009023395866990019, 0.0496286772684451, 0.06135909189553213, 0.2893502471960447, 0.46767074837500244, 0.2052368032437061, 0.03700991533902897, 0.018070501214215794, 0.8673840582823582, 0.10842300728529478, 0.9583342390010706, 0.03463858695184593, 0.1607957572423224, 0.8200583619358442, 0.016079575724232242, 0.13323211725544834, 0.17284166562868972, 0.1314316832384828, 0.4699132784280002, 0.0900217008482759, 0.026906921318513938, 0.5953156341721209, 0.25561575252588237, 0.0033633651648142422, 0.11771778076849847, 0.08795897529455877, 0.9089094113771073, 0.8819488178747865, 0.05187934222792862, 0.966779065520941, 0.022940971374647828, 0.9635207977352088, 0.10310598405167119, 0.6662232815646446, 0.22207442718821488, 0.007931229542436245, 0.920551073479937, 0.5889983623852105, 0.006544426248724562, 0.006544426248724562, 0.33376573868495263, 0.06544426248724561, 0.9734377857889039, 0.9789424709096402, 0.3489732577701243, 0.1395893031080497, 0.3664219206586305, 0.07677411670942734, 0.06979465155402485, 0.9867196084216415, 0.7588244277735052, 0.013550436210241164, 0.006775218105120582, 0.13550436210241165, 0.09485305347168815, 0.2755666597307189, 0.0025051514520974447, 0.7114630123956742, 0.010020605808389779, 0.5891280362842084, 0.012402695500720177, 0.3038660397676443, 0.09302021625540133, 0.6594802102079347, 0.07580232301240628, 0.11370348451860941, 0.1591848783260532, 0.30827390578913616, 0.06820219154626907, 0.44195020121982354, 0.06820219154626907, 0.11185159413588128, 0.9769178010843349, 0.018432411341213865, 0.9708775139473341, 0.02554940826177195, 0.9568608970226771, 0.6188297503755211, 0.12376595007510424, 0.05862597635136516, 0.13679394481985205, 0.06513997372373907, 0.32328993866837896, 0.009370722859953013, 0.5153897572974158, 0.11713403574941267, 0.03279753000983555, 0.04261550794436714, 0.8693563620650896, 0.051138609533240564, 0.03835395714993042, 0.4607101752219349, 0.2283519998926112, 0.052080280677262204, 0.25639522794959857, 0.2881051512098917, 0.06894824131518777, 0.24624371898281344, 0.3201168346776575, 0.07879799007450031, 0.9815185542389883, 0.9683389001458547, 0.8331769934649703, 0.12709479561330056, 0.02824328791406679, 0.038781921575028966, 0.9695480393757241, 0.6729121297587979, 0.2585573700551046, 0.006629676155259092, 0.05966708539733183, 0.5069489022278454, 0.44242813285339233, 0.003072417589259669, 0.04608626383889503, 0.07838894891452117, 0.007838894891452116, 0.002612964963817372, 0.7525339095794031, 0.1593908627928597, 0.1111828154915299, 0.027795703872882476, 0.8616668200593568, 0.005047647691687217, 0.9893389475706945, 0.005047647691687217, 0.9441406691512767, 0.19589946181698914, 0.579702489050274, 0.21988715101906944, 0.003997948200346717, 0.14553234405591292, 0.07607372530195448, 0.6218200155116279, 0.009922659821994063, 0.14553234405591292, 0.04107880554612878, 0.12323641663838633, 0.8215761109225755, 0.03138339645529091, 0.03138339645529091, 0.9415018936587273, 0.016880911704097636, 0.9509580259975002, 0.022507882272130183, 0.011253941136065091, 0.17097668156519716, 0.8206880715129464, 0.22443366412980598, 0.2427964184676992, 0.06937040527648548, 0.3550132505326022, 0.10609591395227191, 0.9781779991783743, 0.006230433115785824, 0.012460866231571648, 0.04549725924500829, 0.9554424441451741, 0.7464736337123222, 0.21671815172293227, 0.024079794635881363, 0.012039897317940682, 0.9619766854358716, 0.9562909211211233, 0.918727237564479, 0.571350894153086, 0.054937585976258266, 0.2691941712836655, 0.09888765475726488, 0.11565853311004941, 0.14609498919164135, 0.2982772695996011, 0.012174582432636779, 0.4321976763586057, 0.4505658239863337, 0.04922147656993561, 0.04164894171302244, 0.329405266275723, 0.1287330925675239, 0.8004628400750257, 0.18980046723428443, 0.008252194227577584, 0.0023802499390667468, 0.9140159766016307, 0.0047604998781334935, 0.00714074981720024, 0.0714074981720024, 0.7373588279379516, 0.02485479195296466, 0.24026298887865838, 0.8714418874693779, 0.0030792999557221834, 0.11547374833958188, 0.00923789986716655, 0.8518270024136824, 0.02839423341378941, 0.11357693365515764, 0.09635131780095808, 0.5182138443889367, 0.18749445626132383, 0.1822862769207315, 0.015624538021776985, 0.9300676896437416, 0.8091044951780455, 0.1711567201338173, 0.8511226595781823, 0.12158895136831177, 0.1441028482905074, 0.11294547568715445, 0.2687323387039192, 0.4751499322011325, 0.04450524712040943, 0.9346101895285981, 0.03210318136322351, 0.9309922595334817, 0.1436880195055656, 0.12213481657973074, 0.24426963315946149, 0.3376668458380791, 0.15087242048084387, 0.3089607999488551, 0.008238954665302802, 0.26364654928968967, 0.42018668793044295, 0.9432767307134109, 0.02947739783479409, 0.02947739783479409, 0.04283499067403913, 0.942369794828861, 0.11964559571359708, 0.8774010352330452, 0.8420362327855793, 0.04565256683777237, 0.030435044558514913, 0.07608761139628728, 0.10281868368300087, 0.8538421123240507, 0.035763020411478566, 0.008940755102869642, 0.9854958327223944, 0.8392194225925892, 0.019516730757967192, 0.13661711530577034, 0.9741224624926325, 0.16006307331456568, 0.01778478592384063, 0.8358849384205097, 0.9655024100314193, 0.02768510489934994, 0.13150424827191223, 0.24224466786931198, 0.5952297553360237, 0.8512034637184598, 0.015763027105897404, 0.11034118974128182, 0.894592610747862, 0.10223915551404136, 0.04268897727160402, 0.9391574999752884, 0.16662635907975468, 0.35467610718404924, 0.4665538054233131, 0.014282259349693259, 0.9624352205170743, 0.009652710839597638, 0.14800823287383047, 0.32497459826645386, 0.02359551538568312, 0.4944332996727235, 0.025373665389851075, 0.9641992848143408, 0.9282806905024341, 0.0039003390357245133, 0.058505085535867696, 0.0039003390357245133, 0.9448190506789009, 0.04972731845678426, 0.9718571358613739, 0.9743603446583328, 0.19443400144672082, 0.6730407742386489, 0.034898410516078095, 0.004985487216582585, 0.0997097443316517, 0.1414305378395876, 0.8171542186287284, 0.03142900840879725, 0.9638055249699438, 0.02677237569360955, 0.8834214155388359, 0.07067371324310687, 0.38200923880566207, 0.3441865418942104, 0.0737542589773308, 0.15318192249137935, 0.047278371139314615, 0.9823536632357809, 0.8753664648753019, 0.10298428998532964, 0.03754307285989543, 0.6632609538581525, 0.03128589404991285, 0.262801510019268, 0.006257178809982571, 0.5289764566800048, 0.12909544478500118, 0.17002814679000156, 0.0881627427800008, 0.08501407339500078, 0.870835613430353, 0.047500124368928344, 0.015833374789642782, 0.06333349915857113, 0.9869446725383152, 0.012184502130102656, 0.09812230287406337, 0.11774676344887605, 0.009812230287406336, 0.10793453316146971, 0.667231659543631, 0.00828522375665316, 0.00138087062610886, 0.9790372739111818, 0.00966609438276202, 0.00138087062610886, 0.04985603396801954, 0.3454310924927068, 0.40597056231101625, 0.05341717925144951, 0.14600695662062865, 0.5609520983237729, 0.24467059607739028, 0.1563504784689665, 0.020289756747881145, 0.01790272654224807, 0.03207195933456063, 0.23908187867581562, 0.23616624600903738, 0.1253722046714643, 0.36736971601405816, 0.019403906029884694, 0.20859198982126045, 0.014552929522413521, 0.33956835552298215, 0.4171839796425209, 0.09438576402892532, 0.04719288201446266, 0.06292384268595021, 0.7078932302169398, 0.07865480335743776, 0.9635715873227747, 0.025638603193928702, 0.6863256854990145, 0.10649881326708846, 0.061138207616291525, 0.12030421498689622, 0.974772282638296, 0.0621017442845613, 0.9004752921261387, 0.025698661355494274, 0.9508504701532882, 0.025698661355494274, 0.1561032536332853, 0.3155278530885554, 0.003321345821984794, 0.514808602407643, 0.009964037465954383, 0.9716724211501833, 0.030668972215426287, 0.005111495369237715, 0.19423682403103315, 0.7667243053856572, 0.005111495369237715, 0.16218836437514994, 0.8109418218757496, 0.1347222537959579, 0.009623018128282706, 0.8372025771605955, 0.019246036256565412, 0.4882183585540196, 0.09283025127435585, 0.14096445563883664, 0.09454933000165873, 0.1839414238214088, 0.06724563927610043, 0.9078161302273559, 0.2247955800905389, 0.629427624253509, 0.14486826272501396, 0.04655556567881362, 0.9311113135762723, 0.9682699755415628, 0.9631830668744231, 0.5480149504686369, 0.3723691330107405, 0.0014051665396631716, 0.022482664634610745, 0.05620666158652686, 0.8919733537190133, 0.044598667685950666, 0.044598667685950666, 0.09242245287174577, 0.262479766155758, 0.2255107850070597, 0.3622960152572435, 0.0591503698379173, 0.10472663242571291, 0.8378130594057033, 0.9773066914536717, 0.42182326192550745, 0.20531220713188414, 0.10825552739681164, 0.12318732427913048, 0.14185207038202904, 0.7820028005027007, 0.013033380008378344, 0.2085340801340535, 0.10964502613128041, 0.13989192989163363, 0.04158949267048567, 0.022685177820264912, 0.6843361975779916, 0.9560629644016682, 0.9451109432653318, 0.07150331071855097, 0.17875827679637743, 0.3685170629340704, 0.24751146017959952, 0.13200611209578642, 0.9818661320997099, 0.00405778286354033, 0.417951634944654, 0.00811556572708066, 0.5721473837591865, 0.32727656762977964, 0.11466624267320745, 0.40133184935622607, 0.07166640167075466, 0.0883885620605974, 0.9754345205905045, 0.03773002757169922, 0.7074380169693604, 0.1509201102867969, 0.10375757582217286, 0.9820085358485002, 0.016561898292140175, 0.9771519992362704, 0.01985703840346316, 0.9531378433662316, 0.01985703840346316, 0.9189259335841822, 0.07657716113201518, 0.041365894463748665, 0.930732625434345, 0.020682947231874332, 0.9475779196525113, 0.9494794097218519, 0.9795479721990454], \"Term\": [\"...\", \"...\", \"...\", \"...\", \"...\", \"2\", \"2\", \"2\", \"2\", \"2\", \"20\", \"20\", \"20\", \"20\", \"3\", \"3\", \"3\", \"3\", \"3\", \"30\", \"30\", \"30\", \"40\", \"40\", \"40\", \"728\", \"800\", \"800\", \":)\", \":)\", \":)\", \":-)\", \"account\", \"account\", \"account\", \"account\", \"account\", \"act\", \"act\", \"agent\", \"agent\", \"agent\", \"agent\", \"airlin\", \"airlin\", \"airlin\", \"airlin\", \"airlin\", \"airport\", \"airport\", \"airport\", \"airport\", \"amaz\", \"amaz\", \"amaz\", \"angri\", \"angri\", \"announc\", \"anoth\", \"anoth\", \"anoth\", \"anoth\", \"anoth\", \"answer\", \"answer\", \"answer\", \"answer\", \"anymor\", \"anymor\", \"anyon\", \"anyon\", \"anyon\", \"anyon\", \"anyon\", \"appreci\", \"appreci\", \"appreci\", \"appreci\", \"arriv\", \"arriv\", \"attend\", \"attend\", \"attend\", \"attitud\", \"autom\", \"autom\", \"avail\", \"avail\", \"avail\", \"avail\", \"avail\", \"aw\", \"aw\", \"aw\", \"award\", \"awesom\", \"awesom\", \"awesom\", \"back\", \"back\", \"back\", \"back\", \"back\", \"bad\", \"bad\", \"bad\", \"bad\", \"bag\", \"bag\", \"bag\", \"bag\", \"bag\", \"baggag\", \"baggag\", \"baggag\", \"baggag\", \"beauti\", \"best\", \"best\", \"best\", \"best\", \"better\", \"better\", \"better\", \"better\", \"bin\", \"blue\", \"blue\", \"bna\", \"bna\", \"bo\", \"bo\", \"bo\", \"board\", \"board\", \"board\", \"board\", \"board\", \"book\", \"book\", \"book\", \"book\", \"broke\", \"call\", \"call\", \"call\", \"call\", \"call\", \"callback\", \"can't\", \"can't\", \"can't\", \"can't\", \"can't\", \"cancel\", \"cancel\", \"cancel\", \"cancel\", \"cant\", \"cant\", \"captain\", \"captain\", \"captain\", \"card\", \"care\", \"care\", \"care\", \"care\", \"care\", \"carrier\", \"carrier\", \"catch\", \"center\", \"center\", \"center\", \"chang\", \"chang\", \"chang\", \"chang\", \"chang\", \"check\", \"check\", \"check\", \"check\", \"check\", \"claim\", \"claim\", \"claim\", \"close\", \"close\", \"close\", \"club\", \"club\", \"come\", \"come\", \"come\", \"complain\", \"comput\", \"comput\", \"comput\", \"connect\", \"connect\", \"connect\", \"connect\", \"courtesi\", \"courtesi\", \"crash\", \"crash\", \"crash\", \"credit\", \"credit\", \"credit\", \"custom\", \"custom\", \"custom\", \"custom\", \"custom\", \"dalla\", \"dalla\", \"dalla\", \"day\", \"day\", \"day\", \"day\", \"day\", \"delay\", \"delay\", \"delay\", \"delay\", \"delay\", \"deplan\", \"deserv\", \"deserv\", \"desk\", \"desk\", \"desk\", \"despit\", \"despit\", \"despit\", \"destinationdragon\", \"dfw\", \"dfw\", \"dfw\", \"dfw\", \"disconnect\", \"disconnect\", \"disgust\", \"dividend\", \"door\", \"drop\", \"drop\", \"due\", \"due\", \"due\", \"due\", \"due\", \"earli\", \"earli\", \"email\", \"email\", \"email\", \"email\", \"email\", \"engin\", \"ever\", \"ever\", \"ever\", \"ever\", \"exactli\", \"exit\", \"exit\", \"experi\", \"experi\", \"experi\", \"experi\", \"fail\", \"fail\", \"fail\", \"fail\", \"famili\", \"famili\", \"famili\", \"fan\", \"fantast\", \"fast\", \"favorit\", \"fleek\", \"fleet'\", \"fli\", \"fli\", \"fli\", \"fli\", \"fli\", \"flight\", \"flight\", \"flight\", \"flight\", \"flight\", \"flightat\", \"flightd\", \"flightd\", \"flightl\", \"flightl\", \"flightlat\", \"flightr\", \"flightr\", \"flightr\", \"flightr\", \"flown\", \"follow\", \"follow\", \"follow\", \"forgot\", \"forgot\", \"form\", \"form\", \"forward\", \"free\", \"free\", \"free\", \"free\", \"freez\", \"front\", \"front\", \"front\", \"fuel\", \"fuel\", \"gate\", \"gate\", \"gate\", \"gate\", \"gate\", \"get\", \"get\", \"get\", \"get\", \"get\", \"go\", \"go\", \"go\", \"go\", \"good\", \"good\", \"good\", \"good\", \"good\", \"got\", \"got\", \"got\", \"got\", \"got\", \"great\", \"great\", \"great\", \"great\", \"guy\", \"guy\", \"guy\", \"guy\", \"guy\", \"half\", \"half\", \"half\", \"half\", \"hang\", \"hang\", \"hate\", \"head\", \"help\", \"help\", \"help\", \"help\", \"high\", \"hold\", \"hold\", \"hold\", \"hotel\", \"hotel\", \"hotel\", \"hotel\", \"hour\", \"hour\", \"hour\", \"hour\", \"hour\", \"hr\", \"hr\", \"hr\", \"hr\", \"human\", \"human\", \"human\", \"hung\", \"hung\", \"i'll\", \"i'll\", \"i'll\", \"i'm\", \"i'm\", \"i'm\", \"i'm\", \"i'm\", \"i'v\", \"i'v\", \"i'v\", \"i'v\", \"i'v\", \"iad\", \"iad\", \"id\", \"id\", \"item\", \"jet\", \"jet\", \"jetblu\", \"jetblu\", \"jetblu\", \"jetblu\", \"jetway\", \"jfk\", \"jfk\", \"jfk\", \"jfk\", \"jfk\", \"joke\", \"knew\", \"know\", \"know\", \"know\", \"know\", \"know\", \"la\", \"land\", \"land\", \"land\", \"land\", \"land\", \"late\", \"late\", \"late\", \"late\", \"leav\", \"leav\", \"leav\", \"leav\", \"left\", \"left\", \"left\", \"left\", \"like\", \"like\", \"like\", \"like\", \"like\", \"load\", \"load\", \"locat\", \"locat\", \"log\", \"long\", \"long\", \"long\", \"long\", \"long\", \"look\", \"look\", \"look\", \"look\", \"look\", \"love\", \"love\", \"love\", \"love\", \"luggag\", \"luggag\", \"luggag\", \"luggag\", \"make\", \"make\", \"make\", \"make\", \"make\", \"media\", \"merg\", \"messag\", \"messag\", \"messag\", \"middl\", \"middl\", \"min\", \"min\", \"min\", \"min\", \"minut\", \"minut\", \"minut\", \"minut\", \"miss\", \"miss\", \"miss\", \"miss\", \"miss\", \"monday\", \"monday\", \"monday\", \"much\", \"much\", \"much\", \"nashvil\", \"need\", \"need\", \"need\", \"need\", \"never\", \"never\", \"never\", \"never\", \"never\", \"notic\", \"notic\", \"notic\", \"notifi\", \"notifi\", \"notifi\", \"number\", \"number\", \"number\", \"number\", \"old\", \"old\", \"one\", \"one\", \"one\", \"one\", \"one\", \"onlin\", \"onlin\", \"onlin\", \"onto\", \"onto\", \"open\", \"open\", \"open\", \"open\", \"orlando\", \"oscar\", \"passbook\", \"passeng\", \"passeng\", \"passeng\", \"passeng\", \"pay\", \"pay\", \"pay\", \"pay\", \"pay\", \"peopl\", \"peopl\", \"peopl\", \"peopl\", \"peopl\", \"person\", \"person\", \"person\", \"phone\", \"phone\", \"phone\", \"phone\", \"phone\", \"pilot\", \"pilot\", \"pilot\", \"plane\", \"plane\", \"plane\", \"plane\", \"platinum\", \"platinum\", \"platinum\", \"pleas\", \"pleas\", \"pleas\", \"pleas\", \"pleas\", \"pleasant\", \"polici\", \"polici\", \"print\", \"print\", \"problem\", \"problem\", \"problem\", \"problem\", \"program\", \"program\", \"read\", \"read\", \"realli\", \"realli\", \"realli\", \"realli\", \"realli\", \"rebook\", \"rebook\", \"rebook\", \"rebook\", \"record\", \"record\", \"record\", \"reflight\", \"reflight\", \"repli\", \"repli\", \"reserv\", \"reserv\", \"reserv\", \"reserv\", \"respons\", \"respons\", \"respons\", \"respons\", \"rock\", \"room\", \"room\", \"room\", \"rout\", \"row\", \"row\", \"row\", \"rt\", \"rude\", \"rude\", \"rude\", \"rude\", \"runway\", \"runway\", \"runway\", \"safe\", \"safe\", \"save\", \"save\", \"seat\", \"seat\", \"seat\", \"seat\", \"seriou\", \"servic\", \"servic\", \"servic\", \"servic\", \"servic\", \"sfo\", \"sfo\", \"sit\", \"sit\", \"sit\", \"sit\", \"slow\", \"slow\", \"snack\", \"social\", \"someon\", \"someon\", \"someon\", \"someon\", \"someon\", \"southwest\", \"southwest\", \"southwest\", \"speak\", \"speak\", \"stand\", \"stand\", \"still\", \"still\", \"still\", \"still\", \"still\", \"submit\", \"supervisor\", \"supervisor\", \"system\", \"system\", \"system\", \"system\", \"system\", \"take\", \"take\", \"take\", \"take\", \"take\", \"talk\", \"talk\", \"talk\", \"talk\", \"tarmac\", \"tarmac\", \"terribl\", \"terribl\", \"terribl\", \"terribl\", \"terribl\", \"thank\", \"thank\", \"thank\", \"thank\", \"thank\", \"ticket\", \"ticket\", \"ticket\", \"ticket\", \"ticket\", \"time\", \"time\", \"time\", \"time\", \"time\", \"today\", \"today\", \"today\", \"today\", \"today\", \"tomorrow\", \"tomorrow\", \"tomorrow\", \"tomorrow\", \"tomorrow\", \"tonight\", \"tonight\", \"tonight\", \"tonight\", \"tonight\", \"track\", \"tri\", \"tri\", \"tri\", \"tri\", \"tri\", \"trust\", \"tuesday\", \"tuesday\", \"tv\", \"tv\", \"tv\", \"u\", \"u\", \"u\", \"u\", \"u\", \"ua\", \"unit\", \"unit\", \"unit\", \"unit\", \"unit\", \"unprofession\", \"unprofession\", \"upgrad\", \"upgrad\", \"upgrad\", \"upgrad\", \"us\", \"us\", \"us\", \"us\", \"us\", \"usairwaysfail\", \"usairwaysfail\", \"use\", \"use\", \"use\", \"video\", \"video\", \"view\", \"volum\", \"wait\", \"wait\", \"wait\", \"wait\", \"wait\", \"walk\", \"walk\", \"walk\", \"want\", \"want\", \"want\", \"want\", \"want\", \"warm\", \"warm\", \"water\", \"way\", \"way\", \"way\", \"way\", \"way\", \"we'r\", \"we'r\", \"we'r\", \"weather\", \"weather\", \"weather\", \"weather\", \"weather\", \"wed\", \"win\", \"work\", \"work\", \"work\", \"work\", \"work\", \"world\", \"worst\", \"worst\", \"worst\", \"worst\", \"would\", \"would\", \"would\", \"would\", \"would\", \"yall\", \"year\", \"year\", \"year\", \"year\", \"\\u201c\", \"\\u201d\", \"\\u201d\", \"\\u2708\", \"\\u2708\", \"\\u2708\", \"\\u2764\", \"\\u2764\", \"\\ufe0f\", \"\\ufe0f\", \"\\ufe0f\", \"\\ud83d\\ude0a\", \"\\ud83d\\ude12\", \"\\ud83d\\ude21\"]}, \"R\": 30, \"lambda.step\": 0.01, \"plot.opts\": {\"xlab\": \"PC1\", \"ylab\": \"PC2\"}, \"topic.order\": [2, 3, 1, 4, 5]};\n",
       "\n",
       "function LDAvis_load_lib(url, callback){\n",
       "  var s = document.createElement('script');\n",
       "  s.src = url;\n",
       "  s.async = true;\n",
       "  s.onreadystatechange = s.onload = callback;\n",
       "  s.onerror = function(){console.warn(\"failed to load library \" + url);};\n",
       "  document.getElementsByTagName(\"head\")[0].appendChild(s);\n",
       "}\n",
       "\n",
       "if(typeof(LDAvis) !== \"undefined\"){\n",
       "   // already loaded: just create the visualization\n",
       "   !function(LDAvis){\n",
       "       new LDAvis(\"#\" + \"ldavis_el16231406121009936481425248024\", ldavis_el16231406121009936481425248024_data);\n",
       "   }(LDAvis);\n",
       "}else if(typeof define === \"function\" && define.amd){\n",
       "   // require.js is available: use it to load d3/LDAvis\n",
       "   require.config({paths: {d3: \"https://d3js.org/d3.v5\"}});\n",
       "   require([\"d3\"], function(d3){\n",
       "      window.d3 = d3;\n",
       "      LDAvis_load_lib(\"https://cdn.jsdelivr.net/gh/bmabey/pyLDAvis@3.2.2/pyLDAvis/js/ldavis.v3.0.0.js\", function(){\n",
       "        new LDAvis(\"#\" + \"ldavis_el16231406121009936481425248024\", ldavis_el16231406121009936481425248024_data);\n",
       "      });\n",
       "    });\n",
       "}else{\n",
       "    // require.js not available: dynamically load d3 & LDAvis\n",
       "    LDAvis_load_lib(\"https://d3js.org/d3.v5.js\", function(){\n",
       "         LDAvis_load_lib(\"https://cdn.jsdelivr.net/gh/bmabey/pyLDAvis@3.2.2/pyLDAvis/js/ldavis.v3.0.0.js\", function(){\n",
       "                 new LDAvis(\"#\" + \"ldavis_el16231406121009936481425248024\", ldavis_el16231406121009936481425248024_data);\n",
       "            })\n",
       "         });\n",
       "}\n",
       "</script>"
      ],
      "text/plain": [
       "PreparedData(topic_coordinates=              x         y  topics  cluster       Freq\n",
       "topic                                                \n",
       "1     -0.109614  0.097079       1        1  22.289383\n",
       "2     -0.101211  0.002473       2        1  21.719901\n",
       "0      0.234611  0.072064       3        1  19.958462\n",
       "3     -0.048119  0.025385       4        1  19.755150\n",
       "4      0.024334 -0.197001       5        1  16.277104, topic_info=       Term         Freq        Total Category  logprob  loglift\n",
       "53    thank  1448.000000  1448.000000  Default  30.0000  30.0000\n",
       "231  cancel   977.000000   977.000000  Default  29.0000  29.0000\n",
       "12   flight  4010.000000  4010.000000  Default  28.0000  28.0000\n",
       "194    hold   660.000000   660.000000  Default  27.0000  27.0000\n",
       "101    call   748.000000   748.000000  Default  26.0000  26.0000\n",
       "..      ...          ...          ...      ...      ...      ...\n",
       "200      us   106.649956   581.706925   Topic5  -4.9547   0.1190\n",
       "156    ever    76.687047   240.776497   Topic5  -5.2845   0.6713\n",
       "341  luggag    63.924283   249.614630   Topic5  -5.4665   0.4532\n",
       "101    call    67.296828   748.488288   Topic5  -5.4151  -0.5935\n",
       "33     hour    68.227089  1108.230221   Topic5  -5.4014  -0.9723\n",
       "\n",
       "[355 rows x 6 columns], token_table=      Topic      Freq Term\n",
       "term                      \n",
       "0         1  0.347832  ...\n",
       "0         2  0.209652  ...\n",
       "0         3  0.233476  ...\n",
       "0         4  0.162004  ...\n",
       "0         5  0.047648  ...\n",
       "...     ...       ...  ...\n",
       "78        3  0.930733    ️\n",
       "78        4  0.020683    ️\n",
       "188       3  0.947578    😊\n",
       "497       1  0.949479    😒\n",
       "100       5  0.979548    😡\n",
       "\n",
       "[840 rows x 3 columns], R=30, lambda_step=0.01, plot_opts={'xlab': 'PC1', 'ylab': 'PC2'}, topic_order=[2, 3, 1, 4, 5])"
      ]
     },
     "execution_count": 16,
     "metadata": {},
     "output_type": "execute_result"
    }
   ],
   "source": [
    "# Visualize the topics\n",
    "num_topics=5\n",
    "pyLDAvis.enable_notebook()\n",
    "LDAvis_data_filepath = os.path.join('ldavis_prepared_'+str(num_topics))\n",
    "# # this is a bit time consuming - make the if statement True\n",
    "# # if you want to execute visualization prep yourself\n",
    "if 1 == 1:\n",
    "    LDAvis_prepared = pyLDAvis.gensim.prepare(lda_model, bow_corpus, dictionary)\n",
    "    with open(LDAvis_data_filepath, 'wb') as f:\n",
    "        pickle.dump(LDAvis_prepared, f)\n",
    "# load the pre-prepared pyLDAvis data from disk\n",
    "with open(LDAvis_data_filepath, 'rb') as f:\n",
    "    LDAvis_prepared = pickle.load(f)\n",
    "pyLDAvis.save_html(LDAvis_prepared, 'ldavis_prepared_'+ str(num_topics) +'.html')\n",
    "LDAvis_prepared"
   ]
  },
  {
   "cell_type": "markdown",
   "metadata": {},
   "source": [
    "## References:\n",
    "* https://medium.com/@lettier/how-does-lda-work-ill-explain-using-emoji-108abf40fa7d\n",
    "* https://towardsdatascience.com/topic-modeling-and-latent-dirichlet-allocation-in-python-9bf156893c24\n",
    "* https://github.com/AprendizajeProfundo/Diplomado/blob/master/Temas/Módulo%208-%20Aprendizaje%20Profundo%20II/1.%20Procesamiento%20de%20Lenguaje%20natural/Cuadernos/nlp_Introduccion.ipynb\n",
    "* https://towardsdatascience.com/end-to-end-topic-modeling-in-python-latent-dirichlet-allocation-lda-35ce4ed6b3e0"
   ]
  },
  {
   "cell_type": "code",
   "execution_count": null,
   "metadata": {},
   "outputs": [],
   "source": []
  }
 ],
 "metadata": {
  "kernelspec": {
   "display_name": "Python 3",
   "language": "python",
   "name": "python3"
  },
  "language_info": {
   "codemirror_mode": {
    "name": "ipython",
    "version": 3
   },
   "file_extension": ".py",
   "mimetype": "text/x-python",
   "name": "python",
   "nbconvert_exporter": "python",
   "pygments_lexer": "ipython3",
   "version": "3.8.5"
  }
 },
 "nbformat": 4,
 "nbformat_minor": 4
}

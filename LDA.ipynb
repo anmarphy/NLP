{
 "cells": [
  {
   "cell_type": "markdown",
   "metadata": {},
   "source": [
    "# Latent Dirilech Allocation"
   ]
  },
  {
   "cell_type": "markdown",
   "metadata": {},
   "source": [
    " Latent Dirichlet allocation (LDA), perhaps the most common topic model currently in use. Topic modeling is a type of statistical modeling for discovering the main topics in a collection of documents. The number of topics could be analyzed similar as a number of clusters."
   ]
  },
  {
   "cell_type": "markdown",
   "metadata": {},
   "source": [
    "### Data acquisition"
   ]
  },
  {
   "cell_type": "code",
   "execution_count": 1,
   "metadata": {},
   "outputs": [],
   "source": [
    "import pandas as pd\n",
    "import numpy as np\n",
    "import matplotlib.pyplot as plt\n",
    "import re\n",
    "import string\n",
    "import nltk                                  \n",
    "from nltk.corpus import stopwords\n",
    "from nltk.stem import PorterStemmer\n",
    "from nltk.tokenize import TweetTokenizer\n",
    "from nltk import word_tokenize          \n",
    "from nltk.stem import WordNetLemmatizer \n",
    "import gensim\n",
    "import os\n",
    "import pyLDAvis.gensim\n",
    "import pickle \n",
    "import pyLDAvis"
   ]
  },
  {
   "cell_type": "code",
   "execution_count": 2,
   "metadata": {},
   "outputs": [
    {
     "data": {
      "text/html": [
       "<div>\n",
       "<style scoped>\n",
       "    .dataframe tbody tr th:only-of-type {\n",
       "        vertical-align: middle;\n",
       "    }\n",
       "\n",
       "    .dataframe tbody tr th {\n",
       "        vertical-align: top;\n",
       "    }\n",
       "\n",
       "    .dataframe thead th {\n",
       "        text-align: right;\n",
       "    }\n",
       "</style>\n",
       "<table border=\"1\" class=\"dataframe\">\n",
       "  <thead>\n",
       "    <tr style=\"text-align: right;\">\n",
       "      <th></th>\n",
       "      <th>tweet_id</th>\n",
       "      <th>airline_sentiment</th>\n",
       "      <th>airline_sentiment_confidence</th>\n",
       "      <th>negativereason</th>\n",
       "      <th>negativereason_confidence</th>\n",
       "      <th>airline</th>\n",
       "      <th>airline_sentiment_gold</th>\n",
       "      <th>name</th>\n",
       "      <th>negativereason_gold</th>\n",
       "      <th>retweet_count</th>\n",
       "      <th>text</th>\n",
       "      <th>tweet_coord</th>\n",
       "      <th>tweet_created</th>\n",
       "      <th>tweet_location</th>\n",
       "      <th>user_timezone</th>\n",
       "    </tr>\n",
       "  </thead>\n",
       "  <tbody>\n",
       "    <tr>\n",
       "      <th>0</th>\n",
       "      <td>570306133677760513</td>\n",
       "      <td>neutral</td>\n",
       "      <td>1.0000</td>\n",
       "      <td>NaN</td>\n",
       "      <td>NaN</td>\n",
       "      <td>Virgin America</td>\n",
       "      <td>NaN</td>\n",
       "      <td>cairdin</td>\n",
       "      <td>NaN</td>\n",
       "      <td>0</td>\n",
       "      <td>@VirginAmerica What @dhepburn said.</td>\n",
       "      <td>NaN</td>\n",
       "      <td>2015-02-24 11:35:52 -0800</td>\n",
       "      <td>NaN</td>\n",
       "      <td>Eastern Time (US &amp; Canada)</td>\n",
       "    </tr>\n",
       "    <tr>\n",
       "      <th>1</th>\n",
       "      <td>570301130888122368</td>\n",
       "      <td>positive</td>\n",
       "      <td>0.3486</td>\n",
       "      <td>NaN</td>\n",
       "      <td>0.0000</td>\n",
       "      <td>Virgin America</td>\n",
       "      <td>NaN</td>\n",
       "      <td>jnardino</td>\n",
       "      <td>NaN</td>\n",
       "      <td>0</td>\n",
       "      <td>@VirginAmerica plus you've added commercials t...</td>\n",
       "      <td>NaN</td>\n",
       "      <td>2015-02-24 11:15:59 -0800</td>\n",
       "      <td>NaN</td>\n",
       "      <td>Pacific Time (US &amp; Canada)</td>\n",
       "    </tr>\n",
       "    <tr>\n",
       "      <th>2</th>\n",
       "      <td>570301083672813571</td>\n",
       "      <td>neutral</td>\n",
       "      <td>0.6837</td>\n",
       "      <td>NaN</td>\n",
       "      <td>NaN</td>\n",
       "      <td>Virgin America</td>\n",
       "      <td>NaN</td>\n",
       "      <td>yvonnalynn</td>\n",
       "      <td>NaN</td>\n",
       "      <td>0</td>\n",
       "      <td>@VirginAmerica I didn't today... Must mean I n...</td>\n",
       "      <td>NaN</td>\n",
       "      <td>2015-02-24 11:15:48 -0800</td>\n",
       "      <td>Lets Play</td>\n",
       "      <td>Central Time (US &amp; Canada)</td>\n",
       "    </tr>\n",
       "    <tr>\n",
       "      <th>3</th>\n",
       "      <td>570301031407624196</td>\n",
       "      <td>negative</td>\n",
       "      <td>1.0000</td>\n",
       "      <td>Bad Flight</td>\n",
       "      <td>0.7033</td>\n",
       "      <td>Virgin America</td>\n",
       "      <td>NaN</td>\n",
       "      <td>jnardino</td>\n",
       "      <td>NaN</td>\n",
       "      <td>0</td>\n",
       "      <td>@VirginAmerica it's really aggressive to blast...</td>\n",
       "      <td>NaN</td>\n",
       "      <td>2015-02-24 11:15:36 -0800</td>\n",
       "      <td>NaN</td>\n",
       "      <td>Pacific Time (US &amp; Canada)</td>\n",
       "    </tr>\n",
       "    <tr>\n",
       "      <th>4</th>\n",
       "      <td>570300817074462722</td>\n",
       "      <td>negative</td>\n",
       "      <td>1.0000</td>\n",
       "      <td>Can't Tell</td>\n",
       "      <td>1.0000</td>\n",
       "      <td>Virgin America</td>\n",
       "      <td>NaN</td>\n",
       "      <td>jnardino</td>\n",
       "      <td>NaN</td>\n",
       "      <td>0</td>\n",
       "      <td>@VirginAmerica and it's a really big bad thing...</td>\n",
       "      <td>NaN</td>\n",
       "      <td>2015-02-24 11:14:45 -0800</td>\n",
       "      <td>NaN</td>\n",
       "      <td>Pacific Time (US &amp; Canada)</td>\n",
       "    </tr>\n",
       "  </tbody>\n",
       "</table>\n",
       "</div>"
      ],
      "text/plain": [
       "             tweet_id airline_sentiment  airline_sentiment_confidence  \\\n",
       "0  570306133677760513           neutral                        1.0000   \n",
       "1  570301130888122368          positive                        0.3486   \n",
       "2  570301083672813571           neutral                        0.6837   \n",
       "3  570301031407624196          negative                        1.0000   \n",
       "4  570300817074462722          negative                        1.0000   \n",
       "\n",
       "  negativereason  negativereason_confidence         airline  \\\n",
       "0            NaN                        NaN  Virgin America   \n",
       "1            NaN                     0.0000  Virgin America   \n",
       "2            NaN                        NaN  Virgin America   \n",
       "3     Bad Flight                     0.7033  Virgin America   \n",
       "4     Can't Tell                     1.0000  Virgin America   \n",
       "\n",
       "  airline_sentiment_gold        name negativereason_gold  retweet_count  \\\n",
       "0                    NaN     cairdin                 NaN              0   \n",
       "1                    NaN    jnardino                 NaN              0   \n",
       "2                    NaN  yvonnalynn                 NaN              0   \n",
       "3                    NaN    jnardino                 NaN              0   \n",
       "4                    NaN    jnardino                 NaN              0   \n",
       "\n",
       "                                                text tweet_coord  \\\n",
       "0                @VirginAmerica What @dhepburn said.         NaN   \n",
       "1  @VirginAmerica plus you've added commercials t...         NaN   \n",
       "2  @VirginAmerica I didn't today... Must mean I n...         NaN   \n",
       "3  @VirginAmerica it's really aggressive to blast...         NaN   \n",
       "4  @VirginAmerica and it's a really big bad thing...         NaN   \n",
       "\n",
       "               tweet_created tweet_location               user_timezone  \n",
       "0  2015-02-24 11:35:52 -0800            NaN  Eastern Time (US & Canada)  \n",
       "1  2015-02-24 11:15:59 -0800            NaN  Pacific Time (US & Canada)  \n",
       "2  2015-02-24 11:15:48 -0800      Lets Play  Central Time (US & Canada)  \n",
       "3  2015-02-24 11:15:36 -0800            NaN  Pacific Time (US & Canada)  \n",
       "4  2015-02-24 11:14:45 -0800            NaN  Pacific Time (US & Canada)  "
      ]
     },
     "execution_count": 2,
     "metadata": {},
     "output_type": "execute_result"
    }
   ],
   "source": [
    "dataset= pd.read_csv('Tweets.csv', sep=',')\n",
    "dataset.head()"
   ]
  },
  {
   "cell_type": "code",
   "execution_count": 3,
   "metadata": {},
   "outputs": [
    {
     "data": {
      "text/html": [
       "<div>\n",
       "<style scoped>\n",
       "    .dataframe tbody tr th:only-of-type {\n",
       "        vertical-align: middle;\n",
       "    }\n",
       "\n",
       "    .dataframe tbody tr th {\n",
       "        vertical-align: top;\n",
       "    }\n",
       "\n",
       "    .dataframe thead th {\n",
       "        text-align: right;\n",
       "    }\n",
       "</style>\n",
       "<table border=\"1\" class=\"dataframe\">\n",
       "  <thead>\n",
       "    <tr style=\"text-align: right;\">\n",
       "      <th></th>\n",
       "      <th>text</th>\n",
       "      <th>airline_sentiment</th>\n",
       "    </tr>\n",
       "  </thead>\n",
       "  <tbody>\n",
       "    <tr>\n",
       "      <th>1</th>\n",
       "      <td>@VirginAmerica plus you've added commercials t...</td>\n",
       "      <td>positive</td>\n",
       "    </tr>\n",
       "    <tr>\n",
       "      <th>3</th>\n",
       "      <td>@VirginAmerica it's really aggressive to blast...</td>\n",
       "      <td>negative</td>\n",
       "    </tr>\n",
       "    <tr>\n",
       "      <th>4</th>\n",
       "      <td>@VirginAmerica and it's a really big bad thing...</td>\n",
       "      <td>negative</td>\n",
       "    </tr>\n",
       "    <tr>\n",
       "      <th>5</th>\n",
       "      <td>@VirginAmerica seriously would pay $30 a fligh...</td>\n",
       "      <td>negative</td>\n",
       "    </tr>\n",
       "    <tr>\n",
       "      <th>6</th>\n",
       "      <td>@VirginAmerica yes, nearly every time I fly VX...</td>\n",
       "      <td>positive</td>\n",
       "    </tr>\n",
       "  </tbody>\n",
       "</table>\n",
       "</div>"
      ],
      "text/plain": [
       "                                                text airline_sentiment\n",
       "1  @VirginAmerica plus you've added commercials t...          positive\n",
       "3  @VirginAmerica it's really aggressive to blast...          negative\n",
       "4  @VirginAmerica and it's a really big bad thing...          negative\n",
       "5  @VirginAmerica seriously would pay $30 a fligh...          negative\n",
       "6  @VirginAmerica yes, nearly every time I fly VX...          positive"
      ]
     },
     "execution_count": 3,
     "metadata": {},
     "output_type": "execute_result"
    }
   ],
   "source": [
    "tweet_df = dataset[dataset['airline_sentiment'] != 'neutral'] #Removing the tweets associated with neutral reviews\n",
    "tweet_df=tweet_df[['text','airline_sentiment']]\n",
    "tweet_df.head()"
   ]
  },
  {
   "cell_type": "markdown",
   "metadata": {},
   "source": [
    "### Preprocessing"
   ]
  },
  {
   "cell_type": "code",
   "execution_count": 4,
   "metadata": {},
   "outputs": [],
   "source": [
    "tweet = tweet_df.text.to_list()"
   ]
  },
  {
   "cell_type": "code",
   "execution_count": 5,
   "metadata": {},
   "outputs": [],
   "source": [
    "def process_tweet(tweet):\n",
    "    \"\"\"Process tweet function.\n",
    "    Input:\n",
    "        tweet: a string containing a tweet\n",
    "    Output:\n",
    "        tweets_clean: a list of words containing the processed tweet\n",
    "    \n",
    "    \"\"\"\n",
    "    stemmer = PorterStemmer()\n",
    "    stopwords_english = stopwords.words('english')\n",
    "    # remove stock market tickers like $GE\n",
    "    tweet = re.sub(r'\\$\\w*', '', tweet)\n",
    "    \n",
    "    # remove old style retweet text \"RT\"\n",
    "    tweet = re.sub(r'^RT[\\s]+', '', tweet)\n",
    "    \n",
    "    # remove hyperlinks\n",
    "    tweet = re.sub(r'https?:\\/\\/.*[\\r\\n]*', '', tweet)\n",
    "    \n",
    "    # remove hashtags\n",
    "    # only removing the hash # sign from the word\n",
    "    tweet = re.sub(r'#', '', tweet)\n",
    "    \n",
    "    # tokenize tweets\n",
    "    tokenizer = TweetTokenizer(preserve_case=False, strip_handles=True,\n",
    "                               reduce_len=True)\n",
    "    tweet_tokens = tokenizer.tokenize(tweet)\n",
    "\n",
    "    tweets_clean = []\n",
    "    for word in tweet_tokens:\n",
    "        if (word not in stopwords_english and  # remove stopwords\n",
    "                word not in string.punctuation):  # remove punctuation\n",
    "            \n",
    "            stem_word = stemmer.stem(word)  # stemming word\n",
    "            tweets_clean.append(stem_word)\n",
    "\n",
    "    return tweets_clean"
   ]
  },
  {
   "cell_type": "code",
   "execution_count": 6,
   "metadata": {},
   "outputs": [
    {
     "data": {
      "text/plain": [
       "['plu', 'ad', 'commerci', 'experi', '...', 'tacki']"
      ]
     },
     "execution_count": 6,
     "metadata": {},
     "output_type": "execute_result"
    }
   ],
   "source": [
    "process_tweet(tweet[0])"
   ]
  },
  {
   "cell_type": "code",
   "execution_count": 7,
   "metadata": {},
   "outputs": [],
   "source": [
    "text_data = []\n",
    "for i in range(len(tweet)):\n",
    "    text_data.append(process_tweet(tweet[i]))"
   ]
  },
  {
   "cell_type": "code",
   "execution_count": 8,
   "metadata": {},
   "outputs": [
    {
     "data": {
      "text/plain": [
       "[['plu', 'ad', 'commerci', 'experi', '...', 'tacki'],\n",
       " ['realli',\n",
       "  'aggress',\n",
       "  'blast',\n",
       "  'obnoxi',\n",
       "  'entertain',\n",
       "  'guest',\n",
       "  'face',\n",
       "  'littl',\n",
       "  'recours'],\n",
       " ['realli', 'big', 'bad', 'thing']]"
      ]
     },
     "execution_count": 8,
     "metadata": {},
     "output_type": "execute_result"
    }
   ],
   "source": [
    "text_data[0:3]"
   ]
  },
  {
   "cell_type": "code",
   "execution_count": 9,
   "metadata": {},
   "outputs": [],
   "source": [
    "dictionary = gensim.corpora.Dictionary(text_data)"
   ]
  },
  {
   "cell_type": "markdown",
   "metadata": {},
   "source": [
    "#### Bag of words -Gensim doc2bow\n"
   ]
  },
  {
   "cell_type": "markdown",
   "metadata": {},
   "source": [
    "Filtering out the tokens that appear in less than 15 documents or in more of 0.5 of the documents. Keeping just the more freqient 100.000 tokens."
   ]
  },
  {
   "cell_type": "code",
   "execution_count": 10,
   "metadata": {},
   "outputs": [],
   "source": [
    "dictionary.filter_extremes(no_below=15, no_above=0.5, keep_n=100000)"
   ]
  },
  {
   "cell_type": "code",
   "execution_count": 11,
   "metadata": {},
   "outputs": [
    {
     "data": {
      "text/plain": [
       "[(12, 1),\n",
       " (125, 1),\n",
       " (210, 1),\n",
       " (229, 1),\n",
       " (240, 1),\n",
       " (247, 1),\n",
       " (256, 1),\n",
       " (258, 1),\n",
       " (280, 1),\n",
       " (333, 1),\n",
       " (341, 2),\n",
       " (423, 1),\n",
       " (607, 1)]"
      ]
     },
     "execution_count": 11,
     "metadata": {},
     "output_type": "execute_result"
    }
   ],
   "source": [
    "bow_corpus = [dictionary.doc2bow(doc) for doc in text_data]\n",
    "bow_corpus[4310]"
   ]
  },
  {
   "cell_type": "code",
   "execution_count": 12,
   "metadata": {},
   "outputs": [
    {
     "name": "stdout",
     "output_type": "stream",
     "text": [
      "Word 11 (\"fli\") appears 1 time.\n",
      "Word 44 (\"think\") appears 1 time.\n",
      "Word 135 (\"problem\") appears 1 time.\n",
      "Word 151 (\"end\") appears 1 time.\n",
      "Word 159 (\"airlin\") appears 1 time.\n",
      "Word 208 (\"like\") appears 1 time.\n",
      "Word 476 (\"continu\") appears 1 time.\n",
      "Word 533 (\"resolut\") appears 1 time.\n",
      "Word 979 (\"especi\") appears 1 time.\n",
      "Word 981 (\"decid\") appears 1 time.\n"
     ]
    }
   ],
   "source": [
    "bow_doc_4310 = bow_corpus[2210]\n",
    "for i in range(len(bow_doc_4310)):\n",
    "    print(\"Word {} (\\\"{}\\\") appears {} time.\".format(bow_doc_4310[i][0], \n",
    "                                               dictionary[bow_doc_4310[i][0]], \n",
    "bow_doc_4310[i][1]))"
   ]
  },
  {
   "cell_type": "markdown",
   "metadata": {},
   "source": [
    "### Topic Modeling"
   ]
  },
  {
   "cell_type": "code",
   "execution_count": 13,
   "metadata": {},
   "outputs": [
    {
     "name": "stdout",
     "output_type": "stream",
     "text": [
      "Topic: 0 Words: 0.037*\"call\" + 0.033*\"get\" + 0.027*\"hold\" + 0.020*\"phone\"\n",
      "Topic: 1 Words: 0.094*\"flight\" + 0.043*\"cancel\" + 0.030*\"hour\" + 0.030*\"delay\"\n",
      "Topic: 2 Words: 0.055*\"thank\" + 0.044*\"custom\" + 0.043*\"servic\" + 0.023*\"flight\"\n",
      "Topic: 3 Words: 0.052*\"flight\" + 0.027*\"plane\" + 0.026*\"gate\" + 0.016*\"delay\"\n",
      "Topic: 4 Words: 0.042*\"flight\" + 0.028*\"get\" + 0.026*\"seat\" + 0.016*\"book\"\n"
     ]
    }
   ],
   "source": [
    "lda_model = gensim.models.LdaMulticore(bow_corpus, num_topics=5, id2word=dictionary, passes=15)\n",
    "for idx, topic in lda_model.print_topics(num_words=4):\n",
    "    print('Topic: {} Words: {}'.format(idx, topic))"
   ]
  },
  {
   "cell_type": "markdown",
   "metadata": {},
   "source": [
    "#### Checking the topic for one specific document"
   ]
  },
  {
   "cell_type": "code",
   "execution_count": 14,
   "metadata": {},
   "outputs": [
    {
     "name": "stdout",
     "output_type": "stream",
     "text": [
      "\n",
      "Score: 0.4919861853122711\t \n",
      "Topic: 0.094*\"flight\" + 0.043*\"cancel\" + 0.030*\"hour\" + 0.030*\"delay\" + 0.022*\"flightl\" + 0.017*\"airlin\" + 0.014*\"time\" + 0.013*\"2\" + 0.012*\"worst\" + 0.012*\"ever\"\n",
      "\n",
      "Score: 0.3483773469924927\t \n",
      "Topic: 0.055*\"thank\" + 0.044*\"custom\" + 0.043*\"servic\" + 0.023*\"flight\" + 0.015*\"fli\" + 0.014*\"great\" + 0.012*\"i'm\" + 0.009*\"guy\" + 0.008*\"airlin\" + 0.008*\"would\"\n",
      "\n",
      "Score: 0.12264108657836914\t \n",
      "Topic: 0.042*\"flight\" + 0.028*\"get\" + 0.026*\"seat\" + 0.016*\"book\" + 0.014*\"thank\" + 0.013*\"email\" + 0.012*\"back\" + 0.012*\"pleas\" + 0.011*\"problem\" + 0.011*\"look\"\n",
      "\n",
      "Score: 0.018580593168735504\t \n",
      "Topic: 0.037*\"call\" + 0.033*\"get\" + 0.027*\"hold\" + 0.020*\"phone\" + 0.020*\"help\" + 0.019*\"wait\" + 0.018*\"hour\" + 0.018*\"tri\" + 0.016*\"can't\" + 0.013*\"need\"\n",
      "\n",
      "Score: 0.018414795398712158\t \n",
      "Topic: 0.052*\"flight\" + 0.027*\"plane\" + 0.026*\"gate\" + 0.016*\"delay\" + 0.015*\"us\" + 0.015*\"bag\" + 0.015*\"...\" + 0.014*\"board\" + 0.013*\"sit\" + 0.013*\"wait\"\n"
     ]
    }
   ],
   "source": [
    "for index, score in sorted(lda_model[bow_corpus[2210]], key=lambda tup: -1*tup[1]):\n",
    "    print(\"\\nScore: {}\\t \\nTopic: {}\".format(score, lda_model.print_topic(index, 10)))"
   ]
  },
  {
   "cell_type": "markdown",
   "metadata": {},
   "source": [
    "Comparing the scores, this document is highly associated with the first topic."
   ]
  },
  {
   "cell_type": "markdown",
   "metadata": {},
   "source": [
    "### Topic Visualization"
   ]
  },
  {
   "cell_type": "markdown",
   "metadata": {},
   "source": [
    "In order to have a better understanding regarding the relationships between the topics."
   ]
  },
  {
   "cell_type": "code",
   "execution_count": 23,
   "metadata": {},
   "outputs": [
    {
     "name": "stderr",
     "output_type": "stream",
     "text": [
      "/Users/anmarphy/opt/anaconda3/lib/python3.8/site-packages/ipykernel/ipkernel.py:287: DeprecationWarning: `should_run_async` will not call `transform_cell` automatically in the future. Please pass the result to `transformed_cell` argument and any exception that happen during thetransform in `preprocessing_exc_tuple` in IPython 7.17 and above.\n",
      "  and should_run_async(code)\n"
     ]
    },
    {
     "data": {
      "text/html": [
       "\n",
       "<link rel=\"stylesheet\" type=\"text/css\" href=\"https://cdn.jsdelivr.net/gh/bmabey/pyLDAvis@3.2.2/pyLDAvis/js/ldavis.v1.0.0.css\">\n",
       "\n",
       "\n",
       "<div id=\"ldavis_el13441404630193493765801107558\"></div>\n",
       "<script type=\"text/javascript\">\n",
       "\n",
       "var ldavis_el13441404630193493765801107558_data = {\"mdsDat\": {\"x\": [0.1547097767016476, 0.07047793017429439, -0.1985406296050057, 0.0021456667458397854, -0.028792744016776065], \"y\": [-0.1075985600521569, 0.12731723576355972, -0.021026350255897497, 0.11430970693390347, -0.11300203238940887], \"topics\": [1, 2, 3, 4, 5], \"cluster\": [1, 1, 1, 1, 1], \"Freq\": [21.637192425598016, 20.700470448998498, 20.317163312852728, 19.832933429957585, 17.512240382593173]}, \"tinfo\": {\"Term\": [\"custom\", \"call\", \"thank\", \"servic\", \"cancel\", \"flight\", \"gate\", \"get\", \"seat\", \"hold\", \"plane\", \"delay\", \"phone\", \"hour\", \"flightl\", \"back\", \"board\", \"wait\", \"sit\", \"airlin\", \"great\", \"email\", \"tri\", \"book\", \"ever\", \"worst\", \"3\", \"reserv\", \"agent\", \"look\", \"call\", \"hung\", \"speak\", \"disconnect\", \"human\", \"autom\", \"phone\", \"onlin\", \"reserv\", \"talk\", \"800\", \"volum\", \"number\", \"cut\", \"cloth\", \"letter\", \"track\", \"companion\", \"12\", \"callback\", \"smh\", \"center\", \"die\", \"answer\", \"someon\", \"record\", \"social\", \"hang\", \"stewardess\", \"checkin\", \"pick\", \"hold\", \"tri\", \"person\", \"can't\", \"system\", \"line\", \"get\", \"wait\", \"back\", \"websit\", \"need\", \"help\", \"messag\", \"told\", \"chang\", \"2\", \"still\", \"minut\", \"hour\", \"work\", \"i'v\", \"...\", \"time\", \"agent\", \"bag\", \"got\", \"one\", \"flight\", \"gate\", \"awesom\", \"announc\", \"flt\", \"water\", \"door\", \"sit\", \"carri\", \"close\", \"runway\", \"captain\", \"overhead\", \"imposs\", \"mobil\", \"728\", \"cc\", \"fit\", \"50\", \"bu\", \"fuel\", \"board\", \"aircraft\", \"tarmac\", \"bin\", \"takeoff\", \"load\", \"ice\", \"left\", \"gonna\", \"state\", \"ground\", \"plane\", \"crew\", \"app\", \"pilot\", \"ord\", \"leav\", \"arriv\", \"check\", \"20\", \"land\", \"pm\", \"bo\", \"agent\", \"us\", \"min\", \"bag\", \"come\", \"flight\", \"jfk\", \"...\", \"wait\", \"delay\", \"minut\", \"passeng\", \"time\", \"connect\", \"late\", \"still\", \"miss\", \"hour\", \"one\", \"work\", \"thank\", \"southwest\", \"poor\", \"glad\", \"notifi\", \"definit\", \"delta\", \"video\", \"safeti\", \"wonder\", \"rate\", \"winter\", \"trust\", \"toward\", \"custom\", \"favorit\", \"atl\", \"ride\", \"treat\", \"loyal\", \"atlanta\", \"fan\", \"\\ud83d\\udc4d\", \"expir\", \"cours\", \"destinationdragon\", \"servic\", \"basic\", \"great\", \"damn\", \"sw\", \"offer\", \"care\", \"amaz\", \"terribl\", \"thank\", \"alway\", \"american\", \"sure\", \"lose\", \"staff\", \"bad\", \"disappoint\", \"love\", \"fli\", \"pay\", \"much\", \"good\", \"want\", \"i'm\", \"guy\", \"ye\", \"know\", \"experi\", \"busi\", \"would\", \"flight\", \"airlin\", \"travel\", \"bag\", \"lost\", \"today\", \"cancel\", \"help\", \"make\", \"like\", \"...\", \"time\", \"\\ufe0f\", \"\\u2708\", \"control\", \"americanairlin\", \"fuck\", \"\\ud83d\\ude21\", \"cross\", \"\\u2764\", \"oscar\", \"experienc\", \"fine\", \"offici\", \"eat\", \"finger\", \"flown\", \"hate\", \"ever\", \"worst\", \"appreci\", \"ur\", \"spent\", \"bna\", \"wors\", \"rout\", \"layov\", \"luv\", \"year\", \"b\", \"ewr\", \"flightl\", \"cancel\", \"3\", \"best\", \"delay\", \"airlin\", \"u\", \"flight\", \"hour\", \"everi\", \"4\", \"flightlat\", \"reschedul\", \"i'v\", \"2\", \"day\", \"never\", \"time\", \"anoth\", \"6\", \"hr\", \"5\", \"fli\", \"miss\", \"rebook\", \"get\", \"guy\", \"hold\", \"go\", \"late\", \"help\", \"need\", \"seat\", \"follow\", \"togeth\", \"upgrad\", \"rt\", \"bought\", \"select\", \"reflight\", \"assign\", \"email\", \"flightd\", \"let'\", \"middl\", \"club\", \"replac\", \"exit\", \"complain\", \"earn\", \"shit\", \"dm\", \"act\", \"funer\", \"citi\", \"leg\", \"clean\", \"standbi\", \"pretti\", \"case\", \"avail\", \"truli\", \"look\", \"class\", \"book\", \"problem\", \"friend\", \"sent\", \"wife\", \"forward\", \"confirm\", \"hope\", \"pleas\", \"account\", \"get\", \"back\", \"stuck\", \"next\", \"flight\", \"home\", \"could\", \"issu\", \"i'm\", \"like\", \"thank\", \"new\", \"plane\", \"see\", \"help\", \"first\", \"day\", \"miss\", \"...\", \"tri\", \"need\"], \"Freq\": [885.0, 746.0, 1418.0, 917.0, 974.0, 4034.0, 501.0, 1336.0, 425.0, 665.0, 659.0, 941.0, 419.0, 1121.0, 486.0, 451.0, 286.0, 711.0, 260.0, 482.0, 300.0, 214.0, 507.0, 378.0, 239.0, 245.0, 293.0, 196.0, 412.0, 215.0, 739.8375749328129, 85.7354054865921, 110.63123888402544, 57.3815859626146, 54.09475634978779, 43.147640415616785, 411.4489852502323, 157.5633399918369, 192.14976511285684, 122.51747307101559, 35.77930287321683, 25.973242068278175, 172.28873666858536, 25.290982653205386, 31.663901197239163, 31.937953872083483, 22.969856781001873, 17.332917566355707, 32.91302819540292, 19.20897236250794, 15.40307614052347, 25.351574250134373, 14.000084783120592, 169.71355166308328, 183.06259865159316, 31.007562457208664, 21.27473405523425, 72.22930818754422, 13.579969935428911, 26.60267695946364, 59.41438207182397, 533.6886883130732, 362.20815796458186, 92.94752841618637, 318.1115207403184, 118.27634219278727, 141.85009709589337, 666.6844251406321, 373.69619739790147, 250.98337237406108, 94.07646475785492, 261.57816563512944, 400.5217856082368, 56.086938017383886, 140.73955078611613, 178.8182654358359, 259.29358807859785, 232.71364350198763, 165.16053932750515, 371.96850821036304, 158.37589100378307, 142.64850913220013, 246.39114544909356, 221.13487117201498, 159.54627982568724, 192.03886310790753, 154.35947620262147, 161.3725485731806, 201.031644884108, 499.77803674942436, 115.72967520322123, 37.86850748118851, 150.1539509319177, 34.509472602077096, 38.456321564470535, 253.91821550581932, 31.232266316614318, 49.90858015153552, 62.49859615365657, 22.47762131131529, 23.10458044874326, 21.1541941946762, 20.156831785018337, 19.164602418675454, 18.79442534076267, 19.26631147720501, 40.55048678050165, 16.56876956096527, 15.92923984233007, 272.6847293636699, 27.123081500063147, 78.9013973141042, 13.880718847853307, 19.70569505796224, 49.37133953428266, 22.435114696080433, 118.9571680089694, 26.642420815755145, 26.330895252404304, 77.78368385091072, 515.1667751930589, 189.70112034544275, 75.87317946218099, 98.32517362923218, 60.169179889641775, 121.17492938314494, 121.19876712880142, 226.32243715304853, 71.75766568384617, 109.59130788653223, 66.88770651559422, 52.81879623545428, 231.6682733317338, 297.6453842339844, 166.00122332864208, 294.09638196126485, 95.83747509238606, 995.2347855992806, 96.99226650720378, 289.79220420607993, 253.31699549004014, 300.38786267470715, 153.79515090410973, 103.24323828195435, 218.14393146890197, 126.9460915017113, 144.87438744859756, 156.0221929639298, 130.77949841520555, 159.9388752188831, 128.56584885059647, 114.35544394714049, 106.85445518961718, 60.9437537068717, 81.7185836470742, 44.638531484255545, 30.23816836930636, 21.515681262889977, 32.58115285293416, 20.084719058503364, 28.042272695660255, 50.79930113081854, 17.4069386647968, 17.680167498898133, 17.20950286985418, 15.007513023939827, 837.996943496288, 14.011553825195891, 24.748557772775474, 22.131543255482136, 73.17517178701372, 43.43734759988097, 12.969241549881072, 13.516291600203228, 33.134187171606285, 22.372887863853244, 19.221467742035074, 25.070576253315803, 819.7122374054975, 15.137082050309592, 267.26394401022844, 18.96041736111759, 30.743025206364273, 93.62609289928159, 129.8811095360939, 76.18440261552682, 84.09121581169536, 1037.8365217701232, 80.5066775364329, 50.586232602540754, 105.61697966004772, 64.39922521667091, 123.58302593404042, 124.5288238854453, 91.80322651080311, 146.6779803428699, 287.94100342473513, 107.43426292947791, 119.3452539378162, 136.15918183270819, 139.44799064468125, 230.56512655911567, 168.73889714239132, 103.48516016883322, 132.64857812134645, 105.33656640680887, 83.85702375032547, 147.63563912513482, 434.42226454620953, 152.91948540779634, 107.33034657667228, 147.48740951248146, 100.68698882497188, 110.23024498728725, 140.36727977099866, 134.62556497249773, 109.9454092003771, 104.68911802810501, 106.88228149034285, 104.59509302794396, 95.15776365161892, 49.17040904372533, 31.512115322968206, 29.00994423307863, 45.44539613138026, 32.60337053709898, 26.10369243919846, 25.202687008417637, 24.203687897922013, 22.839436496576123, 35.7381426479703, 18.68740759575455, 16.787066181088232, 15.314308290004277, 27.487776456738874, 41.99545643453941, 223.93767163338669, 224.23080727052084, 133.48200821443444, 64.81859426697905, 42.29383613896551, 18.41467961983711, 54.93947527540627, 32.036953335929006, 28.160896694881423, 19.690513557640017, 87.99409308245798, 51.19840830762817, 50.437821146781566, 400.45180942457137, 793.6488508491525, 214.8675980742322, 122.47636744162354, 552.1356061505893, 304.22432470748856, 194.1459107788287, 1724.2066177690272, 553.7423677702125, 78.57401450830288, 162.3088606872752, 50.65977565120588, 59.442116421606364, 154.8018281605342, 242.34548075262282, 198.5353410091297, 135.82859529477463, 252.0136011348583, 111.65620014537377, 68.01708050803322, 116.40683589446586, 82.25896308984797, 142.89674831092083, 122.06819705176615, 97.84422808835991, 199.74094435506169, 108.32247533096587, 129.57637966855154, 110.76033149736581, 101.7088567824366, 117.25595424044565, 103.72763386908053, 423.2173697380457, 105.75676477074008, 52.92879439865563, 102.43472525664413, 32.74132944525366, 33.913943036605616, 31.384797642172696, 45.99130714641607, 26.3843438771181, 207.79994055678688, 21.306724188690495, 24.03950319662069, 24.993040137783733, 35.06573097965497, 15.21613052983087, 14.12297724504829, 17.449576158947753, 15.625589830614189, 32.00951783116517, 117.57450928567212, 16.713295139442067, 20.59011310010525, 47.19631113836673, 37.03423597738891, 21.51914883276674, 37.28177169445856, 33.94607576906667, 32.78257908270307, 93.25852628272426, 14.179508876603293, 178.4323206657045, 78.76551959311985, 261.3594913994834, 181.42190765442277, 54.49507185502865, 94.69209328049075, 53.9610963213401, 33.67913915692619, 71.76845037328387, 122.64008298866415, 196.2712466429862, 51.34356317721538, 449.8242725744484, 197.6603810439557, 95.22592103392388, 100.2839844685506, 679.9737259568892, 115.60518202344007, 95.33684716718624, 117.74426711754182, 175.0865756829439, 133.63780623396985, 231.89783779510464, 85.1680953700532, 138.52067807041212, 83.21397052794303, 145.86378044217537, 83.3764378672119, 113.95315791578626, 97.1964684305725, 105.452466278639, 94.58263737130797, 94.17552171380616], \"Total\": [885.0, 746.0, 1418.0, 917.0, 974.0, 4034.0, 501.0, 1336.0, 425.0, 665.0, 659.0, 941.0, 419.0, 1121.0, 486.0, 451.0, 286.0, 711.0, 260.0, 482.0, 300.0, 214.0, 507.0, 378.0, 239.0, 245.0, 293.0, 196.0, 412.0, 215.0, 746.3431592827098, 86.59796219403374, 112.09353783678377, 58.285820866078694, 55.09737074353477, 43.97265589148883, 419.4105196767845, 160.70757025195195, 196.07335574588691, 125.81945796403143, 36.798971552699804, 26.776069159970863, 177.8555713783743, 26.1191398381899, 32.792998014786235, 33.1658552518611, 23.89572917940225, 18.14712548023324, 34.59731298001968, 20.252962345866656, 16.254702054134963, 26.795996570907768, 14.973183675256251, 182.16963084217684, 198.61596376315882, 33.97953827442952, 23.652151210926103, 80.85549482827146, 15.482081282507393, 30.876339130508352, 69.94988534053826, 665.7853571312316, 507.96506300138634, 121.17755565798115, 476.60540162927043, 159.80813048695717, 201.07583368898096, 1336.5108580245715, 711.0405570779299, 451.07004878358464, 136.1985579450821, 504.1760800720659, 874.2645596225616, 71.18494231800388, 251.82048256035304, 352.1632084178646, 605.5166848244922, 528.9534767180801, 327.12031551722504, 1121.4924323639311, 359.98221760296946, 298.54909227692536, 838.6518987031484, 838.2785093720285, 412.9922133515456, 680.9596929093478, 390.9127259908642, 489.1681057187676, 4034.8690387555143, 501.6867979319962, 117.50341247262352, 38.71856256072718, 153.7473529968108, 35.33889868560472, 39.41618699370846, 260.4849412967352, 32.10623968973464, 51.39399984145857, 64.41934176665247, 23.317288653728355, 23.984626478617034, 21.96425165163175, 20.94634247484617, 19.956397553481384, 19.59450432325164, 20.09880931080679, 42.37415109811722, 17.387656004727226, 16.72281965034677, 286.29830809398896, 28.54222955007431, 83.36450480438135, 14.676300375924779, 21.086370284650933, 55.075822548386945, 25.217065622614605, 134.1811455387933, 30.09242732103815, 29.922580167427437, 88.64998366054904, 659.8477155055306, 234.08518413291014, 90.59004481033215, 122.36872747105735, 73.17788631210742, 161.79070848746764, 162.54975182930866, 333.05783905527215, 89.94754349663133, 149.23554130729374, 84.99993435345473, 64.74653216811397, 412.9922133515456, 584.5790808264281, 302.29028332769815, 680.9596929093478, 146.7747351941354, 4034.8690387555143, 154.87004142622018, 838.6518987031484, 711.0405570779299, 941.1077196366385, 327.12031551722504, 184.09511139454236, 838.2785093720285, 283.0660041601523, 400.0221230232022, 528.9534767180801, 385.4870218494012, 1121.4924323639311, 489.1681057187676, 359.98221760296946, 1418.5519409715891, 61.85728568305371, 82.97164295224127, 45.62865885036172, 31.13920195417904, 22.3188434277996, 33.90569053814579, 21.007712721570517, 29.341918589019496, 53.16112654014543, 18.235661864648858, 18.582741972247597, 18.097502459398154, 15.812042274955212, 885.8967670113717, 14.82738359130063, 26.226432909275985, 23.479414026706962, 78.0119791014937, 46.323038373279985, 13.840008197822863, 14.846433850222429, 36.428087446733215, 24.642031345087556, 21.378675451758816, 27.899832111905095, 917.3632397434608, 16.98898071411295, 300.3964948243275, 21.404489289333277, 34.73094911519679, 105.89184250923002, 148.87433314091373, 88.86220390605494, 100.6132096590935, 1418.5519409715891, 99.43224761576283, 60.71091664042019, 137.59948307941644, 81.15247389062696, 171.96707579418432, 175.42187316842504, 127.30823976814379, 230.04743518779588, 519.1801926452982, 161.38173086690696, 194.4637449083553, 252.6105241035337, 267.04981958845843, 551.2498791579987, 375.5427013356913, 188.8394882754235, 282.0181409792323, 205.7532925617541, 143.95189428964633, 415.3097742593841, 4034.8690387555143, 482.5118097818395, 263.8785729737965, 680.9596929093478, 228.3038990678282, 343.4396825851763, 974.6193953033534, 874.2645596225616, 403.499072222058, 364.73118053566503, 838.6518987031484, 838.2785093720285, 95.98100031686026, 49.9770232221637, 32.315548867065424, 29.83624919481519, 46.78006436226585, 33.64596847917592, 26.95805559219195, 26.124140631307228, 25.120325217384345, 23.806221499390393, 37.29996380594322, 19.628948970539174, 17.644586477370282, 16.12766669123952, 29.12075866242632, 44.819471441380934, 239.53071871993782, 245.25933247071617, 146.44003579565515, 72.17155485707788, 47.11238268815539, 20.64110040101251, 61.63969771710323, 36.007124947401266, 32.182703271895754, 23.372485314688372, 105.06181469958688, 61.41379681636412, 60.87180378770827, 486.1901395083383, 974.6193953033534, 293.9026902760922, 164.9791369558746, 941.1077196366385, 482.5118097818395, 305.3940130682611, 4034.8690387555143, 1121.4924323639311, 106.19951960903228, 286.4193004409376, 64.70879267116757, 80.86622867367947, 298.54909227692536, 605.5166848244922, 514.1813011229348, 299.53819698736504, 838.2785093720285, 247.4281034687337, 108.9274319133996, 300.26128785313784, 160.91891688784676, 519.1801926452982, 385.4870218494012, 244.55184981713876, 1336.5108580245715, 375.5427013356913, 665.7853571312316, 503.5281770014477, 400.0221230232022, 874.2645596225616, 504.1760800720659, 425.22451484257823, 107.11230329088814, 54.04966744455505, 104.70220291412502, 33.572744030446366, 34.800792282846125, 32.25288700689682, 47.30279467635465, 27.192923660210813, 214.82534908376775, 22.112019784317546, 25.1558565463419, 26.169639532332695, 36.789602050655894, 16.02487468190262, 14.999784760587454, 18.5502708579318, 16.68676816991468, 34.348272374177526, 127.99762302538893, 18.203827284001918, 22.726370143551115, 52.249003237309005, 41.32249261215725, 24.017924831566525, 41.68444450666276, 38.4337794771035, 37.44479003457482, 107.0231149704312, 16.312879888817886, 215.1288046657176, 95.58943985294786, 378.1500221017872, 259.6043995027509, 68.21344670490619, 127.8236360519418, 68.24725001711694, 40.09150998830106, 99.6218634457778, 201.2282732374219, 390.40820932820316, 68.29681265661392, 1336.5108580245715, 451.07004878358464, 166.49748356711194, 181.5779547492327, 4034.8690387555143, 254.4687418820917, 191.53464893636428, 275.83198710337183, 551.2498791579987, 364.73118053566503, 1418.5519409715891, 188.21596783775664, 659.8477155055306, 195.6931293656235, 874.2645596225616, 204.75946396061133, 514.1813011229348, 385.4870218494012, 838.6518987031484, 507.96506300138634, 504.1760800720659], \"Category\": [\"Default\", \"Default\", \"Default\", \"Default\", \"Default\", \"Default\", \"Default\", \"Default\", \"Default\", \"Default\", \"Default\", \"Default\", \"Default\", \"Default\", \"Default\", \"Default\", \"Default\", \"Default\", \"Default\", \"Default\", \"Default\", \"Default\", \"Default\", \"Default\", \"Default\", \"Default\", \"Default\", \"Default\", \"Default\", \"Default\", \"Topic1\", \"Topic1\", \"Topic1\", \"Topic1\", \"Topic1\", \"Topic1\", \"Topic1\", \"Topic1\", \"Topic1\", \"Topic1\", \"Topic1\", \"Topic1\", \"Topic1\", \"Topic1\", \"Topic1\", \"Topic1\", \"Topic1\", \"Topic1\", \"Topic1\", \"Topic1\", \"Topic1\", \"Topic1\", \"Topic1\", \"Topic1\", \"Topic1\", \"Topic1\", \"Topic1\", \"Topic1\", \"Topic1\", \"Topic1\", \"Topic1\", \"Topic1\", \"Topic1\", \"Topic1\", \"Topic1\", \"Topic1\", \"Topic1\", \"Topic1\", \"Topic1\", \"Topic1\", \"Topic1\", \"Topic1\", \"Topic1\", \"Topic1\", \"Topic1\", \"Topic1\", \"Topic1\", \"Topic1\", \"Topic1\", \"Topic1\", \"Topic1\", \"Topic1\", \"Topic1\", \"Topic1\", \"Topic1\", \"Topic1\", \"Topic1\", \"Topic1\", \"Topic1\", \"Topic2\", \"Topic2\", \"Topic2\", \"Topic2\", \"Topic2\", \"Topic2\", \"Topic2\", \"Topic2\", \"Topic2\", \"Topic2\", \"Topic2\", \"Topic2\", \"Topic2\", \"Topic2\", \"Topic2\", \"Topic2\", \"Topic2\", \"Topic2\", \"Topic2\", \"Topic2\", \"Topic2\", \"Topic2\", \"Topic2\", \"Topic2\", \"Topic2\", \"Topic2\", \"Topic2\", \"Topic2\", \"Topic2\", \"Topic2\", \"Topic2\", \"Topic2\", \"Topic2\", \"Topic2\", \"Topic2\", \"Topic2\", \"Topic2\", \"Topic2\", \"Topic2\", \"Topic2\", \"Topic2\", \"Topic2\", \"Topic2\", \"Topic2\", \"Topic2\", \"Topic2\", \"Topic2\", \"Topic2\", \"Topic2\", \"Topic2\", \"Topic2\", \"Topic2\", \"Topic2\", \"Topic2\", \"Topic2\", \"Topic2\", \"Topic2\", \"Topic2\", \"Topic2\", \"Topic2\", \"Topic2\", \"Topic2\", \"Topic2\", \"Topic2\", \"Topic3\", \"Topic3\", \"Topic3\", \"Topic3\", \"Topic3\", \"Topic3\", \"Topic3\", \"Topic3\", \"Topic3\", \"Topic3\", \"Topic3\", \"Topic3\", \"Topic3\", \"Topic3\", \"Topic3\", \"Topic3\", \"Topic3\", \"Topic3\", \"Topic3\", \"Topic3\", \"Topic3\", \"Topic3\", \"Topic3\", \"Topic3\", \"Topic3\", \"Topic3\", \"Topic3\", \"Topic3\", \"Topic3\", \"Topic3\", \"Topic3\", \"Topic3\", \"Topic3\", \"Topic3\", \"Topic3\", \"Topic3\", \"Topic3\", \"Topic3\", \"Topic3\", \"Topic3\", \"Topic3\", \"Topic3\", \"Topic3\", \"Topic3\", \"Topic3\", \"Topic3\", \"Topic3\", \"Topic3\", \"Topic3\", \"Topic3\", \"Topic3\", \"Topic3\", \"Topic3\", \"Topic3\", \"Topic3\", \"Topic3\", \"Topic3\", \"Topic3\", \"Topic3\", \"Topic3\", \"Topic3\", \"Topic3\", \"Topic3\", \"Topic3\", \"Topic3\", \"Topic3\", \"Topic3\", \"Topic4\", \"Topic4\", \"Topic4\", \"Topic4\", \"Topic4\", \"Topic4\", \"Topic4\", \"Topic4\", \"Topic4\", \"Topic4\", \"Topic4\", \"Topic4\", \"Topic4\", \"Topic4\", \"Topic4\", \"Topic4\", \"Topic4\", \"Topic4\", \"Topic4\", \"Topic4\", \"Topic4\", \"Topic4\", \"Topic4\", \"Topic4\", \"Topic4\", \"Topic4\", \"Topic4\", \"Topic4\", \"Topic4\", \"Topic4\", \"Topic4\", \"Topic4\", \"Topic4\", \"Topic4\", \"Topic4\", \"Topic4\", \"Topic4\", \"Topic4\", \"Topic4\", \"Topic4\", \"Topic4\", \"Topic4\", \"Topic4\", \"Topic4\", \"Topic4\", \"Topic4\", \"Topic4\", \"Topic4\", \"Topic4\", \"Topic4\", \"Topic4\", \"Topic4\", \"Topic4\", \"Topic4\", \"Topic4\", \"Topic4\", \"Topic4\", \"Topic4\", \"Topic4\", \"Topic4\", \"Topic4\", \"Topic5\", \"Topic5\", \"Topic5\", \"Topic5\", \"Topic5\", \"Topic5\", \"Topic5\", \"Topic5\", \"Topic5\", \"Topic5\", \"Topic5\", \"Topic5\", \"Topic5\", \"Topic5\", \"Topic5\", \"Topic5\", \"Topic5\", \"Topic5\", \"Topic5\", \"Topic5\", \"Topic5\", \"Topic5\", \"Topic5\", \"Topic5\", \"Topic5\", \"Topic5\", \"Topic5\", \"Topic5\", \"Topic5\", \"Topic5\", \"Topic5\", \"Topic5\", \"Topic5\", \"Topic5\", \"Topic5\", \"Topic5\", \"Topic5\", \"Topic5\", \"Topic5\", \"Topic5\", \"Topic5\", \"Topic5\", \"Topic5\", \"Topic5\", \"Topic5\", \"Topic5\", \"Topic5\", \"Topic5\", \"Topic5\", \"Topic5\", \"Topic5\", \"Topic5\", \"Topic5\", \"Topic5\", \"Topic5\", \"Topic5\", \"Topic5\", \"Topic5\", \"Topic5\", \"Topic5\", \"Topic5\", \"Topic5\", \"Topic5\"], \"logprob\": [30.0, 29.0, 28.0, 27.0, 26.0, 25.0, 24.0, 23.0, 22.0, 21.0, 20.0, 19.0, 18.0, 17.0, 16.0, 15.0, 14.0, 13.0, 12.0, 11.0, 10.0, 9.0, 8.0, 7.0, 6.0, 5.0, 4.0, 3.0, 2.0, 1.0, -3.3024, -5.4576, -5.2027, -5.8592, -5.9181, -6.1442, -3.8892, -4.8491, -4.6506, -5.1006, -6.3315, -6.6518, -4.7597, -6.6784, -6.4537, -6.4451, -6.7747, -7.0563, -6.415, -6.9535, -7.1743, -6.676, -7.2698, -4.7748, -4.699, -6.4746, -6.8514, -5.629, -7.3003, -6.6279, -5.8243, -3.6291, -4.0167, -5.3768, -4.1465, -5.1359, -4.9541, -3.4066, -3.9854, -4.3835, -5.3648, -4.3421, -3.9161, -5.882, -4.962, -4.7225, -4.3509, -4.4591, -4.802, -3.9901, -4.8439, -4.9485, -4.402, -4.5101, -4.8365, -4.6512, -4.8696, -4.8252, -4.6054, -3.6505, -5.1134, -6.2305, -4.853, -6.3234, -6.2151, -4.3276, -6.4232, -5.9544, -5.7295, -6.7521, -6.7246, -6.8128, -6.8611, -6.9116, -6.9311, -6.9063, -6.1621, -7.0571, -7.0965, -4.2563, -6.5642, -5.4964, -7.2341, -6.8837, -5.9653, -6.754, -5.0859, -6.5821, -6.5939, -5.5107, -3.6201, -4.6192, -5.5356, -5.2763, -5.7675, -5.0674, -5.0672, -4.4427, -5.5913, -5.1679, -5.6616, -5.8978, -4.4193, -4.1687, -4.7526, -4.1807, -5.302, -2.9616, -5.29, -4.1955, -4.33, -4.1595, -4.829, -5.2275, -4.4795, -5.0209, -4.8888, -4.8146, -4.9911, -4.7898, -5.0082, -5.1253, -5.1932, -5.736, -5.4426, -6.0473, -6.4368, -6.7771, -6.3622, -6.846, -6.5122, -5.918, -6.9891, -6.9735, -7.0005, -7.1374, -3.1149, -7.206, -6.6372, -6.7489, -5.5531, -6.0746, -7.2833, -7.242, -6.3454, -6.7381, -6.8899, -6.6242, -3.137, -7.1288, -4.2577, -6.9036, -6.4203, -5.3066, -4.9793, -5.5128, -5.414, -2.901, -5.4576, -5.9223, -5.1861, -5.6808, -5.029, -5.0214, -5.3263, -4.8577, -4.1832, -5.1691, -5.0639, -4.9321, -4.9082, -4.4054, -4.7176, -5.2065, -4.9582, -5.1888, -5.4168, -4.8512, -3.7719, -4.816, -5.17, -4.8522, -5.2339, -5.1434, -4.9017, -4.9434, -5.1459, -5.1949, -5.1742, -5.1958, -5.2663, -5.9265, -6.3714, -6.4542, -6.0053, -6.3374, -6.5597, -6.5949, -6.6353, -6.6933, -6.2456, -6.894, -7.0012, -7.093, -6.5081, -6.0842, -4.4104, -4.4091, -4.9278, -5.6502, -6.0772, -6.9087, -5.8156, -6.3549, -6.4839, -6.8417, -5.3445, -5.8861, -5.9011, -3.8292, -3.1452, -4.4518, -5.0139, -3.508, -4.104, -4.5532, -2.3693, -3.5051, -5.4578, -4.7323, -5.8967, -5.7368, -4.7797, -4.3314, -4.5308, -4.9104, -4.2923, -5.1064, -5.602, -5.0647, -5.4119, -4.8597, -5.0172, -5.2384, -4.5248, -5.1367, -4.9575, -5.1144, -5.1997, -5.0574, -5.18, -3.6495, -5.0362, -5.7284, -5.0681, -6.2087, -6.1735, -6.251, -5.8689, -6.4246, -4.3608, -6.6383, -6.5177, -6.4788, -6.1401, -6.975, -7.0496, -6.838, -6.9485, -6.2313, -4.9303, -6.8812, -6.6726, -5.843, -6.0855, -6.6284, -6.0789, -6.1726, -6.2075, -5.162, -7.0456, -4.5132, -5.3309, -4.1315, -4.4965, -5.6993, -5.1467, -5.7091, -6.1805, -5.4239, -4.8881, -4.4179, -5.7588, -3.5885, -4.4108, -5.1411, -5.0894, -3.1753, -4.9472, -5.1399, -4.9288, -4.5321, -4.8022, -4.2511, -5.2527, -4.7663, -5.2759, -4.7147, -5.274, -4.9616, -5.1206, -5.0391, -5.1479, -5.1522], \"loglift\": [30.0, 29.0, 28.0, 27.0, 26.0, 25.0, 24.0, 23.0, 22.0, 21.0, 20.0, 19.0, 18.0, 17.0, 16.0, 15.0, 14.0, 13.0, 12.0, 11.0, 10.0, 9.0, 8.0, 7.0, 6.0, 5.0, 4.0, 3.0, 2.0, 1.0, 1.522, 1.5207, 1.5176, 1.5151, 1.5124, 1.5118, 1.5116, 1.511, 1.5105, 1.5042, 1.5027, 1.5003, 1.499, 1.4985, 1.4957, 1.493, 1.4912, 1.4849, 1.4808, 1.4778, 1.4769, 1.4753, 1.4636, 1.4599, 1.4492, 1.4392, 1.4248, 1.4179, 1.3997, 1.3818, 1.3675, 1.3096, 1.1926, 1.2655, 1.1265, 1.2298, 1.1818, 0.8353, 0.8875, 0.9445, 1.1608, 0.8746, 0.7501, 1.2924, 0.949, 0.853, 0.6826, 0.7097, 0.8473, 0.4272, 0.7097, 0.7922, 0.3059, 0.1982, 0.5797, 0.265, 0.6016, 0.4218, -1.4685, 1.5712, 1.5598, 1.5528, 1.5514, 1.5513, 1.5504, 1.5495, 1.5474, 1.5457, 1.5447, 1.5383, 1.5376, 1.5374, 1.5366, 1.5345, 1.5333, 1.5327, 1.531, 1.5268, 1.5264, 1.5263, 1.524, 1.52, 1.5193, 1.5073, 1.4657, 1.4581, 1.4546, 1.4532, 1.4471, 1.4442, 1.3275, 1.3648, 1.3977, 1.3563, 1.3793, 1.2859, 1.2815, 1.1887, 1.3491, 1.2662, 1.3354, 1.3714, 0.9969, 0.9, 0.9756, 0.7354, 1.1488, 0.1753, 1.1071, 0.5124, 0.5429, 0.433, 0.8203, 0.9966, 0.2288, 0.7731, 0.5594, 0.3541, 0.494, -0.3726, 0.2387, 0.4283, -1.0109, 1.5788, 1.5785, 1.5718, 1.5643, 1.5571, 1.5539, 1.5488, 1.5484, 1.5483, 1.5472, 1.5439, 1.5434, 1.5415, 1.5381, 1.5371, 1.5357, 1.5346, 1.5297, 1.5294, 1.5287, 1.4998, 1.4989, 1.4971, 1.4873, 1.4868, 1.4812, 1.4783, 1.4768, 1.4725, 1.4717, 1.4706, 1.4572, 1.4398, 1.4143, 1.2812, 1.3826, 1.4113, 1.3292, 1.3625, 1.2633, 1.251, 1.2667, 1.1437, 1.0042, 1.1868, 1.1055, 0.9757, 0.944, 0.722, 0.7937, 0.9922, 0.8394, 0.9242, 1.0533, 0.5594, -0.635, 0.4446, 0.6941, 0.0639, 0.775, 0.4573, -0.3441, -0.2772, 0.2935, 0.3455, -0.4664, -0.4875, 1.6092, 1.6016, 1.5926, 1.5897, 1.5889, 1.5863, 1.5856, 1.5819, 1.5807, 1.5764, 1.5751, 1.5687, 1.568, 1.5661, 1.5601, 1.5527, 1.5505, 1.5282, 1.5252, 1.5104, 1.5099, 1.5037, 1.5028, 1.501, 1.4843, 1.4464, 1.4405, 1.4359, 1.4298, 1.4238, 1.4124, 1.3046, 1.3199, 1.0846, 1.1566, 1.1648, 0.7676, 0.9121, 1.3165, 1.0499, 1.3731, 1.31, 0.961, 0.7021, 0.6662, 0.827, 0.416, 0.8221, 1.1469, 0.6703, 0.9468, 0.3277, 0.4679, 0.7018, -0.283, 0.3746, -0.0189, 0.1036, 0.2484, -0.3912, 0.0367, 1.7375, 1.7295, 1.7213, 1.7204, 1.7172, 1.7165, 1.715, 1.7142, 1.7121, 1.709, 1.7052, 1.6969, 1.6963, 1.6943, 1.6905, 1.682, 1.6811, 1.6766, 1.6718, 1.6573, 1.6568, 1.6436, 1.6406, 1.6327, 1.6324, 1.6306, 1.6181, 1.6093, 1.6046, 1.6021, 1.5552, 1.5487, 1.3729, 1.3839, 1.5177, 1.4422, 1.5074, 1.568, 1.4143, 1.2471, 1.0546, 1.4569, 0.6533, 0.9172, 1.1835, 1.1486, -0.0384, 0.9533, 1.0446, 0.891, 0.5954, 0.7382, -0.0688, 0.9493, 0.1813, 0.8871, -0.0484, 0.8438, 0.2355, 0.3645, -0.3313, 0.0613, 0.0645]}, \"token.table\": {\"Topic\": [1, 2, 3, 4, 5, 1, 5, 1, 2, 3, 4, 5, 1, 2, 4, 1, 3, 4, 5, 1, 2, 4, 5, 1, 2, 3, 4, 5, 1, 2, 1, 2, 4, 5, 2, 1, 3, 4, 5, 4, 5, 1, 2, 3, 4, 5, 2, 4, 2, 3, 4, 5, 3, 4, 5, 2, 3, 5, 3, 4, 4, 2, 1, 2, 3, 4, 5, 1, 2, 3, 4, 5, 1, 2, 5, 2, 4, 5, 1, 2, 3, 4, 5, 5, 3, 4, 3, 1, 1, 5, 2, 3, 2, 4, 5, 1, 2, 4, 5, 1, 3, 4, 5, 1, 2, 3, 4, 5, 2, 3, 1, 3, 4, 5, 2, 4, 5, 2, 3, 5, 2, 4, 5, 1, 2, 3, 4, 5, 5, 2, 1, 2, 3, 5, 1, 2, 3, 4, 5, 1, 1, 2, 3, 4, 5, 1, 2, 3, 4, 5, 2, 1, 3, 4, 5, 2, 1, 4, 5, 2, 1, 5, 1, 2, 3, 4, 5, 1, 2, 3, 4, 5, 1, 2, 3, 1, 2, 5, 2, 3, 5, 1, 5, 2, 3, 1, 5, 3, 4, 5, 1, 2, 3, 4, 1, 5, 1, 3, 4, 5, 1, 2, 3, 4, 5, 4, 1, 2, 3, 4, 5, 3, 5, 1, 2, 3, 4, 5, 4, 1, 2, 3, 4, 5, 1, 3, 5, 1, 2, 3, 4, 5, 3, 1, 2, 3, 4, 5, 3, 4, 2, 3, 5, 1, 2, 3, 4, 5, 1, 1, 3, 5, 2, 5, 4, 1, 2, 3, 4, 5, 3, 4, 5, 1, 2, 3, 4, 2, 4, 5, 5, 2, 3, 4, 5, 4, 3, 4, 5, 3, 5, 3, 4, 5, 4, 1, 2, 3, 4, 5, 2, 1, 2, 3, 4, 5, 1, 2, 3, 4, 5, 5, 1, 2, 3, 4, 5, 2, 3, 4, 5, 3, 4, 1, 2, 4, 5, 4, 5, 4, 5, 1, 4, 5, 3, 4, 2, 1, 5, 2, 4, 5, 1, 2, 3, 4, 5, 3, 1, 2, 3, 4, 5, 1, 2, 1, 2, 3, 4, 5, 1, 2, 3, 4, 5, 1, 2, 3, 4, 5, 2, 3, 4, 5, 1, 2, 3, 4, 5, 1, 4, 5, 2, 4, 5, 1, 2, 3, 4, 5, 1, 2, 4, 1, 2, 3, 4, 5, 1, 3, 4, 5, 1, 2, 3, 4, 5, 1, 2, 4, 5, 1, 1, 1, 2, 3, 4, 5, 1, 4, 5, 1, 2, 2, 1, 2, 3, 4, 5, 1, 2, 3, 4, 5, 1, 2, 3, 4, 1, 2, 3, 4, 5, 1, 2, 3, 4, 5, 2, 4, 5, 1, 2, 5, 2, 3, 4, 5, 4, 5, 5, 1, 2, 1, 2, 3, 4, 5, 1, 2, 3, 4, 5, 2, 4, 5, 1, 3, 4, 5, 1, 2, 3, 1, 2, 3, 4, 5, 1, 2, 3, 4, 5, 3, 4, 5, 3, 4, 1, 2, 3, 4, 5, 1, 5, 2, 5, 1, 2, 4, 1, 2, 4, 1, 2, 3, 4, 5, 2, 2, 3, 4, 5, 1, 2, 3, 4, 5, 1, 2, 3, 4, 5, 1, 2, 3, 4, 5, 1, 2, 3, 4, 5, 3, 1, 5, 1, 2, 3, 4, 5, 4, 1, 2, 3, 4, 5, 1, 2, 5, 2, 4, 4, 2, 2, 3, 4, 5, 1, 2, 3, 4, 5, 1, 3, 4, 1, 2, 3, 4, 5, 1, 3, 4, 5, 2, 3, 4, 5, 2, 4, 5, 1, 2, 3, 4, 5, 1, 2, 5, 3, 5, 1, 5, 1, 2, 3, 4, 5, 3, 1, 2, 3, 4, 5, 1, 3, 2, 5, 5, 1, 2, 3, 4, 5, 1, 3, 4, 3, 5, 4, 5, 5, 2, 3, 4, 3, 1, 2, 3, 5, 1, 2, 3, 4, 5, 5, 1, 3, 5, 1, 2, 3, 4, 5, 1, 5, 1, 2, 4, 5, 1, 1, 4, 1, 2, 3, 4, 5, 3, 1, 1, 4, 1, 2, 3, 4, 5, 2, 4, 5, 2, 5, 1, 3, 1, 2, 3, 4, 5, 1, 2, 3, 4, 5, 1, 2, 3, 4, 5, 3, 4, 1, 2, 3, 4, 5, 2, 3, 1, 3, 4, 1, 2, 5, 1, 2, 3, 4, 1, 2, 3, 4, 5, 1, 2, 3, 4, 5, 1, 2, 3, 4, 5, 1, 5, 1, 2, 3, 4, 5, 3, 1, 1, 2, 3, 4, 5, 3, 4, 5, 1, 2, 3, 4, 5, 3, 5, 3, 1, 2, 3, 4, 5, 3, 5, 1, 2, 4, 1, 2, 3, 4, 5, 3, 1, 1, 2, 3, 4, 5, 1, 2, 3, 4, 5, 2, 1, 2, 4, 5, 1, 3, 5, 3, 2, 3, 4, 1, 2, 3, 4, 5, 3, 4, 5, 3, 4, 5, 1, 2, 3, 4, 5, 1, 2, 3, 4, 5, 3, 4, 4, 4, 4, 2, 3, 4], \"Freq\": [0.2933278996689839, 0.3457930524553063, 0.1275857124576475, 0.10731508524475022, 0.12520093278554192, 0.953831299530627, 0.028903978773655362, 0.4277338783407275, 0.12551264383743355, 0.008257410778778522, 0.3996586816928805, 0.0363326074266255, 0.17788145599106023, 0.800466551959771, 0.02223518199888253, 0.2619914772731961, 0.003402486717833716, 0.7315346443342489, 0.003402486717833716, 0.2164658593347308, 0.16060370208705835, 0.5656043421326837, 0.05586215724767247, 0.15535774465486785, 0.32314410888212514, 0.006214309786194714, 0.5095734024679666, 0.006214309786194714, 0.023599292825583765, 0.9675710058489343, 0.2937735650046437, 0.01836084781279023, 0.6242688256348679, 0.06426296734476582, 0.9520756413617075, 0.9782882097246768, 0.16106168900306286, 0.08785183036530703, 0.7467405581051096, 0.05493350296060163, 0.9338695503302277, 0.38741650526908467, 0.5617539326401727, 0.009685412631727116, 0.02421353157931779, 0.019370825263454232, 0.9459667456121943, 0.03503580539304423, 0.016579905067229506, 0.3170906844107643, 0.6300363925547212, 0.0352322982678627, 0.8146250531619201, 0.09051389479576889, 0.100570994217521, 0.03376013499700725, 0.855256753257517, 0.10128040499102176, 0.8400466147145135, 0.14824352024373766, 0.9719720401396664, 0.9814413936571078, 0.11316418631296758, 0.17378785755205736, 0.08487313973472568, 0.45265674525187033, 0.17782943563466333, 0.9331961601617339, 0.016468167532265893, 0.010978778354843928, 0.021957556709687857, 0.021957556709687857, 0.011038740538142952, 0.8389442808988643, 0.15454236753400133, 0.0068287336490098684, 0.9082215753183126, 0.08194480378811843, 0.012303925275137753, 0.744387479145834, 0.061519626375688766, 0.07382355165082652, 0.11073532747623978, 0.9561310995788099, 0.9532367625624677, 0.03812947050249871, 0.9393058020041489, 0.9778804379274009, 0.12146908640803153, 0.8689711566113025, 0.9872053718186797, 0.00851039113636793, 0.13026388881184345, 0.8304322911755019, 0.03256597220296086, 0.5564545920902527, 0.0022169505660966245, 0.0022169505660966245, 0.43895621208713165, 0.1824173885617807, 0.7125679240694558, 0.005700543392555647, 0.10260978106600163, 0.2819550143705199, 0.43174361575485865, 0.21587180787742932, 0.06755172219293706, 0.002937031399692916, 0.0588616831596782, 0.882925247395173, 0.0060613724768572436, 0.030306862384286218, 0.7394874421765837, 0.22427078164371803, 0.9539188788317394, 0.8720465309648436, 0.09689405899609373, 0.8185766592469512, 0.015444842627300967, 0.15444842627300967, 0.9535508673365151, 0.0034928603199139746, 0.0419143238389677, 0.2089117952735051, 0.05288906209455825, 0.005288906209455825, 0.0423112496756466, 0.6902022603339852, 0.9769892513843471, 0.9777051027106912, 0.3334447263571187, 0.02084029539731992, 0.5835282711249578, 0.05557412105951978, 0.9915010150440635, 0.0013398662365460318, 0.0013398662365460318, 0.0013398662365460318, 0.005359464946184127, 0.9381343664956565, 0.6672186234417832, 0.05245429429573767, 0.05035612252390816, 0.09022138618866879, 0.13847933694074743, 0.00307812466533794, 0.0307812466533794, 0.14364581771577054, 0.8146769947594414, 0.008208332440901174, 0.9435059250116662, 0.020151223765082566, 0.8732196964869112, 0.013434149176721711, 0.08732196964869113, 0.9655444019472532, 0.08011795492056267, 0.02670598497352089, 0.8812975041261893, 0.969659639588526, 0.9329751902992229, 0.037319007611968914, 0.5082870547556031, 0.03975429478535443, 0.06815021963203616, 0.21580902883478117, 0.17037554908009042, 0.201166260461088, 0.6785608188687445, 0.09307692648199593, 0.003002481499419224, 0.02401985199535379, 0.8744559996532033, 0.06477451849282988, 0.03238725924641494, 0.038278242188013206, 0.0574173632820198, 0.8995386914183103, 0.010461406631719699, 0.15692109947579547, 0.8264511239058562, 0.08327114078446192, 0.9159825486290811, 0.9728762142320345, 0.01945752428464069, 0.9758180690149563, 0.030494314656717383, 0.027181593283425357, 0.027181593283425357, 0.9513557649198875, 0.13626323340693808, 0.6540635203533028, 0.006813161670346904, 0.20439485011040712, 0.9367874828725494, 0.9164286672790587, 0.12045548622498274, 0.13049344341039798, 0.030113871556245685, 0.7227329173498964, 0.028261959692884142, 0.4486586101245358, 0.01766372480805259, 0.3356107713529992, 0.16957175815730485, 0.9902353858087486, 0.13574567392575676, 0.16185061121917152, 0.04698888712814657, 0.15662962376048858, 0.4959938085748805, 0.8887360698689533, 0.046775582624681754, 0.004271949135542959, 0.8116703357531623, 0.09825483011748808, 0.04699144049097256, 0.042719491355429594, 0.9644612502220138, 0.012416796639984577, 0.003386399083632157, 0.945934144027916, 0.01806079511270484, 0.020318394501792944, 0.9571525002307482, 0.8876642531932994, 0.09343834244139994, 0.20420812614283637, 0.06612453608434701, 0.12252487568570183, 0.3870230200230899, 0.22171167981222237, 0.9857141599280875, 0.0053128880952442925, 0.3187732857146575, 0.030814750952416897, 0.5865428457149698, 0.05737919142863836, 0.9732879489026528, 0.029493574209171296, 0.03584250958891224, 0.896062739722806, 0.07168501917782448, 0.9350048929898273, 0.06283960892531193, 0.7226555026410872, 0.20422872900726377, 0.007854951115663991, 0.9779393882256016, 0.015625290163421946, 0.06250116065368778, 0.9218921196418948, 0.9640709286787555, 0.9588435481980937, 0.9634683148739709, 0.00465494414074042, 0.00465494414074042, 0.01396483242222126, 0.00465494414074042, 0.9682283812740073, 0.012524489618835219, 0.9351618915396963, 0.050097958475340876, 0.047081192254044335, 0.0847461460572798, 0.12241109986051527, 0.7438828376139005, 0.1478517053870737, 0.8213983632615206, 0.016427967265230412, 0.9333467262000699, 0.00486018953840004, 0.5103199015320041, 0.41311611076400334, 0.07290284307600059, 0.9661339999121222, 0.8927835409310015, 0.04058107004231826, 0.04058107004231826, 0.9429873962487128, 0.06735624258919377, 0.944198948775692, 0.9651483896148958, 0.02680967748930266, 0.9300787452501073, 0.03907023316655549, 0.16604849095786084, 0.32721320276990223, 0.06348912889565267, 0.4053536691030132, 0.9453296315311585, 0.0019261135424000968, 0.07897065523840396, 0.5547207002112279, 0.2754342365632138, 0.09052733649280455, 0.04981574322967245, 0.2466003209628064, 0.1075623510531236, 0.42727532998982737, 0.16853087261779734, 0.9497097146635957, 0.002056808476229596, 0.02673851019098475, 0.14603340181230132, 0.8227233904918384, 0.002056808476229596, 0.015453850376744427, 0.18544620452093313, 0.7881463692139657, 0.015453850376744427, 0.03433976468787097, 0.9271736465725162, 0.006504177018389013, 0.975626552758352, 0.013008354036778027, 0.006504177018389013, 0.009335995672544447, 0.9896155412897114, 0.14965762082173595, 0.8480598513231704, 0.17591839409482457, 0.02931973234913743, 0.7916327734267106, 0.0213766272798596, 0.961948227593682, 0.9567764488608963, 0.04400174747148357, 0.924036696901155, 0.9966377470187588, 0.0019932754940375176, 0.0019932754940375176, 0.4990606668065972, 0.013467904051752248, 0.0022446506752920414, 0.14964337835280275, 0.3366976012938062, 0.9862222807726304, 0.26612214791629174, 0.15292093574294377, 0.19264065931253954, 0.2204444658112566, 0.1668228389923023, 0.09969285521552615, 0.8972356969397354, 0.15042920375093125, 0.09104925490187944, 0.5383782028980697, 0.11875989769810362, 0.09896658141508635, 0.3939498250143922, 0.12790578734233513, 0.13558013458287524, 0.14581259757026205, 0.1944167967603494, 0.0033289336501239877, 0.09321014220347165, 0.8888252845831047, 0.0033289336501239877, 0.009986800950371962, 0.8798647983813618, 0.011280317927966178, 0.09024254342372942, 0.022560635855932355, 0.07455876495645504, 0.1597687820495465, 0.4500154027728894, 0.28758380768918373, 0.029290943375750195, 0.8904775136547046, 0.02473548649040846, 0.07420645947122538, 0.02231173121503436, 0.9370927110314431, 0.04462346243006872, 0.45867122896199763, 0.0869302079828225, 0.1544155010221189, 0.13382676755250306, 0.16699750480910638, 0.8020602950790705, 0.0030039711426182417, 0.1952581242701857, 0.19648778718435894, 0.03143804594949743, 0.07073560338636922, 0.24757461185229226, 0.45585166626771273, 0.12920649559678699, 0.23356558819419188, 0.024847402999382113, 0.6112461137848, 0.33170085616706485, 0.1426670349105655, 0.0008916689681910345, 0.4939846083778331, 0.031208413886686208, 0.35302586210129805, 0.24312158427730904, 0.38633018871462804, 0.016652163306665003, 0.9800830651494647, 0.993094962296065, 0.23219959738678284, 0.025396830964179374, 0.41904771090895965, 0.007256237418336964, 0.31746038705224217, 0.47898320142054696, 0.5191775959453481, 0.0033495328770667618, 0.07931136913116507, 0.8724250604428159, 0.9560990437131459, 0.18489516221658167, 0.31540939436946286, 0.0326285580382203, 0.03625395337580033, 0.4277966498344439, 0.006457026748303662, 0.6263315945854553, 0.006457026748303662, 0.16142566870759156, 0.2066248559457172, 0.2694862101285768, 0.2021146575964326, 0.4716008677250094, 0.06027981016033955, 0.026803266600973583, 0.7370898315267735, 0.03350408325121698, 0.1675204162560849, 0.040204899901460374, 0.15249156606386458, 0.36247995211902234, 0.014999170432511269, 0.25498589735269156, 0.21748797127141342, 0.06214518348887564, 0.870032568844259, 0.06214518348887564, 0.21014803827646042, 0.7478797832779915, 0.037084947931140075, 0.8868608143280141, 0.05216828319576554, 0.014905223770218726, 0.04471567131065617, 0.09679958170827245, 0.8953961308015201, 0.9540521888327439, 0.9648477253787785, 0.030151491418086828, 0.09047759490026139, 0.03564268890010297, 0.2878832565008317, 0.21933962400063364, 0.36739387020106135, 0.7062012246565742, 0.2486624030480895, 0.034812736426732535, 0.00497324806096179, 0.00994649612192358, 0.8896825818071256, 0.03631357476763778, 0.05447036215145667, 0.009296755974206903, 0.018593511948413806, 0.14409971760020698, 0.8274112817044144, 0.049289932989485814, 0.14786979896845742, 0.788638927831773, 0.07884228028296734, 0.1401640538363864, 0.44239279492109457, 0.3153691211318694, 0.021900633411935374, 0.021734647882156663, 0.021734647882156663, 0.6389986477354059, 0.1738771830572533, 0.143448676022234, 0.9282638080321437, 0.04317506083870436, 0.02158753041935218, 0.12835605454909232, 0.8557070303272821, 0.1635691493329585, 0.21561387866617254, 0.27261524888826416, 0.1833957128884686, 0.1635691493329585, 0.7866832250819518, 0.19667080627048794, 0.038212219116143954, 0.9553054779035989, 0.4068936607752678, 0.5491410381194671, 0.03969694251466027, 0.5044015677812944, 0.4707747965958748, 0.024455833589396094, 0.018158847388472395, 0.3398298582699834, 0.07522951060938564, 0.3164827687705189, 0.25162974238311747, 0.9548206339134098, 0.03085408029567472, 0.6119392591975485, 0.16455509491026515, 0.1954091752059399, 0.5196597188080606, 0.085287663773842, 0.00396686808250428, 0.20627714029022254, 0.18644279987770113, 0.06009250299640171, 0.0834618097172246, 0.33050876648020944, 0.45403224486170185, 0.07678486493984663, 0.07438263692944527, 0.08500872791936602, 0.28159141123289994, 0.10626090989920753, 0.451608867071632, 0.011014552965761122, 0.2533347182125058, 0.17623284745217796, 0.005507276482880561, 0.5507276482880561, 0.9634158269099072, 0.9670768178191225, 0.02811269819241635, 0.01888719614851985, 0.0755487845940794, 0.8876982189804331, 0.009443598074259926, 0.009443598074259926, 0.9679580923317314, 0.3291302072187063, 0.2637130231752367, 0.1942072651290503, 0.04906288803260218, 0.1614986731073155, 0.9831521922227614, 0.006222482229257984, 0.006222482229257984, 0.8199198285681133, 0.16398396571362267, 0.9554016435818661, 0.9589476000597776, 0.5594934010999139, 0.1140714701271669, 0.18468714211065115, 0.14666331873492885, 0.16730518290367796, 0.006196488255691776, 0.6630242433590201, 0.10534030034676019, 0.05576839430122599, 0.7674688558868841, 0.14029000591480675, 0.09077588618016907, 0.9799468080026558, 0.00476859760585234, 0.00238429880292617, 0.00238429880292617, 0.011921494014630848, 0.8434609965801839, 0.07147974547289694, 0.014295949094579388, 0.05718379637831755, 0.8008582096531073, 0.016344045094961374, 0.10623629311724893, 0.07354820292732618, 0.7804831143583515, 0.009093007157573028, 0.21065466581710846, 0.3201776935354263, 0.048667009417384804, 0.002561421548283411, 0.12807107741417054, 0.5020386234635484, 0.0823530047787089, 0.788235902881928, 0.12941186465225685, 0.988289457486089, 0.012052310457147426, 0.10407511450657503, 0.8846384733058877, 0.12326447495224716, 0.11556044526773171, 0.03466813358031951, 0.026964103895804066, 0.6972146864486479, 0.9322392642603076, 0.22899029404959909, 0.04498023633117125, 0.04906934872491409, 0.4007330145867984, 0.27805964277451317, 0.9123137503998486, 0.05885895163869991, 0.021140399987822963, 0.9724583994398563, 0.936044761519412, 0.0370983048078814, 0.024732203205254266, 0.185491524039407, 0.7295999945550009, 0.012366101602627133, 0.9792253479296492, 0.005100132020466923, 0.015300396061400769, 0.9369910158309664, 0.042590500719589384, 0.8887129990729662, 0.08331684366309058, 0.9829402079875581, 0.9624438607985767, 0.015523288077396398, 0.015523288077396398, 0.9542661607165089, 0.0023516988440099897, 0.0023516988440099897, 0.0023516988440099897, 0.9947686110162257, 0.15841128454786532, 0.05110041437027913, 0.28105227903653524, 0.08176066299244661, 0.4241334392733168, 0.9611542679379707, 0.17211214357147675, 0.08605607178573838, 0.7432115290586496, 0.015261130371776264, 0.007630565185888132, 0.8938662074897527, 0.06649492519131087, 0.017441291853458586, 0.05822709154663533, 0.9316334647461653, 0.003838993513490039, 0.9751043524264699, 0.011516980540470116, 0.007677987026980078, 0.9228099014084491, 0.8878684992635705, 0.08455890469176862, 0.9213760894779828, 0.06041810422806444, 0.0050348420190053705, 0.0050348420190053705, 0.0050348420190053705, 0.9861409101031963, 0.9902444167800641, 0.08490336874865059, 0.8914853718608313, 0.005815066607266334, 0.2035273312543217, 0.7210682593010255, 0.011630133214532669, 0.06396573267992968, 0.04797952866279228, 0.04797952866279228, 0.8876212802616572, 0.8689090263780994, 0.10025873381285762, 0.9042711858009724, 0.06459079898578375, 0.4404924256206063, 0.29492196736830295, 0.05293471209174668, 0.12477467850197432, 0.0869641698650124, 0.006006096780417219, 0.36036580682503316, 0.0600609678041722, 0.006006096780417219, 0.5705791941396359, 0.10901203743143897, 0.029069876648383727, 0.7703517311821688, 0.007267469162095932, 0.08720962994515119, 0.892575664925774, 0.08637829015410717, 0.7383854603669907, 0.06883254291556694, 0.006257503901415176, 0.07509004681698211, 0.11263507022547317, 0.9484799768767356, 0.04742399884383678, 0.9775912405787232, 0.015895792529735338, 0.007947896264867669, 0.011995512986570795, 0.9476455259390928, 0.035986538959712384, 0.009939052768401761, 0.05963431661041056, 0.8348804325457478, 0.0993905276840176, 0.0021148326778540455, 0.0754290321767943, 0.7317321065374998, 0.027492824812102593, 0.16354706042071288, 0.26363553106658505, 0.26005676820142776, 0.1252567002805042, 0.3006160806732101, 0.05010268011220168, 0.11938049701007283, 0.14849769140277352, 0.3202891383197076, 0.24167271345941574, 0.17179144691693407, 0.018501501438946223, 0.9805795762641498, 0.5599226820884475, 0.2303228053980848, 0.07942165703382234, 0.015884331406764467, 0.1151614026990424, 0.9486440612265874, 0.9625150932755652, 0.18948109138427494, 0.04168584010454049, 0.4054895355623484, 0.25011504062724293, 0.10989903300287947, 0.9357537245020652, 0.05127417668504467, 0.012818544171261168, 0.7126474365403591, 0.03937278654919111, 0.009843196637297777, 0.053153261841408, 0.18702073610865777, 0.12260250879251279, 0.8582175615475895, 0.9393561370216467, 0.009823375284470446, 0.11133158655733172, 0.1735462966923112, 0.6352449350624221, 0.07203808541944993, 0.01910179484609666, 0.9741915371509297, 0.055423497635893305, 0.04156762322691998, 0.9006318365832663, 0.10092732007548204, 0.5097684980083669, 0.1659313567342671, 0.08382099463895966, 0.1402718685794835, 0.9520312975083762, 0.971016314779652, 0.5259896869131893, 0.3558165529118633, 0.0028127790744020818, 0.10829199436448014, 0.007031947686005204, 0.30331419105553564, 0.10110473035184521, 0.5205021303298698, 0.059913914282574934, 0.011233858927982801, 0.9904100382804865, 0.6901688345180764, 0.1908977627390424, 0.029368886575237296, 0.08810665972571188, 0.1025682353244174, 0.1025682353244174, 0.7912406725026485, 0.9686406896722835, 0.018810737564879006, 0.9593476158088293, 0.018810737564879006, 0.43891056911666926, 0.3166823093626601, 0.008333744983227897, 0.22778902954156252, 0.008333744983227897, 0.032446622453910216, 0.892282117482531, 0.06489324490782043, 0.05300511857811646, 0.9133189662690837, 0.03261853450961013, 0.1805880926682894, 0.21189002873079288, 0.35636050286542437, 0.05056466594712103, 0.19985082255290693, 0.005295502593935725, 0.1747515855998789, 0.5454367671753797, 0.21711560635136473, 0.05295502593935725, 0.15229129675468014, 0.8376021321507408, 0.9804505518902051, 0.9569692780645939, 0.9897792238711651, 0.08235403531373242, 0.9058943884510566, 0.9808010139587534], \"Term\": [\"...\", \"...\", \"...\", \"...\", \"...\", \"12\", \"12\", \"2\", \"2\", \"2\", \"2\", \"2\", \"20\", \"20\", \"20\", \"3\", \"3\", \"3\", \"3\", \"4\", \"4\", \"4\", \"4\", \"5\", \"5\", \"5\", \"5\", \"5\", \"50\", \"50\", \"6\", \"6\", \"6\", \"6\", \"728\", \"800\", \"account\", \"account\", \"account\", \"act\", \"act\", \"agent\", \"agent\", \"agent\", \"agent\", \"agent\", \"aircraft\", \"aircraft\", \"airlin\", \"airlin\", \"airlin\", \"airlin\", \"alway\", \"alway\", \"alway\", \"amaz\", \"amaz\", \"amaz\", \"american\", \"american\", \"americanairlin\", \"announc\", \"anoth\", \"anoth\", \"anoth\", \"anoth\", \"anoth\", \"answer\", \"answer\", \"answer\", \"answer\", \"answer\", \"app\", \"app\", \"app\", \"appreci\", \"appreci\", \"appreci\", \"arriv\", \"arriv\", \"arriv\", \"arriv\", \"arriv\", \"assign\", \"atl\", \"atl\", \"atlanta\", \"autom\", \"avail\", \"avail\", \"awesom\", \"awesom\", \"b\", \"b\", \"b\", \"back\", \"back\", \"back\", \"back\", \"bad\", \"bad\", \"bad\", \"bad\", \"bag\", \"bag\", \"bag\", \"bag\", \"bag\", \"basic\", \"basic\", \"best\", \"best\", \"best\", \"best\", \"bin\", \"bna\", \"bna\", \"bo\", \"bo\", \"bo\", \"board\", \"board\", \"board\", \"book\", \"book\", \"book\", \"book\", \"book\", \"bought\", \"bu\", \"busi\", \"busi\", \"busi\", \"busi\", \"call\", \"call\", \"call\", \"call\", \"call\", \"callback\", \"can't\", \"can't\", \"can't\", \"can't\", \"can't\", \"cancel\", \"cancel\", \"cancel\", \"cancel\", \"cancel\", \"captain\", \"care\", \"care\", \"care\", \"care\", \"carri\", \"case\", \"case\", \"case\", \"cc\", \"center\", \"center\", \"chang\", \"chang\", \"chang\", \"chang\", \"chang\", \"check\", \"check\", \"check\", \"check\", \"check\", \"checkin\", \"checkin\", \"checkin\", \"citi\", \"citi\", \"citi\", \"class\", \"class\", \"class\", \"clean\", \"clean\", \"close\", \"close\", \"cloth\", \"cloth\", \"club\", \"club\", \"club\", \"come\", \"come\", \"come\", \"come\", \"companion\", \"complain\", \"confirm\", \"confirm\", \"confirm\", \"confirm\", \"connect\", \"connect\", \"connect\", \"connect\", \"connect\", \"control\", \"could\", \"could\", \"could\", \"could\", \"could\", \"cours\", \"cours\", \"crew\", \"crew\", \"crew\", \"crew\", \"crew\", \"cross\", \"custom\", \"custom\", \"custom\", \"custom\", \"custom\", \"cut\", \"damn\", \"damn\", \"day\", \"day\", \"day\", \"day\", \"day\", \"definit\", \"delay\", \"delay\", \"delay\", \"delay\", \"delay\", \"delta\", \"delta\", \"destinationdragon\", \"destinationdragon\", \"destinationdragon\", \"die\", \"disappoint\", \"disappoint\", \"disappoint\", \"disappoint\", \"disconnect\", \"dm\", \"dm\", \"dm\", \"door\", \"earn\", \"eat\", \"email\", \"email\", \"email\", \"email\", \"email\", \"ever\", \"ever\", \"ever\", \"everi\", \"everi\", \"everi\", \"everi\", \"ewr\", \"ewr\", \"ewr\", \"exit\", \"experi\", \"experi\", \"experi\", \"experi\", \"experienc\", \"expir\", \"expir\", \"expir\", \"fan\", \"fan\", \"favorit\", \"fine\", \"fine\", \"finger\", \"first\", \"first\", \"first\", \"first\", \"first\", \"fit\", \"fli\", \"fli\", \"fli\", \"fli\", \"fli\", \"flight\", \"flight\", \"flight\", \"flight\", \"flight\", \"flightd\", \"flightl\", \"flightl\", \"flightl\", \"flightl\", \"flightl\", \"flightlat\", \"flightlat\", \"flightlat\", \"flightlat\", \"flown\", \"flown\", \"flt\", \"flt\", \"flt\", \"flt\", \"follow\", \"follow\", \"forward\", \"forward\", \"friend\", \"friend\", \"friend\", \"fuck\", \"fuck\", \"fuel\", \"funer\", \"funer\", \"gate\", \"gate\", \"gate\", \"get\", \"get\", \"get\", \"get\", \"get\", \"glad\", \"go\", \"go\", \"go\", \"go\", \"go\", \"gonna\", \"gonna\", \"good\", \"good\", \"good\", \"good\", \"good\", \"got\", \"got\", \"got\", \"got\", \"got\", \"great\", \"great\", \"great\", \"great\", \"great\", \"ground\", \"ground\", \"ground\", \"ground\", \"guy\", \"guy\", \"guy\", \"guy\", \"guy\", \"hang\", \"hang\", \"hang\", \"hate\", \"hate\", \"hate\", \"help\", \"help\", \"help\", \"help\", \"help\", \"hold\", \"hold\", \"hold\", \"home\", \"home\", \"home\", \"home\", \"home\", \"hope\", \"hope\", \"hope\", \"hope\", \"hour\", \"hour\", \"hour\", \"hour\", \"hour\", \"hr\", \"hr\", \"hr\", \"hr\", \"human\", \"hung\", \"i'm\", \"i'm\", \"i'm\", \"i'm\", \"i'm\", \"i'v\", \"i'v\", \"i'v\", \"ice\", \"ice\", \"imposs\", \"issu\", \"issu\", \"issu\", \"issu\", \"issu\", \"jfk\", \"jfk\", \"jfk\", \"jfk\", \"jfk\", \"know\", \"know\", \"know\", \"know\", \"land\", \"land\", \"land\", \"land\", \"land\", \"late\", \"late\", \"late\", \"late\", \"late\", \"layov\", \"layov\", \"layov\", \"leav\", \"leav\", \"leav\", \"left\", \"left\", \"left\", \"left\", \"leg\", \"leg\", \"let'\", \"letter\", \"letter\", \"like\", \"like\", \"like\", \"like\", \"like\", \"line\", \"line\", \"line\", \"line\", \"line\", \"load\", \"load\", \"load\", \"look\", \"look\", \"look\", \"look\", \"lose\", \"lose\", \"lose\", \"lost\", \"lost\", \"lost\", \"lost\", \"lost\", \"love\", \"love\", \"love\", \"love\", \"love\", \"loyal\", \"loyal\", \"loyal\", \"luv\", \"luv\", \"make\", \"make\", \"make\", \"make\", \"make\", \"messag\", \"messag\", \"middl\", \"middl\", \"min\", \"min\", \"min\", \"minut\", \"minut\", \"minut\", \"miss\", \"miss\", \"miss\", \"miss\", \"miss\", \"mobil\", \"much\", \"much\", \"much\", \"much\", \"need\", \"need\", \"need\", \"need\", \"need\", \"never\", \"never\", \"never\", \"never\", \"never\", \"new\", \"new\", \"new\", \"new\", \"new\", \"next\", \"next\", \"next\", \"next\", \"next\", \"notifi\", \"number\", \"number\", \"offer\", \"offer\", \"offer\", \"offer\", \"offer\", \"offici\", \"one\", \"one\", \"one\", \"one\", \"one\", \"onlin\", \"onlin\", \"onlin\", \"ord\", \"ord\", \"oscar\", \"overhead\", \"passeng\", \"passeng\", \"passeng\", \"passeng\", \"pay\", \"pay\", \"pay\", \"pay\", \"pay\", \"person\", \"person\", \"person\", \"phone\", \"phone\", \"phone\", \"phone\", \"phone\", \"pick\", \"pick\", \"pick\", \"pick\", \"pilot\", \"pilot\", \"pilot\", \"pilot\", \"plane\", \"plane\", \"plane\", \"pleas\", \"pleas\", \"pleas\", \"pleas\", \"pleas\", \"pm\", \"pm\", \"pm\", \"poor\", \"poor\", \"pretti\", \"pretti\", \"problem\", \"problem\", \"problem\", \"problem\", \"problem\", \"rate\", \"rebook\", \"rebook\", \"rebook\", \"rebook\", \"rebook\", \"record\", \"record\", \"reflight\", \"reflight\", \"replac\", \"reschedul\", \"reschedul\", \"reschedul\", \"reschedul\", \"reschedul\", \"reserv\", \"reserv\", \"reserv\", \"ride\", \"ride\", \"rout\", \"rout\", \"rt\", \"runway\", \"runway\", \"runway\", \"safeti\", \"seat\", \"seat\", \"seat\", \"seat\", \"see\", \"see\", \"see\", \"see\", \"see\", \"select\", \"sent\", \"sent\", \"sent\", \"servic\", \"servic\", \"servic\", \"servic\", \"servic\", \"shit\", \"shit\", \"sit\", \"sit\", \"sit\", \"sit\", \"smh\", \"social\", \"social\", \"someon\", \"someon\", \"someon\", \"someon\", \"someon\", \"southwest\", \"speak\", \"spent\", \"spent\", \"staff\", \"staff\", \"staff\", \"staff\", \"staff\", \"standbi\", \"standbi\", \"standbi\", \"state\", \"state\", \"stewardess\", \"stewardess\", \"still\", \"still\", \"still\", \"still\", \"still\", \"stuck\", \"stuck\", \"stuck\", \"stuck\", \"stuck\", \"sure\", \"sure\", \"sure\", \"sure\", \"sure\", \"sw\", \"sw\", \"system\", \"system\", \"system\", \"system\", \"system\", \"takeoff\", \"takeoff\", \"talk\", \"talk\", \"talk\", \"tarmac\", \"tarmac\", \"tarmac\", \"terribl\", \"terribl\", \"terribl\", \"terribl\", \"thank\", \"thank\", \"thank\", \"thank\", \"thank\", \"time\", \"time\", \"time\", \"time\", \"time\", \"today\", \"today\", \"today\", \"today\", \"today\", \"togeth\", \"togeth\", \"told\", \"told\", \"told\", \"told\", \"told\", \"toward\", \"track\", \"travel\", \"travel\", \"travel\", \"travel\", \"travel\", \"treat\", \"treat\", \"treat\", \"tri\", \"tri\", \"tri\", \"tri\", \"tri\", \"truli\", \"truli\", \"trust\", \"u\", \"u\", \"u\", \"u\", \"u\", \"upgrad\", \"upgrad\", \"ur\", \"ur\", \"ur\", \"us\", \"us\", \"us\", \"us\", \"us\", \"video\", \"volum\", \"wait\", \"wait\", \"wait\", \"wait\", \"wait\", \"want\", \"want\", \"want\", \"want\", \"want\", \"water\", \"websit\", \"websit\", \"websit\", \"websit\", \"wife\", \"wife\", \"wife\", \"winter\", \"wonder\", \"wonder\", \"wonder\", \"work\", \"work\", \"work\", \"work\", \"work\", \"wors\", \"wors\", \"wors\", \"worst\", \"worst\", \"worst\", \"would\", \"would\", \"would\", \"would\", \"would\", \"ye\", \"ye\", \"ye\", \"ye\", \"ye\", \"year\", \"year\", \"\\u2708\", \"\\u2764\", \"\\ufe0f\", \"\\ud83d\\udc4d\", \"\\ud83d\\udc4d\", \"\\ud83d\\ude21\"]}, \"R\": 30, \"lambda.step\": 0.01, \"plot.opts\": {\"xlab\": \"PC1\", \"ylab\": \"PC2\"}, \"topic.order\": [1, 4, 3, 2, 5]};\n",
       "\n",
       "function LDAvis_load_lib(url, callback){\n",
       "  var s = document.createElement('script');\n",
       "  s.src = url;\n",
       "  s.async = true;\n",
       "  s.onreadystatechange = s.onload = callback;\n",
       "  s.onerror = function(){console.warn(\"failed to load library \" + url);};\n",
       "  document.getElementsByTagName(\"head\")[0].appendChild(s);\n",
       "}\n",
       "\n",
       "if(typeof(LDAvis) !== \"undefined\"){\n",
       "   // already loaded: just create the visualization\n",
       "   !function(LDAvis){\n",
       "       new LDAvis(\"#\" + \"ldavis_el13441404630193493765801107558\", ldavis_el13441404630193493765801107558_data);\n",
       "   }(LDAvis);\n",
       "}else if(typeof define === \"function\" && define.amd){\n",
       "   // require.js is available: use it to load d3/LDAvis\n",
       "   require.config({paths: {d3: \"https://d3js.org/d3.v5\"}});\n",
       "   require([\"d3\"], function(d3){\n",
       "      window.d3 = d3;\n",
       "      LDAvis_load_lib(\"https://cdn.jsdelivr.net/gh/bmabey/pyLDAvis@3.2.2/pyLDAvis/js/ldavis.v3.0.0.js\", function(){\n",
       "        new LDAvis(\"#\" + \"ldavis_el13441404630193493765801107558\", ldavis_el13441404630193493765801107558_data);\n",
       "      });\n",
       "    });\n",
       "}else{\n",
       "    // require.js not available: dynamically load d3 & LDAvis\n",
       "    LDAvis_load_lib(\"https://d3js.org/d3.v5.js\", function(){\n",
       "         LDAvis_load_lib(\"https://cdn.jsdelivr.net/gh/bmabey/pyLDAvis@3.2.2/pyLDAvis/js/ldavis.v3.0.0.js\", function(){\n",
       "                 new LDAvis(\"#\" + \"ldavis_el13441404630193493765801107558\", ldavis_el13441404630193493765801107558_data);\n",
       "            })\n",
       "         });\n",
       "}\n",
       "</script>"
      ],
      "text/plain": [
       "PreparedData(topic_coordinates=              x         y  topics  cluster       Freq\n",
       "topic                                                \n",
       "0      0.154710 -0.107599       1        1  21.637192\n",
       "3      0.070478  0.127317       2        1  20.700470\n",
       "2     -0.198541 -0.021026       3        1  20.317163\n",
       "1      0.002146  0.114310       4        1  19.832933\n",
       "4     -0.028793 -0.113002       5        1  17.512240, topic_info=       Term         Freq        Total Category  logprob  loglift\n",
       "219  custom   885.000000   885.000000  Default  30.0000  30.0000\n",
       "101    call   746.000000   746.000000  Default  29.0000  29.0000\n",
       "53    thank  1418.000000  1418.000000  Default  28.0000  28.0000\n",
       "221  servic   917.000000   917.000000  Default  27.0000  27.0000\n",
       "231  cancel   974.000000   974.000000  Default  26.0000  26.0000\n",
       "..      ...          ...          ...      ...      ...      ...\n",
       "411     day   113.953158   514.181301   Topic5  -4.9616   0.2355\n",
       "264    miss    97.196468   385.487022   Topic5  -5.1206   0.3645\n",
       "0       ...   105.452466   838.651899   Topic5  -5.0391  -0.3313\n",
       "185     tri    94.582637   507.965063   Topic5  -5.1479   0.0613\n",
       "186    need    94.175522   504.176080   Topic5  -5.1522   0.0645\n",
       "\n",
       "[344 rows x 6 columns], token_table=      Topic      Freq Term\n",
       "term                      \n",
       "0         1  0.293328  ...\n",
       "0         2  0.345793  ...\n",
       "0         3  0.127586  ...\n",
       "0         4  0.107315  ...\n",
       "0         5  0.125201  ...\n",
       "...     ...       ...  ...\n",
       "77        4  0.956969    ❤\n",
       "78        4  0.989779    ️\n",
       "79        2  0.082354    👍\n",
       "79        3  0.905894    👍\n",
       "100       4  0.980801    😡\n",
       "\n",
       "[817 rows x 3 columns], R=30, lambda_step=0.01, plot_opts={'xlab': 'PC1', 'ylab': 'PC2'}, topic_order=[1, 4, 3, 2, 5])"
      ]
     },
     "execution_count": 23,
     "metadata": {},
     "output_type": "execute_result"
    }
   ],
   "source": [
    "# Visualize the topics\n",
    "num_topics=5\n",
    "pyLDAvis.enable_notebook()\n",
    "LDAvis_data_filepath = os.path.join('ldavis_prepared_'+str(num_topics))\n",
    "# # this is a bit time consuming - make the if statement True\n",
    "# # if you want to execute visualization prep yourself\n",
    "if 1 == 1:\n",
    "    LDAvis_prepared = pyLDAvis.gensim.prepare(lda_model, bow_corpus, dictionary)\n",
    "    with open(LDAvis_data_filepath, 'wb') as f:\n",
    "        pickle.dump(LDAvis_prepared, f)\n",
    "# load the pre-prepared pyLDAvis data from disk\n",
    "with open(LDAvis_data_filepath, 'rb') as f:\n",
    "    LDAvis_prepared = pickle.load(f)\n",
    "pyLDAvis.save_html(LDAvis_prepared, 'ldavis_prepared_'+ str(num_topics) +'.html')\n",
    "LDAvis_prepared"
   ]
  },
  {
   "cell_type": "markdown",
   "metadata": {},
   "source": [
    "## References:\n",
    "* https://medium.com/@lettier/how-does-lda-work-ill-explain-using-emoji-108abf40fa7d\n",
    "* https://towardsdatascience.com/topic-modeling-and-latent-dirichlet-allocation-in-python-9bf156893c24\n",
    "* https://github.com/AprendizajeProfundo/Diplomado/blob/master/Temas/Módulo%208-%20Aprendizaje%20Profundo%20II/1.%20Procesamiento%20de%20Lenguaje%20natural/Cuadernos/nlp_Introduccion.ipynb\n",
    "* https://towardsdatascience.com/end-to-end-topic-modeling-in-python-latent-dirichlet-allocation-lda-35ce4ed6b3e0"
   ]
  },
  {
   "cell_type": "code",
   "execution_count": null,
   "metadata": {},
   "outputs": [],
   "source": []
  }
 ],
 "metadata": {
  "kernelspec": {
   "display_name": "Python 3",
   "language": "python",
   "name": "python3"
  },
  "language_info": {
   "codemirror_mode": {
    "name": "ipython",
    "version": 3
   },
   "file_extension": ".py",
   "mimetype": "text/x-python",
   "name": "python",
   "nbconvert_exporter": "python",
   "pygments_lexer": "ipython3",
   "version": "3.8.5"
  }
 },
 "nbformat": 4,
 "nbformat_minor": 4
}

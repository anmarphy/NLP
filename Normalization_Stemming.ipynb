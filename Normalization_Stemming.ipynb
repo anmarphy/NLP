{
 "cells": [
  {
   "cell_type": "code",
   "execution_count": 1,
   "metadata": {},
   "outputs": [],
   "source": [
    "import re\n",
    "import nltk\n",
    "from nltk.tokenize import sent_tokenize, word_tokenize \n",
    "from nltk.corpus import stopwords\n",
    "from nltk.stem import WordNetLemmatizer \n",
    "import gensim"
   ]
  },
  {
   "cell_type": "code",
   "execution_count": 2,
   "metadata": {},
   "outputs": [
    {
     "name": "stdout",
     "output_type": "stream",
     "text": [
      "Requirement already satisfied: nltk in /Users/anmarphy/opt/anaconda3/lib/python3.8/site-packages (3.5)\n",
      "Requirement already satisfied: tqdm in /Users/anmarphy/opt/anaconda3/lib/python3.8/site-packages (from nltk) (4.50.2)\n",
      "Requirement already satisfied: joblib in /Users/anmarphy/opt/anaconda3/lib/python3.8/site-packages (from nltk) (0.17.0)\n",
      "Requirement already satisfied: regex in /Users/anmarphy/opt/anaconda3/lib/python3.8/site-packages (from nltk) (2020.10.15)\n",
      "Requirement already satisfied: click in /Users/anmarphy/opt/anaconda3/lib/python3.8/site-packages (from nltk) (7.1.2)\n",
      "Requirement already satisfied: gensim in /Users/anmarphy/opt/anaconda3/lib/python3.8/site-packages (3.8.3)\n",
      "Requirement already satisfied: six>=1.5.0 in /Users/anmarphy/opt/anaconda3/lib/python3.8/site-packages (from gensim) (1.15.0)\n",
      "Requirement already satisfied: scipy>=0.18.1 in /Users/anmarphy/opt/anaconda3/lib/python3.8/site-packages (from gensim) (1.5.2)\n",
      "Requirement already satisfied: numpy>=1.11.3 in /Users/anmarphy/opt/anaconda3/lib/python3.8/site-packages (from gensim) (1.19.2)\n",
      "Requirement already satisfied: smart-open>=1.8.1 in /Users/anmarphy/opt/anaconda3/lib/python3.8/site-packages (from gensim) (4.2.0)\n"
     ]
    },
    {
     "name": "stderr",
     "output_type": "stream",
     "text": [
      "[nltk_data] Downloading package stopwords to\n",
      "[nltk_data]     /Users/anmarphy/nltk_data...\n",
      "[nltk_data]   Package stopwords is already up-to-date!\n",
      "[nltk_data] Downloading package wordnet to\n",
      "[nltk_data]     /Users/anmarphy/nltk_data...\n",
      "[nltk_data]   Package wordnet is already up-to-date!\n"
     ]
    },
    {
     "data": {
      "text/plain": [
       "True"
      ]
     },
     "execution_count": 2,
     "metadata": {},
     "output_type": "execute_result"
    }
   ],
   "source": [
    "!pip install nltk\n",
    "!pip install gensim\n",
    "import nltk\n",
    "nltk.download('stopwords')\n",
    "nltk.download('wordnet')"
   ]
  },
  {
   "cell_type": "code",
   "execution_count": null,
   "metadata": {},
   "outputs": [],
   "source": []
  },
  {
   "cell_type": "markdown",
   "metadata": {},
   "source": [
    "https://en.wikipedia.org/wiki/The_7_Habits_of_Highly_Effective_People"
   ]
  },
  {
   "cell_type": "code",
   "execution_count": 3,
   "metadata": {},
   "outputs": [
    {
     "name": "stdout",
     "output_type": "stream",
     "text": [
      "The 7 Habits of Highly Effective People, first published in 1989, is a business and self-help book written by  Stephen R. Covey.[1] Covey presents an approach to being effective in attaining goals by aligning oneself to what he calls \"true north\" principles based on a character ethic that he presents as universal and timeless.Covey defines effectiveness as the balance of obtaining desirable results with caring for that which produces those results. He illustrates this by referring to the fable of the goose that laid the golden eggs. He further claims that effectiveness can be expressed in terms of the P/PC ratio, where P refers to getting desired results and PC is caring for that which produces the results. Coveys best-known book has sold more than 25 million copies worldwide since its first publication. The audio version became the first non-fiction audio-book in U.S. publishing history to sell more than one million copies. Covey argues against what he calls \"the personality ethic\", that he sees as prevalent in many modern self-help books. He promotes what he labels \"the character ethic\": aligning ones values with so-called universal and timeless principles. In doing this, Covey distinguishes principles and values. He sees principles as external  natural laws, while values remain internal and subjective. Our values govern our behavior, while principles ultimately determine the consequences. Covey presents his teachings in a series of habits, manifesting as a progression from dependence through independence on to interdependence.\n"
     ]
    }
   ],
   "source": [
    "text='The 7 Habits of Highly Effective People, first published in 1989, is a business and self-help book written by \\\n",
    " Stephen R. Covey.[1] Covey presents an approach to being effective in attaining goals by aligning oneself to what \\\n",
    "he calls \"true north\" principles based on a character ethic that he presents as universal and timeless.\\\n",
    "Covey defines effectiveness as the balance of obtaining desirable results with caring for that which produces \\\n",
    "those results. He illustrates this by referring to the fable of the goose that laid the golden eggs. He further \\\n",
    "claims that effectiveness can be expressed in terms of the P/PC ratio, where P refers to getting desired results \\\n",
    "and PC is caring for that which produces the results. \\\n",
    "Coveys best-known book has sold more than 25 million copies worldwide since its first publication. \\\n",
    "The audio version became the first non-fiction audio-book in U.S. publishing history to sell more than one million \\\n",
    "copies. Covey argues against what he calls \"the personality ethic\", that he sees as prevalent in many modern \\\n",
    "self-help books. He promotes what he labels \"the character ethic\": aligning ones values with so-called universal \\\n",
    "and timeless principles. In doing this, Covey distinguishes principles and values. He sees principles as external  \\\n",
    "natural laws, while values remain internal and subjective. Our values govern our behavior, while principles \\\n",
    "ultimately determine the consequences. Covey presents his teachings in a series of habits, manifesting \\\n",
    "as a progression from dependence through independence on to interdependence.'\n",
    "print(text)"
   ]
  },
  {
   "cell_type": "markdown",
   "metadata": {},
   "source": [
    "## Tokenization"
   ]
  },
  {
   "cell_type": "markdown",
   "metadata": {},
   "source": [
    "#### Sentences"
   ]
  },
  {
   "cell_type": "code",
   "execution_count": 4,
   "metadata": {},
   "outputs": [
    {
     "data": {
      "text/plain": [
       "['The 7 Habits of Highly Effective People, first published in 1989, is a business and self-help book written by  Stephen R.',\n",
       " 'Covey.',\n",
       " '[1] Covey presents an approach to being effective in attaining goals by aligning oneself to what he calls \"true north\" principles based on a character ethic that he presents as universal and timeless.Covey defines effectiveness as the balance of obtaining desirable results with caring for that which produces those results.',\n",
       " 'He illustrates this by referring to the fable of the goose that laid the golden eggs.',\n",
       " 'He further claims that effectiveness can be expressed in terms of the P/PC ratio, where P refers to getting desired results and PC is caring for that which produces the results.',\n",
       " 'Coveys best-known book has sold more than 25 million copies worldwide since its first publication.',\n",
       " 'The audio version became the first non-fiction audio-book in U.S. publishing history to sell more than one million copies.',\n",
       " 'Covey argues against what he calls \"the personality ethic\", that he sees as prevalent in many modern self-help books.',\n",
       " 'He promotes what he labels \"the character ethic\": aligning ones values with so-called universal and timeless principles.',\n",
       " 'In doing this, Covey distinguishes principles and values.',\n",
       " 'He sees principles as external  natural laws, while values remain internal and subjective.',\n",
       " 'Our values govern our behavior, while principles ultimately determine the consequences.',\n",
       " 'Covey presents his teachings in a series of habits, manifesting as a progression from dependence through independence on to interdependence.']"
      ]
     },
     "execution_count": 4,
     "metadata": {},
     "output_type": "execute_result"
    }
   ],
   "source": [
    "sentences=sent_tokenize(text)\n",
    "sentences"
   ]
  },
  {
   "cell_type": "code",
   "execution_count": 5,
   "metadata": {},
   "outputs": [
    {
     "data": {
      "text/plain": [
       "13"
      ]
     },
     "execution_count": 5,
     "metadata": {},
     "output_type": "execute_result"
    }
   ],
   "source": [
    "len(sentences)"
   ]
  },
  {
   "cell_type": "markdown",
   "metadata": {},
   "source": [
    "#### Words"
   ]
  },
  {
   "cell_type": "code",
   "execution_count": 6,
   "metadata": {},
   "outputs": [
    {
     "data": {
      "text/plain": [
       "['The',\n",
       " '7',\n",
       " 'Habits',\n",
       " 'of',\n",
       " 'Highly',\n",
       " 'Effective',\n",
       " 'People',\n",
       " ',',\n",
       " 'first',\n",
       " 'published']"
      ]
     },
     "execution_count": 6,
     "metadata": {},
     "output_type": "execute_result"
    }
   ],
   "source": [
    "words=word_tokenize(text)\n",
    "words[0:10]"
   ]
  },
  {
   "cell_type": "markdown",
   "metadata": {},
   "source": [
    "## Normalization"
   ]
  },
  {
   "cell_type": "markdown",
   "metadata": {},
   "source": [
    "#### Lower case"
   ]
  },
  {
   "cell_type": "code",
   "execution_count": 7,
   "metadata": {},
   "outputs": [
    {
     "data": {
      "text/plain": [
       "['the',\n",
       " '7',\n",
       " 'habits',\n",
       " 'of',\n",
       " 'highly',\n",
       " 'effective',\n",
       " 'people',\n",
       " ',',\n",
       " 'first',\n",
       " 'published']"
      ]
     },
     "execution_count": 7,
     "metadata": {},
     "output_type": "execute_result"
    }
   ],
   "source": [
    "tokens=[word.lower() for word in words]\n",
    "tokens[0:10]"
   ]
  },
  {
   "cell_type": "markdown",
   "metadata": {},
   "source": [
    "#### Removing special characters"
   ]
  },
  {
   "cell_type": "code",
   "execution_count": 8,
   "metadata": {},
   "outputs": [
    {
     "name": "stdout",
     "output_type": "stream",
     "text": [
      "['the', '7', 'habits', 'of', 'highly', 'effective', 'people', '', 'first', 'published', 'in', '1989', '', 'is', 'a', 'business', 'and', 'self-help', 'book', 'written', 'by', 'stephen', 'r', '', 'covey', '', '[', '1', ']', 'covey', 'presents', 'an', 'approach', 'to', 'being', 'effective', 'in', 'attaining', 'goals', 'by', 'aligning', 'oneself', 'to', 'what', 'he', 'calls', '``', 'true', 'north', \"''\", 'principles', 'based', 'on', 'a', 'character', 'ethic', 'that', 'he', 'presents', 'as', 'universal', 'and', 'timelesscovey', 'defines', 'effectiveness', 'as', 'the', 'balance', 'of', 'obtaining', 'desirable', 'results', 'with', 'caring', 'for', 'that', 'which', 'produces', 'those', 'results', '', 'he', 'illustrates', 'this', 'by', 'referring', 'to', 'the', 'fable', 'of', 'the', 'goose', 'that', 'laid', 'the', 'golden', 'eggs', '', 'he', 'further', 'claims', 'that', 'effectiveness', 'can', 'be', 'expressed', 'in', 'terms', 'of', 'the', 'p/pc', 'ratio', '', 'where', 'p', 'refers', 'to', 'getting', 'desired', 'results', 'and', 'pc', 'is', 'caring', 'for', 'that', 'which', 'produces', 'the', 'results', '', 'coveys', 'best-known', 'book', 'has', 'sold', 'more', 'than', '25', 'million', 'copies', 'worldwide', 'since', 'its', 'first', 'publication', '', 'the', 'audio', 'version', 'became', 'the', 'first', 'non-fiction', 'audio-book', 'in', 'us', 'publishing', 'history', 'to', 'sell', 'more', 'than', 'one', 'million', 'copies', '', 'covey', 'argues', 'against', 'what', 'he', 'calls', '``', 'the', 'personality', 'ethic', \"''\", '', 'that', 'he', 'sees', 'as', 'prevalent', 'in', 'many', 'modern', 'self-help', 'books', '', 'he', 'promotes', 'what', 'he', 'labels', '``', 'the', 'character', 'ethic', \"''\", ':', 'aligning', 'ones', 'values', 'with', 'so-called', 'universal', 'and', 'timeless', 'principles', '', 'in', 'doing', 'this', '', 'covey', 'distinguishes', 'principles', 'and', 'values', '', 'he', 'sees', 'principles', 'as', 'external', 'natural', 'laws', '', 'while', 'values', 'remain', 'internal', 'and', 'subjective', '', 'our', 'values', 'govern', 'our', 'behavior', '', 'while', 'principles', 'ultimately', 'determine', 'the', 'consequences', '', 'covey', 'presents', 'his', 'teachings', 'in', 'a', 'series', 'of', 'habits', '', 'manifesting', 'as', 'a', 'progression', 'from', 'dependence', 'through', 'independence', 'on', 'to', 'interdependence', '']\n"
     ]
    }
   ],
   "source": [
    "tokens = [re.sub(r'[.,\"]', '',token) for token in tokens] # ., and \" replaced with '' \n",
    "print(tokens)"
   ]
  },
  {
   "cell_type": "markdown",
   "metadata": {},
   "source": [
    "#### Removing words shorter than 4 char"
   ]
  },
  {
   "cell_type": "code",
   "execution_count": 9,
   "metadata": {},
   "outputs": [
    {
     "name": "stdout",
     "output_type": "stream",
     "text": [
      "['habits', 'highly', 'effective', 'people', 'first', 'published', '1989', 'business', 'self-help', 'book', 'written', 'stephen', 'covey', 'covey', 'presents', 'approach', 'being', 'effective', 'attaining', 'goals', 'aligning', 'oneself', 'what', 'calls', 'true', 'north', 'principles', 'based', 'character', 'ethic', 'that', 'presents', 'universal', 'timelesscovey', 'defines', 'effectiveness', 'balance', 'obtaining', 'desirable', 'results', 'with', 'caring', 'that', 'which', 'produces', 'those', 'results', 'illustrates', 'this', 'referring', 'fable', 'goose', 'that', 'laid', 'golden', 'eggs', 'further', 'claims', 'that', 'effectiveness', 'expressed', 'terms', 'p/pc', 'ratio', 'where', 'refers', 'getting', 'desired', 'results', 'caring', 'that', 'which', 'produces', 'results', 'coveys', 'best-known', 'book', 'sold', 'more', 'than', 'million', 'copies', 'worldwide', 'since', 'first', 'publication', 'audio', 'version', 'became', 'first', 'non-fiction', 'audio-book', 'publishing', 'history', 'sell', 'more', 'than', 'million', 'copies', 'covey', 'argues', 'against', 'what', 'calls', 'personality', 'ethic', 'that', 'sees', 'prevalent', 'many', 'modern', 'self-help', 'books', 'promotes', 'what', 'labels', 'character', 'ethic', 'aligning', 'ones', 'values', 'with', 'so-called', 'universal', 'timeless', 'principles', 'doing', 'this', 'covey', 'distinguishes', 'principles', 'values', 'sees', 'principles', 'external', 'natural', 'laws', 'while', 'values', 'remain', 'internal', 'subjective', 'values', 'govern', 'behavior', 'while', 'principles', 'ultimately', 'determine', 'consequences', 'covey', 'presents', 'teachings', 'series', 'habits', 'manifesting', 'progression', 'from', 'dependence', 'through', 'independence', 'interdependence']\n"
     ]
    }
   ],
   "source": [
    "tokens_4 = []\n",
    "for token in tokens:\n",
    "    if len(token) > 3:\n",
    "        tokens_4.append(token)\n",
    "tokens = tokens_4\n",
    "\n",
    "print(tokens)"
   ]
  },
  {
   "cell_type": "markdown",
   "metadata": {},
   "source": [
    "#### Stop words"
   ]
  },
  {
   "cell_type": "code",
   "execution_count": 10,
   "metadata": {},
   "outputs": [],
   "source": [
    "stopWords = set(stopwords.words('english'))"
   ]
  },
  {
   "cell_type": "code",
   "execution_count": 11,
   "metadata": {},
   "outputs": [
    {
     "name": "stdout",
     "output_type": "stream",
     "text": [
      "['habits', 'highly', 'effective', 'people', 'first', 'published', '1989', 'business', 'self-help', 'book', 'written', 'stephen', 'covey', 'covey', 'presents', 'approach', 'effective', 'attaining', 'goals', 'aligning', 'oneself', 'calls', 'true', 'north', 'principles', 'based', 'character', 'ethic', 'presents', 'universal', 'timelesscovey', 'defines', 'effectiveness', 'balance', 'obtaining', 'desirable', 'results', 'caring', 'produces', 'results', 'illustrates', 'referring', 'fable', 'goose', 'laid', 'golden', 'eggs', 'claims', 'effectiveness', 'expressed', 'terms', 'p/pc', 'ratio', 'refers', 'getting', 'desired', 'results', 'caring', 'produces', 'results', 'coveys', 'best-known', 'book', 'sold', 'million', 'copies', 'worldwide', 'since', 'first', 'publication', 'audio', 'version', 'became', 'first', 'non-fiction', 'audio-book', 'publishing', 'history', 'sell', 'million', 'copies', 'covey', 'argues', 'calls', 'personality', 'ethic', 'sees', 'prevalent', 'many', 'modern', 'self-help', 'books', 'promotes', 'labels', 'character', 'ethic', 'aligning', 'ones', 'values', 'so-called', 'universal', 'timeless', 'principles', 'covey', 'distinguishes', 'principles', 'values', 'sees', 'principles', 'external', 'natural', 'laws', 'values', 'remain', 'internal', 'subjective', 'values', 'govern', 'behavior', 'principles', 'ultimately', 'determine', 'consequences', 'covey', 'presents', 'teachings', 'series', 'habits', 'manifesting', 'progression', 'dependence', 'independence', 'interdependence']\n"
     ]
    }
   ],
   "source": [
    "tokens_n_e = []\n",
    "\n",
    "for token in tokens:\n",
    "    if token not in stopWords:\n",
    "        tokens_n_e.append(token)\n",
    "\n",
    "tokens = tokens_n_e\n",
    "print(tokens)"
   ]
  },
  {
   "cell_type": "markdown",
   "metadata": {},
   "source": [
    "## Lemmatize \n",
    "#### (Morphologic analysis)"
   ]
  },
  {
   "cell_type": "code",
   "execution_count": 12,
   "metadata": {},
   "outputs": [
    {
     "name": "stdout",
     "output_type": "stream",
     "text": [
      "rocks : rock\n",
      "corpora : corpus\n",
      "better : good\n"
     ]
    }
   ],
   "source": [
    "lemmatizer = WordNetLemmatizer() \n",
    "  \n",
    "print(\"rocks :\", lemmatizer.lemmatize(\"rocks\")) \n",
    "print(\"corpora :\", lemmatizer.lemmatize(\"corpora\")) \n",
    "print(\"better :\", lemmatizer.lemmatize(\"better\", pos =\"a\")) ## a denotes adj in 'pos'"
   ]
  },
  {
   "cell_type": "markdown",
   "metadata": {},
   "source": [
    "#### Verbs"
   ]
  },
  {
   "cell_type": "code",
   "execution_count": 13,
   "metadata": {},
   "outputs": [
    {
     "name": "stdout",
     "output_type": "stream",
     "text": [
      "Original: \n",
      "  ['habits', 'highly', 'effective', 'people', 'first', 'published', '1989', 'business', 'self-help', 'book', 'written', 'stephen', 'covey', 'covey', 'presents', 'approach', 'effective', 'attaining', 'goals', 'aligning', 'oneself', 'calls', 'true', 'north', 'principles', 'based', 'character', 'ethic', 'presents', 'universal', 'timelesscovey', 'defines', 'effectiveness', 'balance', 'obtaining', 'desirable', 'results', 'caring', 'produces', 'results', 'illustrates', 'referring', 'fable', 'goose', 'laid', 'golden', 'eggs', 'claims', 'effectiveness', 'expressed', 'terms', 'p/pc', 'ratio', 'refers', 'getting', 'desired', 'results', 'caring', 'produces', 'results', 'coveys', 'best-known', 'book', 'sold', 'million', 'copies', 'worldwide', 'since', 'first', 'publication', 'audio', 'version', 'became', 'first', 'non-fiction', 'audio-book', 'publishing', 'history', 'sell', 'million', 'copies', 'covey', 'argues', 'calls', 'personality', 'ethic', 'sees', 'prevalent', 'many', 'modern', 'self-help', 'books', 'promotes', 'labels', 'character', 'ethic', 'aligning', 'ones', 'values', 'so-called', 'universal', 'timeless', 'principles', 'covey', 'distinguishes', 'principles', 'values', 'sees', 'principles', 'external', 'natural', 'laws', 'values', 'remain', 'internal', 'subjective', 'values', 'govern', 'behavior', 'principles', 'ultimately', 'determine', 'consequences', 'covey', 'presents', 'teachings', 'series', 'habits', 'manifesting', 'progression', 'dependence', 'independence', 'interdependence']\n",
      "\n",
      "\n",
      "Lemmatization Verbs: \n",
      "  ['habit', 'highly', 'effective', 'people', 'first', 'publish', '1989', 'business', 'self-help', 'book', 'write', 'stephen', 'covey', 'covey', 'present', 'approach', 'effective', 'attain', 'goals', 'align', 'oneself', 'call', 'true', 'north', 'principles', 'base', 'character', 'ethic', 'present', 'universal', 'timelesscovey', 'define', 'effectiveness', 'balance', 'obtain', 'desirable', 'result', 'care', 'produce', 'result', 'illustrate', 'refer', 'fable', 'goose', 'lay', 'golden', 'egg', 'claim', 'effectiveness', 'express', 'term', 'p/pc', 'ratio', 'refer', 'get', 'desire', 'result', 'care', 'produce', 'result', 'coveys', 'best-known', 'book', 'sell', 'million', 'copy', 'worldwide', 'since', 'first', 'publication', 'audio', 'version', 'become', 'first', 'non-fiction', 'audio-book', 'publish', 'history', 'sell', 'million', 'copy', 'covey', 'argue', 'call', 'personality', 'ethic', 'see', 'prevalent', 'many', 'modern', 'self-help', 'book', 'promote', 'label', 'character', 'ethic', 'align', 'ones', 'value', 'so-called', 'universal', 'timeless', 'principles', 'covey', 'distinguish', 'principles', 'value', 'see', 'principles', 'external', 'natural', 'laws', 'value', 'remain', 'internal', 'subjective', 'value', 'govern', 'behavior', 'principles', 'ultimately', 'determine', 'consequences', 'covey', 'present', 'teach', 'series', 'habit', 'manifest', 'progression', 'dependence', 'independence', 'interdependence']\n"
     ]
    }
   ],
   "source": [
    "lemma_text =[]\n",
    "for token in tokens:\n",
    "    lemma_text.append(WordNetLemmatizer().lemmatize(token, pos='v'))\n",
    "\n",
    "print('Original: \\n ', tokens)\n",
    "print('\\n')\n",
    "print('Lemmatization Verbs: \\n ',lemma_text)"
   ]
  },
  {
   "cell_type": "markdown",
   "metadata": {},
   "source": [
    "#### Nouns"
   ]
  },
  {
   "cell_type": "code",
   "execution_count": 14,
   "metadata": {},
   "outputs": [
    {
     "name": "stdout",
     "output_type": "stream",
     "text": [
      "['habit', 'highly', 'effective', 'people', 'first', 'publish', '1989', 'business', 'self-help', 'book', 'write', 'stephen', 'covey', 'covey', 'present', 'approach', 'effective', 'attain', 'goal', 'align', 'oneself', 'call', 'true', 'north', 'principle', 'base', 'character', 'ethic', 'present', 'universal', 'timelesscovey', 'define', 'effectiveness', 'balance', 'obtain', 'desirable', 'result', 'care', 'produce', 'result', 'illustrate', 'refer', 'fable', 'goose', 'lay', 'golden', 'egg', 'claim', 'effectiveness', 'express', 'term', 'p/pc', 'ratio', 'refer', 'get', 'desire', 'result', 'care', 'produce', 'result', 'covey', 'best-known', 'book', 'sell', 'million', 'copy', 'worldwide', 'since', 'first', 'publication', 'audio', 'version', 'become', 'first', 'non-fiction', 'audio-book', 'publish', 'history', 'sell', 'million', 'copy', 'covey', 'argue', 'call', 'personality', 'ethic', 'see', 'prevalent', 'many', 'modern', 'self-help', 'book', 'promote', 'label', 'character', 'ethic', 'align', 'one', 'value', 'so-called', 'universal', 'timeless', 'principle', 'covey', 'distinguish', 'principle', 'value', 'see', 'principle', 'external', 'natural', 'law', 'value', 'remain', 'internal', 'subjective', 'value', 'govern', 'behavior', 'principle', 'ultimately', 'determine', 'consequence', 'covey', 'present', 'teach', 'series', 'habit', 'manifest', 'progression', 'dependence', 'independence', 'interdependence']\n"
     ]
    }
   ],
   "source": [
    "for i in range(len(lemma_text )):\n",
    "    lemma_text[i] = WordNetLemmatizer().lemmatize(lemma_text[i], pos='n')\n",
    "print(lemma_text)"
   ]
  },
  {
   "cell_type": "markdown",
   "metadata": {},
   "source": [
    "## Steeming"
   ]
  },
  {
   "cell_type": "code",
   "execution_count": 15,
   "metadata": {},
   "outputs": [
    {
     "name": "stdout",
     "output_type": "stream",
     "text": [
      "['habit', 'highli', 'effect', 'peopl', 'first', 'publish', '1989', 'busi', 'self-help', 'book', 'write', 'stephen', 'covey', 'covey', 'present', 'approach', 'effect', 'attain', 'goal', 'align', 'oneself', 'call', 'true', 'north', 'principl', 'base', 'charact', 'ethic', 'present', 'univers', 'timelesscovey', 'defin', 'effect', 'balanc', 'obtain', 'desir', 'result', 'care', 'produc', 'result', 'illustr', 'refer', 'fabl', 'goos', 'lay', 'golden', 'egg', 'claim', 'effect', 'express', 'term', 'p/pc', 'ratio', 'refer', 'get', 'desir', 'result', 'care', 'produc', 'result', 'covey', 'best-known', 'book', 'sell', 'million', 'copi', 'worldwid', 'sinc', 'first', 'public', 'audio', 'version', 'becom', 'first', 'non-fict', 'audio-book', 'publish', 'histori', 'sell', 'million', 'copi', 'covey', 'argu', 'call', 'person', 'ethic', 'see', 'preval', 'mani', 'modern', 'self-help', 'book', 'promot', 'label', 'charact', 'ethic', 'align', 'one', 'valu', 'so-cal', 'univers', 'timeless', 'principl', 'covey', 'distinguish', 'principl', 'valu', 'see', 'principl', 'extern', 'natur', 'law', 'valu', 'remain', 'intern', 'subject', 'valu', 'govern', 'behavior', 'principl', 'ultim', 'determin', 'consequ', 'covey', 'present', 'teach', 'seri', 'habit', 'manifest', 'progress', 'depend', 'independ', 'interdepend']\n"
     ]
    }
   ],
   "source": [
    "from nltk.stem import PorterStemmer ## Most common English stemmer\n",
    "ps = PorterStemmer()\n",
    "\n",
    "for i in range(len(lemma_text)):\n",
    "    lemma_text[i] = ps.stem(lemma_text[i])\n",
    "print(lemma_text)"
   ]
  },
  {
   "cell_type": "code",
   "execution_count": null,
   "metadata": {},
   "outputs": [],
   "source": []
  }
 ],
 "metadata": {
  "kernelspec": {
   "display_name": "Python 3",
   "language": "python",
   "name": "python3"
  },
  "language_info": {
   "codemirror_mode": {
    "name": "ipython",
    "version": 3
   },
   "file_extension": ".py",
   "mimetype": "text/x-python",
   "name": "python",
   "nbconvert_exporter": "python",
   "pygments_lexer": "ipython3",
   "version": "3.8.5"
  }
 },
 "nbformat": 4,
 "nbformat_minor": 4
}

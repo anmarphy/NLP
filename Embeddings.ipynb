{
 "cells": [
  {
   "cell_type": "markdown",
   "metadata": {},
   "source": [
    "# Embendings "
   ]
  },
  {
   "cell_type": "code",
   "execution_count": null,
   "metadata": {},
   "outputs": [],
   "source": []
  },
  {
   "cell_type": "code",
   "execution_count": 1,
   "metadata": {},
   "outputs": [],
   "source": [
    "import tensorflow as tf\n",
    "import pandas as pd\n",
    "import numpy as np\n",
    "import re\n",
    "import nltk\n",
    "import matplotlib.pyplot as plt\n",
    "from gensim.models import word2vec\n",
    "pd.options.display.max_colwidth = 200\n",
    "\n",
    "%matplotlib inline"
   ]
  },
  {
   "cell_type": "markdown",
   "metadata": {},
   "source": [
    "## Motivation"
   ]
  },
  {
   "cell_type": "markdown",
   "metadata": {},
   "source": [
    "Since text is unstructured and noise, the embemdings representation allow us to represent their information in a vectorial space. Word2Vec, Glove and FastText are algorithms that create those vectorial spaces using the contextual similarity and semantic between words. In contrast with the bags of words which just capture the relation between closest words and not the global semantic relationship in a document. \n",
    "The aim of this kind of techniques is predicting instead of counting.\n",
    "https://www.aclweb.org/anthology/P14-1023.pdf"
   ]
  },
  {
   "cell_type": "markdown",
   "metadata": {},
   "source": [
    "## Data Preparation"
   ]
  },
  {
   "cell_type": "code",
   "execution_count": 40,
   "metadata": {},
   "outputs": [
    {
     "data": {
      "text/html": [
       "<div>\n",
       "<style scoped>\n",
       "    .dataframe tbody tr th:only-of-type {\n",
       "        vertical-align: middle;\n",
       "    }\n",
       "\n",
       "    .dataframe tbody tr th {\n",
       "        vertical-align: top;\n",
       "    }\n",
       "\n",
       "    .dataframe thead th {\n",
       "        text-align: right;\n",
       "    }\n",
       "</style>\n",
       "<table border=\"1\" class=\"dataframe\">\n",
       "  <thead>\n",
       "    <tr style=\"text-align: right;\">\n",
       "      <th></th>\n",
       "      <th>Document</th>\n",
       "      <th>Category</th>\n",
       "    </tr>\n",
       "  </thead>\n",
       "  <tbody>\n",
       "    <tr>\n",
       "      <th>0</th>\n",
       "      <td>The sky is blue and beautiful :) .</td>\n",
       "      <td>weather</td>\n",
       "    </tr>\n",
       "    <tr>\n",
       "      <th>1</th>\n",
       "      <td>Love this blue and beautiful sky!</td>\n",
       "      <td>weather</td>\n",
       "    </tr>\n",
       "    <tr>\n",
       "      <th>2</th>\n",
       "      <td>The quick brown fox jumps over the lazy dog.</td>\n",
       "      <td>animals</td>\n",
       "    </tr>\n",
       "    <tr>\n",
       "      <th>3</th>\n",
       "      <td>A king's breakfast has sausages, ham, bacon, eggs, toast and beans</td>\n",
       "      <td>food</td>\n",
       "    </tr>\n",
       "    <tr>\n",
       "      <th>4</th>\n",
       "      <td>I love green eggs, ham, sausages and bacon!</td>\n",
       "      <td>food</td>\n",
       "    </tr>\n",
       "    <tr>\n",
       "      <th>5</th>\n",
       "      <td>The brown fox is quick and the blue dog is lazy!</td>\n",
       "      <td>animals</td>\n",
       "    </tr>\n",
       "    <tr>\n",
       "      <th>6</th>\n",
       "      <td>The sky is very blue and the sky is very beautiful today</td>\n",
       "      <td>weather</td>\n",
       "    </tr>\n",
       "    <tr>\n",
       "      <th>7</th>\n",
       "      <td>The dog is lazy but the brown fox is quick!</td>\n",
       "      <td>animals</td>\n",
       "    </tr>\n",
       "    <tr>\n",
       "      <th>8</th>\n",
       "      <td>The owls live in the forest</td>\n",
       "      <td>animals</td>\n",
       "    </tr>\n",
       "    <tr>\n",
       "      <th>9</th>\n",
       "      <td>Today is raining cats and dogs</td>\n",
       "      <td>weather</td>\n",
       "    </tr>\n",
       "  </tbody>\n",
       "</table>\n",
       "</div>"
      ],
      "text/plain": [
       "                                                             Document Category\n",
       "0                                  The sky is blue and beautiful :) .  weather\n",
       "1                                   Love this blue and beautiful sky!  weather\n",
       "2                        The quick brown fox jumps over the lazy dog.  animals\n",
       "3  A king's breakfast has sausages, ham, bacon, eggs, toast and beans     food\n",
       "4                         I love green eggs, ham, sausages and bacon!     food\n",
       "5                    The brown fox is quick and the blue dog is lazy!  animals\n",
       "6            The sky is very blue and the sky is very beautiful today  weather\n",
       "7                         The dog is lazy but the brown fox is quick!  animals\n",
       "8                                         The owls live in the forest  animals\n",
       "9                                     Today is raining cats and dogs   weather"
      ]
     },
     "execution_count": 40,
     "metadata": {},
     "output_type": "execute_result"
    }
   ],
   "source": [
    "corpus = ['The sky is blue and beautiful :) .',\n",
    "          'Love this blue and beautiful sky!',\n",
    "          'The quick brown fox jumps over the lazy dog.',\n",
    "          \"A king's breakfast has sausages, ham, bacon, eggs, toast and beans\",\n",
    "          'I love green eggs, ham, sausages and bacon!',\n",
    "          'The brown fox is quick and the blue dog is lazy!',\n",
    "          'The sky is very blue and the sky is very beautiful today',\n",
    "          'The dog is lazy but the brown fox is quick!'    ,\n",
    "          'The owls live in the forest',\n",
    "          'Today is raining cats and dogs '\n",
    "]\n",
    "labels = ['weather', 'weather', 'animals', 'food', 'food', 'animals', 'weather', 'animals', 'animals', 'weather']\n",
    "\n",
    "corpus = np.array(corpus)\n",
    "corpus_df = pd.DataFrame({'Document': corpus, \n",
    "                          'Category': labels})     #Converting the dictionary in DataFrame\n",
    "corpus_df = corpus_df[['Document', 'Category']]\n",
    "corpus_df"
   ]
  },
  {
   "cell_type": "code",
   "execution_count": 41,
   "metadata": {},
   "outputs": [
    {
     "data": {
      "text/html": [
       "<div>\n",
       "<style scoped>\n",
       "    .dataframe tbody tr th:only-of-type {\n",
       "        vertical-align: middle;\n",
       "    }\n",
       "\n",
       "    .dataframe tbody tr th {\n",
       "        vertical-align: top;\n",
       "    }\n",
       "\n",
       "    .dataframe thead th {\n",
       "        text-align: right;\n",
       "    }\n",
       "</style>\n",
       "<table border=\"1\" class=\"dataframe\">\n",
       "  <thead>\n",
       "    <tr style=\"text-align: right;\">\n",
       "      <th></th>\n",
       "      <th>Document</th>\n",
       "      <th>Category</th>\n",
       "      <th>norm_corpus</th>\n",
       "    </tr>\n",
       "  </thead>\n",
       "  <tbody>\n",
       "    <tr>\n",
       "      <th>0</th>\n",
       "      <td>The sky is blue and beautiful :) .</td>\n",
       "      <td>weather</td>\n",
       "      <td>sky blue beautiful</td>\n",
       "    </tr>\n",
       "    <tr>\n",
       "      <th>1</th>\n",
       "      <td>Love this blue and beautiful sky!</td>\n",
       "      <td>weather</td>\n",
       "      <td>love blue beautiful sky</td>\n",
       "    </tr>\n",
       "    <tr>\n",
       "      <th>2</th>\n",
       "      <td>The quick brown fox jumps over the lazy dog.</td>\n",
       "      <td>animals</td>\n",
       "      <td>quick brown fox jumps lazy dog</td>\n",
       "    </tr>\n",
       "    <tr>\n",
       "      <th>3</th>\n",
       "      <td>A king's breakfast has sausages, ham, bacon, eggs, toast and beans</td>\n",
       "      <td>food</td>\n",
       "      <td>kings breakfast sausages ham bacon eggs toast beans</td>\n",
       "    </tr>\n",
       "    <tr>\n",
       "      <th>4</th>\n",
       "      <td>I love green eggs, ham, sausages and bacon!</td>\n",
       "      <td>food</td>\n",
       "      <td>love green eggs ham sausages bacon</td>\n",
       "    </tr>\n",
       "    <tr>\n",
       "      <th>5</th>\n",
       "      <td>The brown fox is quick and the blue dog is lazy!</td>\n",
       "      <td>animals</td>\n",
       "      <td>brown fox quick blue dog lazy</td>\n",
       "    </tr>\n",
       "    <tr>\n",
       "      <th>6</th>\n",
       "      <td>The sky is very blue and the sky is very beautiful today</td>\n",
       "      <td>weather</td>\n",
       "      <td>sky blue sky beautiful today</td>\n",
       "    </tr>\n",
       "    <tr>\n",
       "      <th>7</th>\n",
       "      <td>The dog is lazy but the brown fox is quick!</td>\n",
       "      <td>animals</td>\n",
       "      <td>dog lazy brown fox quick</td>\n",
       "    </tr>\n",
       "    <tr>\n",
       "      <th>8</th>\n",
       "      <td>The owls live in the forest</td>\n",
       "      <td>animals</td>\n",
       "      <td>owls live forest</td>\n",
       "    </tr>\n",
       "    <tr>\n",
       "      <th>9</th>\n",
       "      <td>Today is raining cats and dogs</td>\n",
       "      <td>weather</td>\n",
       "      <td>today raining cats dogs</td>\n",
       "    </tr>\n",
       "  </tbody>\n",
       "</table>\n",
       "</div>"
      ],
      "text/plain": [
       "                                                             Document  \\\n",
       "0                                  The sky is blue and beautiful :) .   \n",
       "1                                   Love this blue and beautiful sky!   \n",
       "2                        The quick brown fox jumps over the lazy dog.   \n",
       "3  A king's breakfast has sausages, ham, bacon, eggs, toast and beans   \n",
       "4                         I love green eggs, ham, sausages and bacon!   \n",
       "5                    The brown fox is quick and the blue dog is lazy!   \n",
       "6            The sky is very blue and the sky is very beautiful today   \n",
       "7                         The dog is lazy but the brown fox is quick!   \n",
       "8                                         The owls live in the forest   \n",
       "9                                     Today is raining cats and dogs    \n",
       "\n",
       "  Category                                          norm_corpus  \n",
       "0  weather                                   sky blue beautiful  \n",
       "1  weather                              love blue beautiful sky  \n",
       "2  animals                       quick brown fox jumps lazy dog  \n",
       "3     food  kings breakfast sausages ham bacon eggs toast beans  \n",
       "4     food                   love green eggs ham sausages bacon  \n",
       "5  animals                        brown fox quick blue dog lazy  \n",
       "6  weather                         sky blue sky beautiful today  \n",
       "7  animals                             dog lazy brown fox quick  \n",
       "8  animals                                     owls live forest  \n",
       "9  weather                              today raining cats dogs  "
      ]
     },
     "execution_count": 41,
     "metadata": {},
     "output_type": "execute_result"
    }
   ],
   "source": [
    "wpt = nltk.WordPunctTokenizer()\n",
    "stop_words = nltk.corpus.stopwords.words('english')\n",
    "\n",
    "def normalize_document(doc):\n",
    "    doc = re.sub(r'[^a-zA-Z\\s]', '', doc, re.I|re.A)# remove special characters: \n",
    "    doc = doc.lower()                               # transform to lower case\n",
    "    doc = doc.strip()                               # remove \\whitespaces\n",
    "    tokens = wpt.tokenize(doc)                      # tokenize document\n",
    "    filtered_tokens = [token for token in tokens if token not in stop_words]# filter stopwords out of document\n",
    "    doc = ' '.join(filtered_tokens)                 # re-create document from filtered tokens\n",
    "    return doc\n",
    "\n",
    "\n",
    "normalize_corpus = np.vectorize(normalize_document)  # vectorized function which takes a nested sequence of objects and returns a single numpy array \n",
    "corpus_df['norm_corpus']=normalize_corpus(corpus)\n",
    "corpus_df"
   ]
  },
  {
   "cell_type": "markdown",
   "metadata": {},
   "source": [
    "## Word2Vec Model"
   ]
  },
  {
   "cell_type": "markdown",
   "metadata": {},
   "source": [
    "Created by Google in 2013, this is a distributed and continuous dense vector representations of words."
   ]
  },
  {
   "cell_type": "code",
   "execution_count": 42,
   "metadata": {},
   "outputs": [],
   "source": [
    "wpt = nltk.WordPunctTokenizer()\n",
    "tokenized_corpus = [wpt.tokenize(document) for document in corpus_df['norm_corpus']]\n",
    "\n",
    "# Set the parameters\n",
    "feature_size = 15            # Word vector dimensionality  \n",
    "window_context = 10          # Context window size                                                                                    \n",
    "min_word_count = 1           # Minimum word count                        \n",
    "sample = 1e-3                # Downsample setting for frequent words\n",
    "\n",
    "w2v_model = word2vec.Word2Vec(tokenized_corpus, \n",
    "                              size=feature_size, \n",
    "                              window=window_context, \n",
    "                              min_count = min_word_count,\n",
    "                              sample=sample, \n",
    "                              iter=100)"
   ]
  },
  {
   "cell_type": "code",
   "execution_count": 57,
   "metadata": {},
   "outputs": [
    {
     "data": {
      "image/png": "[encoded data removed]",
      "text/plain": [
       "<Figure size 720x576 with 1 Axes>"
      ]
     },
     "metadata": {
      "needs_background": "light"
     },
     "output_type": "display_data"
    }
   ],
   "source": [
    "# visualize embeddings\n",
    "from sklearn.manifold import TSNE #Visualizing tool t-distributed Stochastic Neighbor Embedding\n",
    "\n",
    "words = w2v_model.wv.index2word #list of word-vectors\n",
    "wvs = w2v_model.wv[words]       #list of vectors\n",
    "\n",
    "tsne = TSNE(n_components=2, \n",
    "            random_state=0, \n",
    "            n_iter=5000, \n",
    "            perplexity=2)\n",
    "\n",
    "np.set_printoptions(suppress=True)\n",
    "T = tsne.fit_transform(wvs)\n",
    "labels = words\n",
    "\n",
    "plt.figure(figsize=(10, 8))\n",
    "plt.scatter(T[:, 0], T[:, 1], c='blue', edgecolors='r')\n",
    "for label, x, y in zip(labels, T[:, 0], T[:, 1]):\n",
    "    plt.annotate(label, xy=(x+1, y+1), xytext=(0, 0), textcoords='offset points')"
   ]
  },
  {
   "cell_type": "code",
   "execution_count": 44,
   "metadata": {},
   "outputs": [
    {
     "data": {
      "text/plain": [
       "['sky',\n",
       " 'blue',\n",
       " 'beautiful',\n",
       " 'quick',\n",
       " 'brown',\n",
       " 'fox',\n",
       " 'lazy',\n",
       " 'dog',\n",
       " 'love',\n",
       " 'sausages',\n",
       " 'ham',\n",
       " 'bacon',\n",
       " 'eggs',\n",
       " 'today',\n",
       " 'jumps',\n",
       " 'kings',\n",
       " 'breakfast',\n",
       " 'toast',\n",
       " 'beans',\n",
       " 'green',\n",
       " 'owls',\n",
       " 'live',\n",
       " 'forest',\n",
       " 'raining',\n",
       " 'cats',\n",
       " 'dogs']"
      ]
     },
     "execution_count": 44,
     "metadata": {},
     "output_type": "execute_result"
    }
   ],
   "source": [
    "words"
   ]
  },
  {
   "cell_type": "code",
   "execution_count": 45,
   "metadata": {},
   "outputs": [
    {
     "data": {
      "text/plain": [
       "array([[ 0.01779651,  0.03012177, -0.00131074,  0.02348097,  0.01996622,\n",
       "        -0.00275667,  0.00021183,  0.00709505, -0.02778588,  0.00279353,\n",
       "         0.00471391,  0.02270404, -0.0100717 ,  0.02273112, -0.01589785],\n",
       "       [ 0.01752906,  0.00218713, -0.01146097,  0.02560783,  0.00361152,\n",
       "        -0.01549712,  0.01331646, -0.01484704, -0.02986422, -0.0147121 ,\n",
       "         0.00088828, -0.02835203,  0.03286891, -0.02442603,  0.01284602],\n",
       "       [-0.00457376,  0.00437759, -0.01263251, -0.01925594, -0.01996416,\n",
       "        -0.0103143 ,  0.03344047,  0.00751074, -0.01112301,  0.00292159,\n",
       "         0.02863425, -0.01341844, -0.02097943,  0.0155569 , -0.00114959],\n",
       "       [-0.01438253,  0.00100477,  0.00504861,  0.03446515, -0.02776239,\n",
       "        -0.01626587,  0.02225212, -0.02254824, -0.00465008, -0.00233785,\n",
       "        -0.00439781,  0.00401144, -0.01681016,  0.00320308, -0.00756082],\n",
       "       [-0.00891814,  0.01669646,  0.01191033, -0.01930844, -0.02439491,\n",
       "        -0.03015959, -0.02591953, -0.02859751,  0.00824253, -0.01581449,\n",
       "        -0.02046666,  0.03185029,  0.02722515,  0.00241748, -0.02897347],\n",
       "       [-0.01648775, -0.02099147,  0.01083295, -0.02019546, -0.00424017,\n",
       "        -0.01210622,  0.01959089,  0.00087869,  0.00452451,  0.00206424,\n",
       "        -0.00546557,  0.03222378, -0.03141046, -0.02697732,  0.0285091 ],\n",
       "       [ 0.02407863, -0.01200048, -0.01719331,  0.01634282,  0.02817416,\n",
       "        -0.02394647,  0.02872513, -0.02137053,  0.0039577 ,  0.02079255,\n",
       "         0.01998752,  0.01350195,  0.02761728,  0.00363539, -0.00103945],\n",
       "       [ 0.01921815,  0.02295233,  0.00934617, -0.00111672, -0.0269424 ,\n",
       "         0.00096355, -0.0159841 , -0.00298532, -0.0116348 ,  0.02514187,\n",
       "        -0.01685995,  0.01515919,  0.0051048 , -0.02433482,  0.02455206],\n",
       "       [ 0.00471177,  0.02336544,  0.02689534,  0.00343557,  0.01544561,\n",
       "        -0.00701608, -0.02813991, -0.00647553, -0.00203014, -0.00799347,\n",
       "        -0.0026959 , -0.03209978, -0.00267445, -0.0023495 , -0.03378323],\n",
       "       [ 0.00965993, -0.03117554, -0.02071916,  0.03294362, -0.02996734,\n",
       "         0.01453411,  0.02775528, -0.01505567,  0.03032029,  0.00917942,\n",
       "         0.02557788, -0.00512177, -0.01238899, -0.02100352,  0.02324627],\n",
       "       [-0.0180436 ,  0.02389652,  0.01835855, -0.0031273 , -0.02973668,\n",
       "        -0.00679829, -0.0248913 , -0.01644472,  0.02728064, -0.0251021 ,\n",
       "         0.00143007, -0.00728093,  0.02672232, -0.03348591, -0.00956292],\n",
       "       [-0.02114997,  0.00356793, -0.01178091,  0.017341  , -0.03307717,\n",
       "        -0.03257957,  0.01925472,  0.00557249, -0.01383256,  0.01909531,\n",
       "         0.02294893,  0.02823785,  0.02045956,  0.01537945, -0.02754805],\n",
       "       [ 0.00795409,  0.00651787, -0.0068385 ,  0.00151199, -0.00220683,\n",
       "        -0.00164536, -0.01651359, -0.0174106 ,  0.02948434,  0.0158843 ,\n",
       "        -0.01170989, -0.03226933, -0.0236937 , -0.02470984, -0.00185023],\n",
       "       [-0.00808935,  0.01714942, -0.01966997, -0.00262932,  0.00767522,\n",
       "        -0.0309445 ,  0.03276315,  0.00894202,  0.00309961,  0.00567393,\n",
       "        -0.01801641,  0.00068572,  0.00032451,  0.02216999, -0.02273488],\n",
       "       [ 0.01109051, -0.01010555,  0.01631032, -0.00881878,  0.03138494,\n",
       "        -0.01565629,  0.03169866, -0.02065083,  0.02287747,  0.03300555,\n",
       "        -0.00134724,  0.01387929,  0.01682106, -0.03185263, -0.01513753],\n",
       "       [-0.01014973, -0.00388433, -0.02443415, -0.01844072,  0.00405684,\n",
       "        -0.00437407,  0.0021509 ,  0.02522199, -0.02395653, -0.00076108,\n",
       "         0.00024654,  0.02744484,  0.00807646, -0.02230078, -0.02993589],\n",
       "       [ 0.0007949 ,  0.00819005,  0.01539861,  0.00115996,  0.01165897,\n",
       "        -0.03140298,  0.03063943,  0.01828237, -0.0155032 , -0.02965935,\n",
       "        -0.01217153,  0.02236482, -0.00090014, -0.02352455, -0.01513893],\n",
       "       [ 0.01211418, -0.01336175,  0.00729801,  0.0357633 ,  0.02589842,\n",
       "         0.01591097,  0.02783792, -0.02680732, -0.00527191,  0.03409045,\n",
       "         0.02581095, -0.01765418, -0.01132988,  0.01694872, -0.02051731],\n",
       "       [-0.00638787, -0.01525267, -0.01982563,  0.01643489, -0.00332426,\n",
       "         0.0166821 ,  0.01830655, -0.0024021 ,  0.00997026,  0.01270237,\n",
       "         0.03113794, -0.01685879, -0.02834485,  0.00490081, -0.01648265],\n",
       "       [ 0.03047781,  0.00037807, -0.01162754,  0.00362082, -0.01290924,\n",
       "        -0.02954405,  0.00305188, -0.01281564,  0.02941568,  0.03194259,\n",
       "         0.00015683,  0.00219492,  0.00548925, -0.02479049,  0.01919045],\n",
       "       [-0.02247708,  0.02600027, -0.01074561, -0.00974253, -0.02032086,\n",
       "        -0.01121737,  0.0300984 ,  0.00652198, -0.01601851,  0.00115463,\n",
       "         0.01548595, -0.0114068 , -0.03242468,  0.00841818, -0.01698427],\n",
       "       [-0.00712777, -0.02960227,  0.0289152 ,  0.01542865,  0.01667862,\n",
       "        -0.01384921, -0.01484061, -0.01627565, -0.00884798, -0.03035373,\n",
       "        -0.01441671, -0.01603916,  0.01795818, -0.00676507, -0.02633891],\n",
       "       [ 0.00513184, -0.02102004,  0.02407405,  0.01722768,  0.0082702 ,\n",
       "        -0.01191087,  0.01344247,  0.03249331, -0.00669904, -0.00094138,\n",
       "         0.01030544, -0.00245064, -0.01185978, -0.01103543, -0.02414782],\n",
       "       [-0.0265328 , -0.03296189, -0.02122075, -0.02872952, -0.03084087,\n",
       "         0.0243986 , -0.02964956,  0.01150644,  0.01723207, -0.00010352,\n",
       "        -0.02067882,  0.0141132 , -0.00835634,  0.00817079,  0.01388945],\n",
       "       [-0.01850285,  0.0320091 , -0.02241709,  0.00405627,  0.02924801,\n",
       "         0.01480711, -0.00404558, -0.02706122, -0.00148064,  0.00496452,\n",
       "        -0.00181635,  0.00773286,  0.00123666,  0.00715226,  0.03128691],\n",
       "       [-0.01739317,  0.02692301, -0.00584479,  0.02092989,  0.02723038,\n",
       "        -0.02631717,  0.01599837,  0.01900697, -0.01608674, -0.02963659,\n",
       "        -0.00208529, -0.00309118,  0.00620433,  0.02123062, -0.02141811]],\n",
       "      dtype=float32)"
      ]
     },
     "execution_count": 45,
     "metadata": {},
     "output_type": "execute_result"
    }
   ],
   "source": [
    "wvs "
   ]
  },
  {
   "cell_type": "code",
   "execution_count": 46,
   "metadata": {},
   "outputs": [
    {
     "data": {
      "text/plain": [
       "array([ 0.01779651,  0.03012177, -0.00131074,  0.02348097,  0.01996622,\n",
       "       -0.00275667,  0.00021183,  0.00709505, -0.02778588,  0.00279353,\n",
       "        0.00471391,  0.02270404, -0.0100717 ,  0.02273112, -0.01589785],\n",
       "      dtype=float32)"
      ]
     },
     "execution_count": 46,
     "metadata": {},
     "output_type": "execute_result"
    }
   ],
   "source": [
    "w2v_model.wv['sky'] #Representation of the first word"
   ]
  },
  {
   "cell_type": "code",
   "execution_count": 47,
   "metadata": {},
   "outputs": [
    {
     "name": "stderr",
     "output_type": "stream",
     "text": [
      "<ipython-input-47-bd59abca468b>:11: DeprecationWarning: Call to deprecated `__getitem__` (Method will be removed in 4.0.0, use self.wv.__getitem__() instead).\n",
      "  feature_vector = np.add(feature_vector, model[word])\n"
     ]
    }
   ],
   "source": [
    "#we need to get the document level embeddings from each of the words present in each document.\n",
    "#average out the word embeddings for each word in a document\n",
    "def average_word_vectors(words, model, vocabulary, num_features):\n",
    "    \n",
    "    feature_vector = np.zeros((num_features,),dtype=\"float64\")\n",
    "    nwords = 0.\n",
    "    \n",
    "    for word in words:\n",
    "        if word in vocabulary: \n",
    "            nwords = nwords + 1.\n",
    "            feature_vector = np.add(feature_vector, model[word])\n",
    "    \n",
    "    if nwords:\n",
    "        feature_vector = np.divide(feature_vector, nwords)\n",
    "        \n",
    "    return feature_vector\n",
    "    \n",
    "def averaged_word_vectorizer(corpus, model, num_features):\n",
    "    vocabulary = set(model.wv.index2word)\n",
    "    features = [average_word_vectors(tokenized_sentence, model, vocabulary, num_features)\n",
    "                    for tokenized_sentence in corpus]\n",
    "    return np.array(features)\n",
    "\n",
    "\n",
    "# get document level embeddings\n",
    "w2v_feature_array = averaged_word_vectorizer(corpus=tokenized_corpus, \n",
    "                                             model=w2v_model, \n",
    "                                             num_features=feature_size)\n",
    "          "
   ]
  },
  {
   "cell_type": "code",
   "execution_count": 48,
   "metadata": {},
   "outputs": [
    {
     "data": {
      "text/html": [
       "<div>\n",
       "<style scoped>\n",
       "    .dataframe tbody tr th:only-of-type {\n",
       "        vertical-align: middle;\n",
       "    }\n",
       "\n",
       "    .dataframe tbody tr th {\n",
       "        vertical-align: top;\n",
       "    }\n",
       "\n",
       "    .dataframe thead th {\n",
       "        text-align: right;\n",
       "    }\n",
       "</style>\n",
       "<table border=\"1\" class=\"dataframe\">\n",
       "  <thead>\n",
       "    <tr style=\"text-align: right;\">\n",
       "      <th></th>\n",
       "      <th>0</th>\n",
       "      <th>1</th>\n",
       "      <th>2</th>\n",
       "      <th>3</th>\n",
       "      <th>4</th>\n",
       "      <th>5</th>\n",
       "      <th>6</th>\n",
       "      <th>7</th>\n",
       "      <th>8</th>\n",
       "      <th>9</th>\n",
       "      <th>10</th>\n",
       "      <th>11</th>\n",
       "      <th>12</th>\n",
       "      <th>13</th>\n",
       "      <th>14</th>\n",
       "    </tr>\n",
       "  </thead>\n",
       "  <tbody>\n",
       "    <tr>\n",
       "      <th>0</th>\n",
       "      <td>0.010251</td>\n",
       "      <td>0.012229</td>\n",
       "      <td>-0.008468</td>\n",
       "      <td>0.009944</td>\n",
       "      <td>0.001205</td>\n",
       "      <td>-0.009523</td>\n",
       "      <td>0.015656</td>\n",
       "      <td>-0.000080</td>\n",
       "      <td>-0.022924</td>\n",
       "      <td>-0.002999</td>\n",
       "      <td>0.011412</td>\n",
       "      <td>-0.006355</td>\n",
       "      <td>0.000606</td>\n",
       "      <td>0.004621</td>\n",
       "      <td>-0.001400</td>\n",
       "    </tr>\n",
       "    <tr>\n",
       "      <th>1</th>\n",
       "      <td>0.008866</td>\n",
       "      <td>0.015013</td>\n",
       "      <td>0.000373</td>\n",
       "      <td>0.008317</td>\n",
       "      <td>0.004765</td>\n",
       "      <td>-0.008896</td>\n",
       "      <td>0.004707</td>\n",
       "      <td>-0.001679</td>\n",
       "      <td>-0.017701</td>\n",
       "      <td>-0.004248</td>\n",
       "      <td>0.007885</td>\n",
       "      <td>-0.012792</td>\n",
       "      <td>-0.000214</td>\n",
       "      <td>0.002878</td>\n",
       "      <td>-0.009496</td>\n",
       "    </tr>\n",
       "    <tr>\n",
       "      <th>2</th>\n",
       "      <td>0.002433</td>\n",
       "      <td>-0.000407</td>\n",
       "      <td>0.006043</td>\n",
       "      <td>0.000228</td>\n",
       "      <td>-0.003963</td>\n",
       "      <td>-0.016195</td>\n",
       "      <td>0.010061</td>\n",
       "      <td>-0.015879</td>\n",
       "      <td>0.003886</td>\n",
       "      <td>0.010475</td>\n",
       "      <td>-0.004758</td>\n",
       "      <td>0.018438</td>\n",
       "      <td>0.004758</td>\n",
       "      <td>-0.012318</td>\n",
       "      <td>0.000058</td>\n",
       "    </tr>\n",
       "    <tr>\n",
       "      <th>3</th>\n",
       "      <td>-0.003151</td>\n",
       "      <td>-0.002688</td>\n",
       "      <td>-0.005318</td>\n",
       "      <td>0.010448</td>\n",
       "      <td>-0.007087</td>\n",
       "      <td>-0.003709</td>\n",
       "      <td>0.010567</td>\n",
       "      <td>-0.003630</td>\n",
       "      <td>0.004811</td>\n",
       "      <td>0.004429</td>\n",
       "      <td>0.010409</td>\n",
       "      <td>-0.000142</td>\n",
       "      <td>-0.002675</td>\n",
       "      <td>-0.010974</td>\n",
       "      <td>-0.012224</td>\n",
       "    </tr>\n",
       "    <tr>\n",
       "      <th>4</th>\n",
       "      <td>0.002268</td>\n",
       "      <td>0.004425</td>\n",
       "      <td>-0.000952</td>\n",
       "      <td>0.009288</td>\n",
       "      <td>-0.015409</td>\n",
       "      <td>-0.010508</td>\n",
       "      <td>-0.003247</td>\n",
       "      <td>-0.010438</td>\n",
       "      <td>0.016773</td>\n",
       "      <td>0.007168</td>\n",
       "      <td>0.005951</td>\n",
       "      <td>-0.007723</td>\n",
       "      <td>0.002319</td>\n",
       "      <td>-0.015160</td>\n",
       "      <td>-0.005051</td>\n",
       "    </tr>\n",
       "    <tr>\n",
       "      <th>5</th>\n",
       "      <td>0.003506</td>\n",
       "      <td>0.001641</td>\n",
       "      <td>0.001414</td>\n",
       "      <td>0.005966</td>\n",
       "      <td>-0.008592</td>\n",
       "      <td>-0.016169</td>\n",
       "      <td>0.006997</td>\n",
       "      <td>-0.014912</td>\n",
       "      <td>-0.004904</td>\n",
       "      <td>0.002522</td>\n",
       "      <td>-0.004386</td>\n",
       "      <td>0.011399</td>\n",
       "      <td>0.007433</td>\n",
       "      <td>-0.011080</td>\n",
       "      <td>0.004722</td>\n",
       "    </tr>\n",
       "    <tr>\n",
       "      <th>6</th>\n",
       "      <td>0.008092</td>\n",
       "      <td>0.016792</td>\n",
       "      <td>-0.009277</td>\n",
       "      <td>0.010137</td>\n",
       "      <td>0.006251</td>\n",
       "      <td>-0.012454</td>\n",
       "      <td>0.015989</td>\n",
       "      <td>0.003159</td>\n",
       "      <td>-0.018692</td>\n",
       "      <td>-0.000106</td>\n",
       "      <td>0.004187</td>\n",
       "      <td>0.000865</td>\n",
       "      <td>-0.001586</td>\n",
       "      <td>0.011753</td>\n",
       "      <td>-0.008567</td>\n",
       "    </tr>\n",
       "    <tr>\n",
       "      <th>7</th>\n",
       "      <td>0.000702</td>\n",
       "      <td>0.001532</td>\n",
       "      <td>0.003989</td>\n",
       "      <td>0.002037</td>\n",
       "      <td>-0.011033</td>\n",
       "      <td>-0.016303</td>\n",
       "      <td>0.005733</td>\n",
       "      <td>-0.014925</td>\n",
       "      <td>0.000088</td>\n",
       "      <td>0.005969</td>\n",
       "      <td>-0.005440</td>\n",
       "      <td>0.019349</td>\n",
       "      <td>0.002345</td>\n",
       "      <td>-0.008411</td>\n",
       "      <td>0.003097</td>\n",
       "    </tr>\n",
       "    <tr>\n",
       "      <th>8</th>\n",
       "      <td>-0.008158</td>\n",
       "      <td>-0.008207</td>\n",
       "      <td>0.014081</td>\n",
       "      <td>0.007638</td>\n",
       "      <td>0.001543</td>\n",
       "      <td>-0.012326</td>\n",
       "      <td>0.009567</td>\n",
       "      <td>0.007580</td>\n",
       "      <td>-0.010522</td>\n",
       "      <td>-0.010047</td>\n",
       "      <td>0.003792</td>\n",
       "      <td>-0.009966</td>\n",
       "      <td>-0.008775</td>\n",
       "      <td>-0.003127</td>\n",
       "      <td>-0.022490</td>\n",
       "    </tr>\n",
       "    <tr>\n",
       "      <th>9</th>\n",
       "      <td>-0.017630</td>\n",
       "      <td>0.010780</td>\n",
       "      <td>-0.017288</td>\n",
       "      <td>-0.001593</td>\n",
       "      <td>0.008328</td>\n",
       "      <td>-0.004514</td>\n",
       "      <td>0.003767</td>\n",
       "      <td>0.003099</td>\n",
       "      <td>0.000691</td>\n",
       "      <td>-0.004775</td>\n",
       "      <td>-0.010649</td>\n",
       "      <td>0.004860</td>\n",
       "      <td>-0.000148</td>\n",
       "      <td>0.014681</td>\n",
       "      <td>0.000256</td>\n",
       "    </tr>\n",
       "  </tbody>\n",
       "</table>\n",
       "</div>"
      ],
      "text/plain": [
       "         0         1         2         3         4         5         6   \\\n",
       "0  0.010251  0.012229 -0.008468  0.009944  0.001205 -0.009523  0.015656   \n",
       "1  0.008866  0.015013  0.000373  0.008317  0.004765 -0.008896  0.004707   \n",
       "2  0.002433 -0.000407  0.006043  0.000228 -0.003963 -0.016195  0.010061   \n",
       "3 -0.003151 -0.002688 -0.005318  0.010448 -0.007087 -0.003709  0.010567   \n",
       "4  0.002268  0.004425 -0.000952  0.009288 -0.015409 -0.010508 -0.003247   \n",
       "5  0.003506  0.001641  0.001414  0.005966 -0.008592 -0.016169  0.006997   \n",
       "6  0.008092  0.016792 -0.009277  0.010137  0.006251 -0.012454  0.015989   \n",
       "7  0.000702  0.001532  0.003989  0.002037 -0.011033 -0.016303  0.005733   \n",
       "8 -0.008158 -0.008207  0.014081  0.007638  0.001543 -0.012326  0.009567   \n",
       "9 -0.017630  0.010780 -0.017288 -0.001593  0.008328 -0.004514  0.003767   \n",
       "\n",
       "         7         8         9         10        11        12        13  \\\n",
       "0 -0.000080 -0.022924 -0.002999  0.011412 -0.006355  0.000606  0.004621   \n",
       "1 -0.001679 -0.017701 -0.004248  0.007885 -0.012792 -0.000214  0.002878   \n",
       "2 -0.015879  0.003886  0.010475 -0.004758  0.018438  0.004758 -0.012318   \n",
       "3 -0.003630  0.004811  0.004429  0.010409 -0.000142 -0.002675 -0.010974   \n",
       "4 -0.010438  0.016773  0.007168  0.005951 -0.007723  0.002319 -0.015160   \n",
       "5 -0.014912 -0.004904  0.002522 -0.004386  0.011399  0.007433 -0.011080   \n",
       "6  0.003159 -0.018692 -0.000106  0.004187  0.000865 -0.001586  0.011753   \n",
       "7 -0.014925  0.000088  0.005969 -0.005440  0.019349  0.002345 -0.008411   \n",
       "8  0.007580 -0.010522 -0.010047  0.003792 -0.009966 -0.008775 -0.003127   \n",
       "9  0.003099  0.000691 -0.004775 -0.010649  0.004860 -0.000148  0.014681   \n",
       "\n",
       "         14  \n",
       "0 -0.001400  \n",
       "1 -0.009496  \n",
       "2  0.000058  \n",
       "3 -0.012224  \n",
       "4 -0.005051  \n",
       "5  0.004722  \n",
       "6 -0.008567  \n",
       "7  0.003097  \n",
       "8 -0.022490  \n",
       "9  0.000256  "
      ]
     },
     "execution_count": 48,
     "metadata": {},
     "output_type": "execute_result"
    }
   ],
   "source": [
    "Vector_representation = pd.DataFrame(w2v_feature_array)\n",
    "Vector_representation"
   ]
  },
  {
   "cell_type": "markdown",
   "metadata": {},
   "source": [
    "The Affinity Propagation algorithm will be used to cluster those documents since its based on the concept of *message passing* between data points and does not need the number of clusters as an explicit input."
   ]
  },
  {
   "cell_type": "code",
   "execution_count": 49,
   "metadata": {},
   "outputs": [
    {
     "name": "stderr",
     "output_type": "stream",
     "text": [
      "/Users/anmarphy/opt/anaconda3/lib/python3.8/site-packages/sklearn/cluster/_affinity_propagation.py:146: FutureWarning: 'random_state' has been introduced in 0.23. It will be set to None starting from 0.25 which means that results will differ at every function call. Set 'random_state' to None to silence this warning, or to 0 to keep the behavior of versions <0.23.\n",
      "  warnings.warn((\"'random_state' has been introduced in 0.23. \"\n"
     ]
    }
   ],
   "source": [
    "from sklearn.cluster import AffinityPropagation\n",
    "\n",
    "ap = AffinityPropagation()\n",
    "ap.fit(w2v_feature_array) #The transformed vectors are the input to the unsupervised algorithm\n",
    "cluster_labels = ap.labels_\n",
    "cluster_labels = pd.DataFrame(cluster_labels, columns=['ClusterLabel'])\n",
    "corpus_df=pd.concat([corpus_df, cluster_labels], axis=1)"
   ]
  },
  {
   "cell_type": "code",
   "execution_count": 50,
   "metadata": {},
   "outputs": [
    {
     "data": {
      "text/plain": [
       "array([0, 0, 2, 1, 1, 2, 0, 2, 1, 3])"
      ]
     },
     "execution_count": 50,
     "metadata": {},
     "output_type": "execute_result"
    }
   ],
   "source": [
    "ap.labels_"
   ]
  },
  {
   "cell_type": "code",
   "execution_count": 51,
   "metadata": {},
   "outputs": [
    {
     "data": {
      "text/plain": [
       "2    3\n",
       "1    3\n",
       "0    3\n",
       "3    1\n",
       "Name: ClusterLabel, dtype: int64"
      ]
     },
     "execution_count": 51,
     "metadata": {},
     "output_type": "execute_result"
    }
   ],
   "source": [
    "corpus_df['ClusterLabel'].value_counts()"
   ]
  },
  {
   "cell_type": "code",
   "execution_count": 52,
   "metadata": {},
   "outputs": [
    {
     "data": {
      "text/html": [
       "<div>\n",
       "<style scoped>\n",
       "    .dataframe tbody tr th:only-of-type {\n",
       "        vertical-align: middle;\n",
       "    }\n",
       "\n",
       "    .dataframe tbody tr th {\n",
       "        vertical-align: top;\n",
       "    }\n",
       "\n",
       "    .dataframe thead th {\n",
       "        text-align: right;\n",
       "    }\n",
       "</style>\n",
       "<table border=\"1\" class=\"dataframe\">\n",
       "  <thead>\n",
       "    <tr style=\"text-align: right;\">\n",
       "      <th></th>\n",
       "      <th>Document</th>\n",
       "      <th>Category</th>\n",
       "      <th>norm_corpus</th>\n",
       "      <th>ClusterLabel</th>\n",
       "    </tr>\n",
       "  </thead>\n",
       "  <tbody>\n",
       "    <tr>\n",
       "      <th>0</th>\n",
       "      <td>The sky is blue and beautiful :) .</td>\n",
       "      <td>weather</td>\n",
       "      <td>sky blue beautiful</td>\n",
       "      <td>0</td>\n",
       "    </tr>\n",
       "    <tr>\n",
       "      <th>1</th>\n",
       "      <td>Love this blue and beautiful sky!</td>\n",
       "      <td>weather</td>\n",
       "      <td>love blue beautiful sky</td>\n",
       "      <td>0</td>\n",
       "    </tr>\n",
       "    <tr>\n",
       "      <th>2</th>\n",
       "      <td>The quick brown fox jumps over the lazy dog.</td>\n",
       "      <td>animals</td>\n",
       "      <td>quick brown fox jumps lazy dog</td>\n",
       "      <td>2</td>\n",
       "    </tr>\n",
       "    <tr>\n",
       "      <th>3</th>\n",
       "      <td>A king's breakfast has sausages, ham, bacon, eggs, toast and beans</td>\n",
       "      <td>food</td>\n",
       "      <td>kings breakfast sausages ham bacon eggs toast beans</td>\n",
       "      <td>1</td>\n",
       "    </tr>\n",
       "    <tr>\n",
       "      <th>4</th>\n",
       "      <td>I love green eggs, ham, sausages and bacon!</td>\n",
       "      <td>food</td>\n",
       "      <td>love green eggs ham sausages bacon</td>\n",
       "      <td>1</td>\n",
       "    </tr>\n",
       "    <tr>\n",
       "      <th>5</th>\n",
       "      <td>The brown fox is quick and the blue dog is lazy!</td>\n",
       "      <td>animals</td>\n",
       "      <td>brown fox quick blue dog lazy</td>\n",
       "      <td>2</td>\n",
       "    </tr>\n",
       "    <tr>\n",
       "      <th>6</th>\n",
       "      <td>The sky is very blue and the sky is very beautiful today</td>\n",
       "      <td>weather</td>\n",
       "      <td>sky blue sky beautiful today</td>\n",
       "      <td>0</td>\n",
       "    </tr>\n",
       "    <tr>\n",
       "      <th>7</th>\n",
       "      <td>The dog is lazy but the brown fox is quick!</td>\n",
       "      <td>animals</td>\n",
       "      <td>dog lazy brown fox quick</td>\n",
       "      <td>2</td>\n",
       "    </tr>\n",
       "    <tr>\n",
       "      <th>8</th>\n",
       "      <td>The owls live in the forest</td>\n",
       "      <td>animals</td>\n",
       "      <td>owls live forest</td>\n",
       "      <td>1</td>\n",
       "    </tr>\n",
       "    <tr>\n",
       "      <th>9</th>\n",
       "      <td>Today is raining cats and dogs</td>\n",
       "      <td>weather</td>\n",
       "      <td>today raining cats dogs</td>\n",
       "      <td>3</td>\n",
       "    </tr>\n",
       "  </tbody>\n",
       "</table>\n",
       "</div>"
      ],
      "text/plain": [
       "                                                             Document  \\\n",
       "0                                  The sky is blue and beautiful :) .   \n",
       "1                                   Love this blue and beautiful sky!   \n",
       "2                        The quick brown fox jumps over the lazy dog.   \n",
       "3  A king's breakfast has sausages, ham, bacon, eggs, toast and beans   \n",
       "4                         I love green eggs, ham, sausages and bacon!   \n",
       "5                    The brown fox is quick and the blue dog is lazy!   \n",
       "6            The sky is very blue and the sky is very beautiful today   \n",
       "7                         The dog is lazy but the brown fox is quick!   \n",
       "8                                         The owls live in the forest   \n",
       "9                                     Today is raining cats and dogs    \n",
       "\n",
       "  Category                                          norm_corpus  ClusterLabel  \n",
       "0  weather                                   sky blue beautiful             0  \n",
       "1  weather                              love blue beautiful sky             0  \n",
       "2  animals                       quick brown fox jumps lazy dog             2  \n",
       "3     food  kings breakfast sausages ham bacon eggs toast beans             1  \n",
       "4     food                   love green eggs ham sausages bacon             1  \n",
       "5  animals                        brown fox quick blue dog lazy             2  \n",
       "6  weather                         sky blue sky beautiful today             0  \n",
       "7  animals                             dog lazy brown fox quick             2  \n",
       "8  animals                                     owls live forest             1  \n",
       "9  weather                              today raining cats dogs             3  "
      ]
     },
     "execution_count": 52,
     "metadata": {},
     "output_type": "execute_result"
    }
   ],
   "source": [
    "corpus_df \n",
    "#due to the ambiguity of the last document it is classified closer than the animals instances than the weather ones"
   ]
  },
  {
   "cell_type": "code",
   "execution_count": 60,
   "metadata": {},
   "outputs": [
    {
     "data": {
      "image/png": "[encoded data removed]",
      "text/plain": [
       "<Figure size 432x288 with 1 Axes>"
      ]
     },
     "metadata": {
      "needs_background": "light"
     },
     "output_type": "display_data"
    }
   ],
   "source": [
    "from sklearn.decomposition import PCA\n",
    "\n",
    "pca = PCA(n_components=2, random_state=0)\n",
    "pcs = pca.fit_transform(w2v_feature_array)\n",
    "labels = ap.labels_\n",
    "categories = list(corpus_df['Category']) \n",
    "plt.figure(figsize=(6,4))\n",
    "\n",
    "for i in range(len(labels)):\n",
    "    label = labels[i]\n",
    "    color = 'orange' if label == 0 else 'blue' if label == 1  else 'red' if label==2  else 'green'\n",
    "    annotation_label = categories[i]\n",
    "    x, y = pcs[i]\n",
    "    plt.scatter(x, y, c=color, edgecolors='k')\n",
    "    plt.annotate(annotation_label, xy=(x+1e-4, y+1e-3), xytext=(0, 0), textcoords='offset points')"
   ]
  },
  {
   "cell_type": "markdown",
   "metadata": {},
   "source": [
    "### Similar words based on Word2Vec model"
   ]
  },
  {
   "cell_type": "code",
   "execution_count": 63,
   "metadata": {},
   "outputs": [
    {
     "name": "stderr",
     "output_type": "stream",
     "text": [
      "[nltk_data] Downloading package gutenberg to\n",
      "[nltk_data]     /Users/anmarphy/nltk_data...\n",
      "[nltk_data]   Package gutenberg is already up-to-date!\n"
     ]
    },
    {
     "data": {
      "text/plain": [
       "True"
      ]
     },
     "execution_count": 63,
     "metadata": {},
     "output_type": "execute_result"
    }
   ],
   "source": [
    "nltk.download('gutenberg')"
   ]
  },
  {
   "cell_type": "code",
   "execution_count": 64,
   "metadata": {},
   "outputs": [
    {
     "name": "stdout",
     "output_type": "stream",
     "text": [
      "Total lines: 30103\n",
      "\n",
      "Sample line: ['1', ':', '5', 'And', 'God', 'called', 'the', 'light', 'Day', ',', 'and', 'the', 'darkness', 'he', 'called', 'Night', '.']\n",
      "Total lines: 29251\n",
      "\n",
      "Processed line: god called light day darkness called night\n"
     ]
    }
   ],
   "source": [
    "from nltk.corpus import gutenberg\n",
    "from string import punctuation\n",
    "\n",
    "bible = gutenberg.sents('bible-kjv.txt') #sentences tokenizer\n",
    "remove_terms = punctuation + '0123456789'\n",
    "\n",
    "norm_bible = [[word.lower() for word in sent if word not in remove_terms] for sent in bible] #remove numbers and puctuation\n",
    "norm_bible = [' '.join(tok_sent) for tok_sent in norm_bible]\n",
    "norm_bible = filter(None, normalize_corpus(norm_bible))\n",
    "norm_bible = [tok_sent for tok_sent in norm_bible if len(tok_sent.split()) > 2] #removing sentences with less than 2 words\n",
    "\n",
    "print('Total lines:', len(bible))\n",
    "print('\\nSample line:', bible[8])\n",
    "print('Total lines:', len(norm_bible))\n",
    "print('\\nProcessed line:', norm_bible[8])"
   ]
  },
  {
   "cell_type": "code",
   "execution_count": 65,
   "metadata": {},
   "outputs": [
    {
     "data": {
      "text/plain": [
       "{'god': ['worldly', 'lord', 'ungodliness', 'godly', 'rebel'],\n",
       " 'jesus': ['peter', 'messias', 'synagogue', 'apostles', 'john'],\n",
       " 'noah': ['shem', 'japheth', 'ham', 'enosh', 'henoch'],\n",
       " 'egypt': ['egyptians', 'pharaoh', 'rod', 'bondage', 'rid'],\n",
       " 'john': ['baptist', 'james', 'peter', 'galilee', 'devine'],\n",
       " 'gospel': ['christ', 'faith', 'preach', 'godly', 'repentance'],\n",
       " 'moses': ['children', 'congregation', 'aaron', 'elisheba', 'naashon'],\n",
       " 'famine': ['pestilence', 'peril', 'blasting', 'mildew', 'overtaketh'],\n",
       " 'love': ['unfeigned', 'longsuffering', 'humbleness', 'patience', 'patient']}"
      ]
     },
     "execution_count": 65,
     "metadata": {},
     "output_type": "execute_result"
    }
   ],
   "source": [
    "wpt = nltk.WordPunctTokenizer() # tokenize sentences in corpus\n",
    "tokenized_corpus = [wpt.tokenize(document) for document in norm_bible]\n",
    "\n",
    "## Word2Vec model\n",
    "feature_size = 100    \n",
    "window_context = 30                                                                                           \n",
    "min_word_count = 1                         \n",
    "sample = 1e-3   \n",
    "\n",
    "w2v_model = word2vec.Word2Vec(tokenized_corpus, \n",
    "                              size=feature_size, \n",
    "                              window=window_context, \n",
    "                              min_count=min_word_count,\n",
    "                              sample=sample, iter=50)\n",
    "\n",
    "# view similar words based on gensim's model\n",
    "similar_words = {search_term: [item[0] for item in w2v_model.wv.most_similar([search_term], topn=5)]\n",
    "                  for search_term in ['god', 'jesus', 'noah', 'egypt', 'john', 'gospel', 'moses','famine', 'love']}\n",
    "similar_words"
   ]
  },
  {
   "cell_type": "code",
   "execution_count": 66,
   "metadata": {},
   "outputs": [
    {
     "data": {
      "image/png": "[encoded data removed]",
      "text/plain": [
       "<Figure size 1008x576 with 1 Axes>"
      ]
     },
     "metadata": {
      "needs_background": "light"
     },
     "output_type": "display_data"
    }
   ],
   "source": [
    "from sklearn.manifold import TSNE\n",
    "\n",
    "words = sum([[k] + v for k, v in similar_words.items()], [])\n",
    "wvs = w2v_model.wv[words]\n",
    "\n",
    "tsne = TSNE(n_components=2, random_state=0, n_iter=10000, perplexity=2)\n",
    "np.set_printoptions(suppress=True)\n",
    "T = tsne.fit_transform(wvs)\n",
    "labels = words\n",
    "\n",
    "plt.figure(figsize=(14, 8))\n",
    "plt.scatter(T[:, 0], T[:, 1], c='purple', edgecolors='r')\n",
    "for label, x, y in zip(labels, T[:, 0], T[:, 1]):\n",
    "    plt.annotate(label, xy=(x+1, y+1), xytext=(0, 0), textcoords='offset points')"
   ]
  },
  {
   "cell_type": "code",
   "execution_count": null,
   "metadata": {},
   "outputs": [],
   "source": []
  },
  {
   "cell_type": "code",
   "execution_count": null,
   "metadata": {},
   "outputs": [],
   "source": []
  },
  {
   "cell_type": "code",
   "execution_count": null,
   "metadata": {},
   "outputs": [],
   "source": []
  },
  {
   "cell_type": "code",
   "execution_count": null,
   "metadata": {},
   "outputs": [],
   "source": []
  },
  {
   "cell_type": "markdown",
   "metadata": {},
   "source": [
    "There are two different model architectures which can be leveraged by Word2Vec to create these word embedding representations.\n",
    "* The Continuous Bag of Words (CBOW) Model\n",
    "* The Skip-gram Model\n",
    "\n",
    "\n",
    "The CBOW model tries to predict the current target word (the center word) based on the surrounding words (context window). E.g: 'The quick brown fox jumps over the lazy dog', this can be pairs of (context_window, target_word) where if we consider a context window of size 2, we would have examples like ([quick, fox], brown), ([the, brown], quick), ([the, dog], lazy) and so on. "
   ]
  },
  {
   "cell_type": "code",
   "execution_count": 79,
   "metadata": {},
   "outputs": [
    {
     "name": "stdout",
     "output_type": "stream",
     "text": [
      "Vocabulary Size: 12425\n",
      "Vocabulary Sample: [('shall', 1), ('unto', 2), ('lord', 3), ('thou', 4), ('thy', 5), ('god', 6), ('ye', 7), ('said', 8), ('thee', 9), ('upon', 10), ('man', 11), ('israel', 12), ('king', 13), ('son', 14), ('hath', 15), ('people', 16)]\n",
      "list of numeric sequences:  [[13, 1154, 5766], [154, 2450, 13, 1154, 5766]]\n"
     ]
    }
   ],
   "source": [
    "# 1. Building the corpus vocabulary\n",
    "from tensorflow.keras.preprocessing import text\n",
    "from tensorflow.keras.utils import to_categorical \n",
    "from tensorflow.keras.preprocessing import sequence\n",
    "\n",
    "tokenizer = text.Tokenizer()\n",
    "tokenizer.fit_on_texts(norm_bible)\n",
    "word2id = tokenizer.word_index\n",
    "\n",
    "word2id['PAD'] = 0\n",
    "id2word = {v:k for k, v in word2id.items()}# build a vocabulary-dictionary of unique words\n",
    "\n",
    "# docs as nested lists of id's of words\n",
    "wids = [[word2id[w] for w in text.text_to_word_sequence(doc)] for doc in norm_bible]\n",
    "\n",
    "vocab_size = len(word2id)\n",
    "embed_size = 100\n",
    "window_size = 3 # context window size!\n",
    "\n",
    "#Each word is indexed, and that representation is used to rewrite the sentences\n",
    "print('Vocabulary Size:', vocab_size)\n",
    "print('Vocabulary Sample:', list(word2id.items())[:16])\n",
    "print('list of numeric sequences: ',wids[:2])"
   ]
  },
  {
   "cell_type": "code",
   "execution_count": 78,
   "metadata": {
    "scrolled": false
   },
   "outputs": [
    {
     "name": "stdout",
     "output_type": "stream",
     "text": [
      "list of preprocessed sequences:  ['king james bible', 'old testament king james bible']\n"
     ]
    }
   ],
   "source": [
    "print('list of preprocessed sequences: ',norm_bible[0:2])"
   ]
  },
  {
   "cell_type": "code",
   "execution_count": 69,
   "metadata": {},
   "outputs": [
    {
     "name": "stdout",
     "output_type": "stream",
     "text": [
      "Trial:  0 Context (X): ['earth', 'without', 'form', 'darkness', 'upon', 'face'] -> Target (Y): void\n",
      "Trial:  1 Context (X): ['without', 'form', 'void', 'upon', 'face', 'deep'] -> Target (Y): darkness\n",
      "Trial:  2 Context (X): ['god', 'saw', 'light', 'god', 'divided', 'light'] -> Target (Y): good\n",
      "Trial:  3 Context (X): ['saw', 'light', 'good', 'divided', 'light', 'darkness'] -> Target (Y): god\n",
      "Trial:  4 Context (X): ['god', 'called', 'light', 'darkness', 'called', 'night'] -> Target (Y): day\n",
      "Trial:  5 Context (X): ['god', 'said', 'let', 'midst', 'waters', 'let'] -> Target (Y): firmament\n",
      "Trial:  6 Context (X): ['said', 'let', 'firmament', 'waters', 'let', 'divide'] -> Target (Y): midst\n",
      "Trial:  7 Context (X): ['let', 'firmament', 'midst', 'let', 'divide', 'waters'] -> Target (Y): waters\n",
      "Trial:  8 Context (X): ['firmament', 'midst', 'waters', 'divide', 'waters', 'waters'] -> Target (Y): let\n",
      "Trial:  9 Context (X): ['god', 'made', 'firmament', 'waters', 'firmament', 'waters'] -> Target (Y): divided\n",
      "Trial:  10 Context (X): ['made', 'firmament', 'divided', 'firmament', 'waters', 'firmament'] -> Target (Y): waters\n"
     ]
    }
   ],
   "source": [
    "#2. Build a CBOW (context, target) generator\n",
    "##We are trying to predict the target center word Y based on this context (window size).\n",
    "\n",
    "def generate_context_word_pairs(corpus, window_size, vocab_size):\n",
    "    context_length = window_size*2\n",
    "    for words in corpus:\n",
    "        sentence_length = len(words)\n",
    "        for index, word in enumerate(words):\n",
    "            context_words = []\n",
    "            label_word   = []            \n",
    "            start = index - window_size\n",
    "            end = index + window_size + 1\n",
    "            \n",
    "            context_words.append([words[i] \n",
    "                                 for i in range(start, end) \n",
    "                                 if 0 <= i < sentence_length \n",
    "                                 and i != index])\n",
    "            label_word.append(word)\n",
    "\n",
    "            x = sequence.pad_sequences(context_words, maxlen=context_length)\n",
    "            y = to_categorical(label_word, vocab_size)\n",
    "            yield (x, y)\n",
    "            \n",
    "            \n",
    "# Test this out for some samples\n",
    "i = 0\n",
    "for x, y in generate_context_word_pairs(corpus=wids, window_size=window_size, vocab_size=vocab_size):\n",
    "    if 0 not in x[0]:\n",
    "        print( 'Trial: ',i,'Context (X):',[id2word[w] for w in x[0]], '-> Target (Y):', id2word[np.argwhere(y[0])[0][0]])\n",
    "    \n",
    "        if i == 10:\n",
    "            break\n",
    "        i += 1"
   ]
  },
  {
   "cell_type": "markdown",
   "metadata": {},
   "source": [
    "## Glove\n",
    "references: https://towardsdatascience.com/light-on-math-ml-intuitive-guide-to-understanding-glove-embeddings-b13b4f19c010 \n",
    "https://github.com/stanfordnlp/GloVe"
   ]
  },
  {
   "cell_type": "markdown",
   "metadata": {},
   "source": [
    "GloVe is a word vector technique . Its advantage  is that, unlike Word2vec, GloVe does not rely just on local statistics (local context information of words), but incorporates global statistics (word co-occurrence) to obtain word vectors. \n",
    "\n",
    "Word2Vec: you get a large corpus, and make a dataset of tuples, where each tuple contains (some word x, a word in the context of x). the semantics learnt for a given word, is only affected by the surrounding words. Word2vec which captures local statistics do very well in analogy tasks. \n",
    "\n",
    "Glove: You can derive semantic relationships between words from the co-occurrence matrix.\n",
    "\n"
   ]
  },
  {
   "cell_type": "code",
   "execution_count": null,
   "metadata": {},
   "outputs": [],
   "source": []
  },
  {
   "cell_type": "markdown",
   "metadata": {},
   "source": [
    "## References\n",
    "* https://jdvelasq.github.io/courses/\n",
    "* https://scikit-learn.org/stable/modules/generated/sklearn.manifold.TSNE.html\n",
    "* https://www.kdnuggets.com/2018/04/robust-word2vec-models-gensim.html\n",
    "* https://radimrehurek.com/gensim/models/word2vec.html\n",
    "* https://nbviewer.jupyter.org/github/AprendizajeProfundo/Diplomado/blob/master/Temas/Módulo%208-%20Aprendizaje%20Profundo%20II/1.%20Procesamiento%20de%20Lenguaje%20natural/Cuadernos/nlp_word2vec.ipynb\n",
    "* https://www.kdnuggets.com/2018/04/implementing-deep-learning-methods-feature-engineering-text-data-cbow.html"
   ]
  },
  {
   "cell_type": "code",
   "execution_count": null,
   "metadata": {},
   "outputs": [],
   "source": []
  }
 ],
 "metadata": {
  "kernelspec": {
   "display_name": "Python 3",
   "language": "python",
   "name": "python3"
  },
  "language_info": {
   "codemirror_mode": {
    "name": "ipython",
    "version": 3
   },
   "file_extension": ".py",
   "mimetype": "text/x-python",
   "name": "python",
   "nbconvert_exporter": "python",
   "pygments_lexer": "ipython3",
   "version": "3.8.5"
  }
 },
 "nbformat": 4,
 "nbformat_minor": 4
}

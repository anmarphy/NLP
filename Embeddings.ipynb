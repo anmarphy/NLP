{
 "cells": [
  {
   "cell_type": "markdown",
   "metadata": {},
   "source": [
    "# Embendings "
   ]
  },
  {
   "cell_type": "markdown",
   "metadata": {},
   "source": [
    "* [Motivation](#Motivation)\n",
    "* [Data Preparation](#Data-Preparation)\n",
    "* [Word2Vec Model](#Word2Vec-Model)\n",
    "    * [Similar words based on Word2Vec model](#Similar-words-based-on-Word2Vec-model)\n",
    "* [Prediction model using context window](#Prediction-model-using-context-window)\n",
    "* [Glove](#Glove)\n",
    "* [](#)\n",
    "* [](#)\n",
    "* [](#)\n",
    "* [](#)"
   ]
  },
  {
   "cell_type": "code",
   "execution_count": 1,
   "metadata": {},
   "outputs": [],
   "source": [
    "import tensorflow as tf\n",
    "import pandas as pd\n",
    "import numpy as np\n",
    "import re\n",
    "import nltk\n",
    "import matplotlib.pyplot as plt\n",
    "from gensim.models import word2vec\n",
    "pd.options.display.max_colwidth = 200\n",
    "\n",
    "%matplotlib inline"
   ]
  },
  {
   "cell_type": "markdown",
   "metadata": {},
   "source": [
    "## Motivation"
   ]
  },
  {
   "cell_type": "markdown",
   "metadata": {},
   "source": [
    "Since text is unstructured and noise, the embemdings representation allow us to represent their information in a vectorial space. Word2Vec, Glove and FastText are algorithms that create those vectorial spaces using the contextual similarity and semantic between words. In contrast with the bags of words which just capture the relation between closest words and not the global semantic relationship in a document. \n",
    "The aim of this kind of techniques is predicting instead of counting.\n",
    "https://www.aclweb.org/anthology/P14-1023.pdf"
   ]
  },
  {
   "cell_type": "markdown",
   "metadata": {},
   "source": [
    "## Data Preparation"
   ]
  },
  {
   "cell_type": "code",
   "execution_count": 2,
   "metadata": {},
   "outputs": [
    {
     "data": {
      "text/html": [
       "<div>\n",
       "<style scoped>\n",
       "    .dataframe tbody tr th:only-of-type {\n",
       "        vertical-align: middle;\n",
       "    }\n",
       "\n",
       "    .dataframe tbody tr th {\n",
       "        vertical-align: top;\n",
       "    }\n",
       "\n",
       "    .dataframe thead th {\n",
       "        text-align: right;\n",
       "    }\n",
       "</style>\n",
       "<table border=\"1\" class=\"dataframe\">\n",
       "  <thead>\n",
       "    <tr style=\"text-align: right;\">\n",
       "      <th></th>\n",
       "      <th>Document</th>\n",
       "      <th>Category</th>\n",
       "    </tr>\n",
       "  </thead>\n",
       "  <tbody>\n",
       "    <tr>\n",
       "      <th>0</th>\n",
       "      <td>The sky is blue and beautiful :) .</td>\n",
       "      <td>weather</td>\n",
       "    </tr>\n",
       "    <tr>\n",
       "      <th>1</th>\n",
       "      <td>Love this blue and beautiful sky!</td>\n",
       "      <td>weather</td>\n",
       "    </tr>\n",
       "    <tr>\n",
       "      <th>2</th>\n",
       "      <td>The quick brown fox jumps over the lazy dog.</td>\n",
       "      <td>animals</td>\n",
       "    </tr>\n",
       "    <tr>\n",
       "      <th>3</th>\n",
       "      <td>A king's breakfast has sausages, ham, bacon, eggs, toast and beans</td>\n",
       "      <td>food</td>\n",
       "    </tr>\n",
       "    <tr>\n",
       "      <th>4</th>\n",
       "      <td>I love green eggs, ham, sausages and bacon!</td>\n",
       "      <td>food</td>\n",
       "    </tr>\n",
       "    <tr>\n",
       "      <th>5</th>\n",
       "      <td>The brown fox is quick and the blue dog is lazy!</td>\n",
       "      <td>animals</td>\n",
       "    </tr>\n",
       "    <tr>\n",
       "      <th>6</th>\n",
       "      <td>The sky is very blue and the sky is very beautiful today</td>\n",
       "      <td>weather</td>\n",
       "    </tr>\n",
       "    <tr>\n",
       "      <th>7</th>\n",
       "      <td>The dog is lazy but the brown fox is quick!</td>\n",
       "      <td>animals</td>\n",
       "    </tr>\n",
       "    <tr>\n",
       "      <th>8</th>\n",
       "      <td>The owls live in the forest</td>\n",
       "      <td>animals</td>\n",
       "    </tr>\n",
       "    <tr>\n",
       "      <th>9</th>\n",
       "      <td>Today is raining cats and dogs</td>\n",
       "      <td>weather</td>\n",
       "    </tr>\n",
       "  </tbody>\n",
       "</table>\n",
       "</div>"
      ],
      "text/plain": [
       "                                                             Document Category\n",
       "0                                  The sky is blue and beautiful :) .  weather\n",
       "1                                   Love this blue and beautiful sky!  weather\n",
       "2                        The quick brown fox jumps over the lazy dog.  animals\n",
       "3  A king's breakfast has sausages, ham, bacon, eggs, toast and beans     food\n",
       "4                         I love green eggs, ham, sausages and bacon!     food\n",
       "5                    The brown fox is quick and the blue dog is lazy!  animals\n",
       "6            The sky is very blue and the sky is very beautiful today  weather\n",
       "7                         The dog is lazy but the brown fox is quick!  animals\n",
       "8                                         The owls live in the forest  animals\n",
       "9                                     Today is raining cats and dogs   weather"
      ]
     },
     "execution_count": 2,
     "metadata": {},
     "output_type": "execute_result"
    }
   ],
   "source": [
    "corpus = ['The sky is blue and beautiful :) .',\n",
    "          'Love this blue and beautiful sky!',\n",
    "          'The quick brown fox jumps over the lazy dog.',\n",
    "          \"A king's breakfast has sausages, ham, bacon, eggs, toast and beans\",\n",
    "          'I love green eggs, ham, sausages and bacon!',\n",
    "          'The brown fox is quick and the blue dog is lazy!',\n",
    "          'The sky is very blue and the sky is very beautiful today',\n",
    "          'The dog is lazy but the brown fox is quick!'    ,\n",
    "          'The owls live in the forest',\n",
    "          'Today is raining cats and dogs '\n",
    "]\n",
    "labels = ['weather', 'weather', 'animals', 'food', 'food', 'animals', 'weather', 'animals', 'animals', 'weather']\n",
    "\n",
    "corpus = np.array(corpus)\n",
    "corpus_df = pd.DataFrame({'Document': corpus, \n",
    "                          'Category': labels})     #Converting the dictionary in DataFrame\n",
    "corpus_df = corpus_df[['Document', 'Category']]\n",
    "corpus_df"
   ]
  },
  {
   "cell_type": "code",
   "execution_count": 3,
   "metadata": {},
   "outputs": [
    {
     "data": {
      "text/html": [
       "<div>\n",
       "<style scoped>\n",
       "    .dataframe tbody tr th:only-of-type {\n",
       "        vertical-align: middle;\n",
       "    }\n",
       "\n",
       "    .dataframe tbody tr th {\n",
       "        vertical-align: top;\n",
       "    }\n",
       "\n",
       "    .dataframe thead th {\n",
       "        text-align: right;\n",
       "    }\n",
       "</style>\n",
       "<table border=\"1\" class=\"dataframe\">\n",
       "  <thead>\n",
       "    <tr style=\"text-align: right;\">\n",
       "      <th></th>\n",
       "      <th>Document</th>\n",
       "      <th>Category</th>\n",
       "      <th>norm_corpus</th>\n",
       "    </tr>\n",
       "  </thead>\n",
       "  <tbody>\n",
       "    <tr>\n",
       "      <th>0</th>\n",
       "      <td>The sky is blue and beautiful :) .</td>\n",
       "      <td>weather</td>\n",
       "      <td>sky blue beautiful</td>\n",
       "    </tr>\n",
       "    <tr>\n",
       "      <th>1</th>\n",
       "      <td>Love this blue and beautiful sky!</td>\n",
       "      <td>weather</td>\n",
       "      <td>love blue beautiful sky</td>\n",
       "    </tr>\n",
       "    <tr>\n",
       "      <th>2</th>\n",
       "      <td>The quick brown fox jumps over the lazy dog.</td>\n",
       "      <td>animals</td>\n",
       "      <td>quick brown fox jumps lazy dog</td>\n",
       "    </tr>\n",
       "    <tr>\n",
       "      <th>3</th>\n",
       "      <td>A king's breakfast has sausages, ham, bacon, eggs, toast and beans</td>\n",
       "      <td>food</td>\n",
       "      <td>kings breakfast sausages ham bacon eggs toast beans</td>\n",
       "    </tr>\n",
       "    <tr>\n",
       "      <th>4</th>\n",
       "      <td>I love green eggs, ham, sausages and bacon!</td>\n",
       "      <td>food</td>\n",
       "      <td>love green eggs ham sausages bacon</td>\n",
       "    </tr>\n",
       "    <tr>\n",
       "      <th>5</th>\n",
       "      <td>The brown fox is quick and the blue dog is lazy!</td>\n",
       "      <td>animals</td>\n",
       "      <td>brown fox quick blue dog lazy</td>\n",
       "    </tr>\n",
       "    <tr>\n",
       "      <th>6</th>\n",
       "      <td>The sky is very blue and the sky is very beautiful today</td>\n",
       "      <td>weather</td>\n",
       "      <td>sky blue sky beautiful today</td>\n",
       "    </tr>\n",
       "    <tr>\n",
       "      <th>7</th>\n",
       "      <td>The dog is lazy but the brown fox is quick!</td>\n",
       "      <td>animals</td>\n",
       "      <td>dog lazy brown fox quick</td>\n",
       "    </tr>\n",
       "    <tr>\n",
       "      <th>8</th>\n",
       "      <td>The owls live in the forest</td>\n",
       "      <td>animals</td>\n",
       "      <td>owls live forest</td>\n",
       "    </tr>\n",
       "    <tr>\n",
       "      <th>9</th>\n",
       "      <td>Today is raining cats and dogs</td>\n",
       "      <td>weather</td>\n",
       "      <td>today raining cats dogs</td>\n",
       "    </tr>\n",
       "  </tbody>\n",
       "</table>\n",
       "</div>"
      ],
      "text/plain": [
       "                                                             Document  \\\n",
       "0                                  The sky is blue and beautiful :) .   \n",
       "1                                   Love this blue and beautiful sky!   \n",
       "2                        The quick brown fox jumps over the lazy dog.   \n",
       "3  A king's breakfast has sausages, ham, bacon, eggs, toast and beans   \n",
       "4                         I love green eggs, ham, sausages and bacon!   \n",
       "5                    The brown fox is quick and the blue dog is lazy!   \n",
       "6            The sky is very blue and the sky is very beautiful today   \n",
       "7                         The dog is lazy but the brown fox is quick!   \n",
       "8                                         The owls live in the forest   \n",
       "9                                     Today is raining cats and dogs    \n",
       "\n",
       "  Category                                          norm_corpus  \n",
       "0  weather                                   sky blue beautiful  \n",
       "1  weather                              love blue beautiful sky  \n",
       "2  animals                       quick brown fox jumps lazy dog  \n",
       "3     food  kings breakfast sausages ham bacon eggs toast beans  \n",
       "4     food                   love green eggs ham sausages bacon  \n",
       "5  animals                        brown fox quick blue dog lazy  \n",
       "6  weather                         sky blue sky beautiful today  \n",
       "7  animals                             dog lazy brown fox quick  \n",
       "8  animals                                     owls live forest  \n",
       "9  weather                              today raining cats dogs  "
      ]
     },
     "execution_count": 3,
     "metadata": {},
     "output_type": "execute_result"
    }
   ],
   "source": [
    "wpt = nltk.WordPunctTokenizer()\n",
    "stop_words = nltk.corpus.stopwords.words('english')\n",
    "\n",
    "def normalize_document(doc):\n",
    "    doc = re.sub(r'[^a-zA-Z\\s]', '', doc, re.I|re.A)# remove special characters: \n",
    "    doc = doc.lower()                               # transform to lower case\n",
    "    doc = doc.strip()                               # remove \\whitespaces\n",
    "    tokens = wpt.tokenize(doc)                      # tokenize document\n",
    "    filtered_tokens = [token for token in tokens if token not in stop_words]# filter stopwords out of document\n",
    "    doc = ' '.join(filtered_tokens)                 # re-create document from filtered tokens\n",
    "    return doc\n",
    "\n",
    "\n",
    "normalize_corpus = np.vectorize(normalize_document)  # vectorized function which takes a nested sequence of objects and returns a single numpy array \n",
    "corpus_df['norm_corpus']=normalize_corpus(corpus)\n",
    "corpus_df"
   ]
  },
  {
   "cell_type": "markdown",
   "metadata": {},
   "source": [
    "## Word2Vec Model"
   ]
  },
  {
   "cell_type": "markdown",
   "metadata": {},
   "source": [
    "Created by Google in 2013, this is a distributed and continuous dense vector representations of words."
   ]
  },
  {
   "cell_type": "code",
   "execution_count": 4,
   "metadata": {},
   "outputs": [],
   "source": [
    "wpt = nltk.WordPunctTokenizer()\n",
    "tokenized_corpus = [wpt.tokenize(document) for document in corpus_df['norm_corpus']]\n",
    "\n",
    "# Set the parameters\n",
    "feature_size = 15            # Word vector dimensionality  \n",
    "window_context = 10          # Context window size                                                                                    \n",
    "min_word_count = 1           # Minimum word count                        \n",
    "sample = 1e-3                # Downsample setting for frequent words\n",
    "\n",
    "w2v_model = word2vec.Word2Vec(tokenized_corpus, \n",
    "                              size=feature_size, \n",
    "                              window=window_context, \n",
    "                              min_count = min_word_count,\n",
    "                              sample=sample, \n",
    "                              iter=100)"
   ]
  },
  {
   "cell_type": "code",
   "execution_count": 5,
   "metadata": {},
   "outputs": [
    {
     "data": {
      "image/png": "[encoded data removed]",
      "text/plain": [
       "<Figure size 720x576 with 1 Axes>"
      ]
     },
     "metadata": {
      "needs_background": "light"
     },
     "output_type": "display_data"
    }
   ],
   "source": [
    "# visualize embeddings\n",
    "from sklearn.manifold import TSNE #Visualizing tool t-distributed Stochastic Neighbor Embedding\n",
    "\n",
    "words = w2v_model.wv.index2word #list of word-vectors\n",
    "wvs = w2v_model.wv[words]       #list of vectors\n",
    "\n",
    "tsne = TSNE(n_components=2, \n",
    "            random_state=0, \n",
    "            n_iter=5000, \n",
    "            perplexity=2)\n",
    "\n",
    "np.set_printoptions(suppress=True)\n",
    "T = tsne.fit_transform(wvs)\n",
    "labels = words\n",
    "\n",
    "plt.figure(figsize=(10, 8))\n",
    "plt.scatter(T[:, 0], T[:, 1], c='blue', edgecolors='r')\n",
    "for label, x, y in zip(labels, T[:, 0], T[:, 1]):\n",
    "    plt.annotate(label, xy=(x+1, y+1), xytext=(0, 0), textcoords='offset points')"
   ]
  },
  {
   "cell_type": "code",
   "execution_count": 6,
   "metadata": {},
   "outputs": [
    {
     "data": {
      "text/plain": [
       "['sky',\n",
       " 'blue',\n",
       " 'beautiful',\n",
       " 'quick',\n",
       " 'brown',\n",
       " 'fox',\n",
       " 'lazy',\n",
       " 'dog',\n",
       " 'love',\n",
       " 'sausages',\n",
       " 'ham',\n",
       " 'bacon',\n",
       " 'eggs',\n",
       " 'today',\n",
       " 'jumps',\n",
       " 'kings',\n",
       " 'breakfast',\n",
       " 'toast',\n",
       " 'beans',\n",
       " 'green',\n",
       " 'owls',\n",
       " 'live',\n",
       " 'forest',\n",
       " 'raining',\n",
       " 'cats',\n",
       " 'dogs']"
      ]
     },
     "execution_count": 6,
     "metadata": {},
     "output_type": "execute_result"
    }
   ],
   "source": [
    "words"
   ]
  },
  {
   "cell_type": "code",
   "execution_count": 7,
   "metadata": {},
   "outputs": [
    {
     "data": {
      "text/plain": [
       "array([[ 0.00973868,  0.02359959,  0.02906081,  0.00521444,  0.02447689,\n",
       "         0.01905392, -0.01101429,  0.01442075, -0.00945793, -0.0331611 ,\n",
       "        -0.02138757, -0.006775  ,  0.02211236, -0.02964629,  0.0296037 ],\n",
       "       [-0.00530245, -0.0186872 , -0.01585512,  0.0035948 ,  0.00217126,\n",
       "        -0.00613843, -0.00851777,  0.01351901,  0.01598773, -0.00376979,\n",
       "        -0.01800086,  0.02075105,  0.03323003, -0.01213446, -0.01571128],\n",
       "       [-0.00044705, -0.03023454, -0.02432572, -0.01163972,  0.02830653,\n",
       "        -0.01171707, -0.02337069,  0.00463958,  0.02646026,  0.02645923,\n",
       "        -0.01405716,  0.00011136, -0.02059162,  0.02227462, -0.00287884],\n",
       "       [ 0.03186117, -0.00899675,  0.01310622,  0.00186419, -0.02983293,\n",
       "        -0.02757345,  0.00113254, -0.02598183,  0.01656358, -0.02661136,\n",
       "         0.01498245,  0.01780995,  0.02793815, -0.01483441,  0.01693268],\n",
       "       [-0.027879  , -0.01068688,  0.03182741, -0.01975468,  0.0209766 ,\n",
       "        -0.00388746,  0.01096697, -0.00892213,  0.02473846, -0.01723745,\n",
       "         0.02368345,  0.02608943,  0.02490592, -0.00158515, -0.03154176],\n",
       "       [-0.03014427, -0.00919827, -0.00747052,  0.02254781,  0.00221058,\n",
       "         0.00563923, -0.00588159, -0.0190598 , -0.02896784, -0.01878067,\n",
       "        -0.00485892,  0.00025865,  0.00139341, -0.01115499, -0.02927098],\n",
       "       [ 0.00200341, -0.00800588, -0.00928377, -0.01451926, -0.01244334,\n",
       "        -0.01407565, -0.01218506,  0.02069761,  0.02535911, -0.01459548,\n",
       "        -0.01779626,  0.02582465,  0.03001653, -0.01250866, -0.00778584],\n",
       "       [ 0.03455986,  0.01328206, -0.0196018 ,  0.02845217, -0.02180937,\n",
       "         0.00066314,  0.03130886, -0.02236318,  0.02810229, -0.02463896,\n",
       "         0.02576594, -0.02132797, -0.00033785, -0.01864401,  0.01208662],\n",
       "       [-0.00596862, -0.02265794, -0.00803494,  0.02002971, -0.00844419,\n",
       "        -0.0176699 ,  0.00359282, -0.01590707,  0.00922395, -0.01227672,\n",
       "         0.03148877,  0.02823871, -0.03276868,  0.00438137,  0.01467821],\n",
       "       [-0.01822698,  0.00900076, -0.02532708, -0.02140464,  0.02547709,\n",
       "         0.01376037, -0.03350332,  0.01832645,  0.0055218 , -0.03311792,\n",
       "        -0.02571576, -0.00486793,  0.0254117 , -0.02097538, -0.01996062],\n",
       "       [ 0.03275057, -0.02888989, -0.02764821, -0.00702901,  0.01850346,\n",
       "         0.00988603,  0.02628495, -0.00459183, -0.02272425, -0.00435005,\n",
       "        -0.00980902, -0.00537111, -0.01397067,  0.00486054,  0.02394379],\n",
       "       [ 0.0333618 , -0.0069992 ,  0.02311013,  0.016344  , -0.02718417,\n",
       "         0.01879951, -0.0303907 , -0.03149862,  0.0049387 , -0.03057622,\n",
       "        -0.01787494, -0.00013812, -0.00844016,  0.03002284,  0.02931208],\n",
       "       [ 0.02520499, -0.0227462 , -0.02023702, -0.02689376, -0.0291476 ,\n",
       "         0.03524277, -0.00049881,  0.01105131,  0.01065928,  0.00153638,\n",
       "         0.00015381, -0.00198289, -0.0012056 , -0.00149724,  0.02855779],\n",
       "       [-0.02203962,  0.0292797 ,  0.00674381,  0.02207712, -0.00995422,\n",
       "        -0.02186766,  0.00858809,  0.01005228, -0.01773965, -0.00194656,\n",
       "         0.01512516, -0.00218292, -0.00988734,  0.02271954, -0.00379861],\n",
       "       [ 0.000919  , -0.02118283, -0.00487851,  0.01403999, -0.01054465,\n",
       "         0.00315144, -0.02381898, -0.00729545, -0.02017693, -0.01371579,\n",
       "         0.03160302,  0.0120742 , -0.02038431, -0.0148689 , -0.0213838 ],\n",
       "       [ 0.03177061, -0.03007966,  0.01804441,  0.01301292, -0.02348451,\n",
       "         0.03387692,  0.02816058,  0.00816941,  0.00236871, -0.00072566,\n",
       "        -0.0058673 , -0.00562588, -0.01949078, -0.01362745,  0.02798328],\n",
       "       [ 0.0219558 ,  0.01438793,  0.02920115,  0.01212618,  0.02554862,\n",
       "        -0.00651132, -0.0136245 , -0.00918662,  0.03403063,  0.01113899,\n",
       "         0.01141513, -0.01013773,  0.01915058,  0.00007383,  0.00664624],\n",
       "       [ 0.02834179,  0.03197927,  0.03342698,  0.01512213,  0.03230976,\n",
       "         0.00122006, -0.03087424, -0.00854535,  0.02643967, -0.02959214,\n",
       "         0.01663361, -0.00754463, -0.00840035, -0.02191816, -0.00391242],\n",
       "       [-0.02352438,  0.01341094,  0.02709534, -0.00557967, -0.03096439,\n",
       "        -0.0056334 , -0.01643137, -0.00829978,  0.03434525, -0.0294026 ,\n",
       "        -0.02693811,  0.02511053,  0.02707716,  0.01350095, -0.01113547],\n",
       "       [-0.00759633, -0.00384582,  0.03023574, -0.02055549, -0.03123268,\n",
       "        -0.02011835,  0.01581134, -0.01858532,  0.01431214, -0.02920409,\n",
       "         0.0328496 , -0.00531868, -0.01967559,  0.00775992,  0.01243825],\n",
       "       [ 0.03019076, -0.02500657,  0.03328967, -0.02721889, -0.01372938,\n",
       "         0.02477462,  0.01794561, -0.0229718 , -0.0283314 ,  0.00993208,\n",
       "        -0.02217826,  0.00730871,  0.01917201,  0.0043501 , -0.01856667],\n",
       "       [ 0.02346781, -0.01014327, -0.03303957,  0.02459914, -0.00182335,\n",
       "         0.02073981,  0.00912008, -0.02190506, -0.00981387,  0.0063862 ,\n",
       "        -0.00507228, -0.02283569,  0.00298363, -0.02311088,  0.0212712 ],\n",
       "       [-0.003651  ,  0.0209866 , -0.01361653,  0.01055973, -0.0018338 ,\n",
       "         0.02398186, -0.01073594,  0.03020559,  0.00651347, -0.00680365,\n",
       "         0.00514382,  0.0001987 ,  0.00413883, -0.01010069, -0.00465895],\n",
       "       [ 0.01904215,  0.01314814,  0.01734596, -0.01915538,  0.02794346,\n",
       "         0.0165767 ,  0.01817515,  0.01651883, -0.0133054 ,  0.03212786,\n",
       "        -0.03264258, -0.00482997, -0.03003891, -0.00752128, -0.03093053],\n",
       "       [ 0.01942965,  0.02572213,  0.0258277 ,  0.0169266 , -0.00825649,\n",
       "         0.02453236,  0.01819695, -0.02955387,  0.02535238,  0.02925822,\n",
       "        -0.0054171 , -0.00808755, -0.00847823,  0.00819696, -0.02419392],\n",
       "       [-0.00031343,  0.00844022, -0.0197658 , -0.0287628 ,  0.0092675 ,\n",
       "         0.01213574, -0.01325317, -0.00925212,  0.00612553, -0.0307445 ,\n",
       "        -0.01752049, -0.00677964, -0.01570474, -0.021103  ,  0.00753533]],\n",
       "      dtype=float32)"
      ]
     },
     "execution_count": 7,
     "metadata": {},
     "output_type": "execute_result"
    }
   ],
   "source": [
    "wvs "
   ]
  },
  {
   "cell_type": "code",
   "execution_count": 8,
   "metadata": {},
   "outputs": [
    {
     "data": {
      "text/plain": [
       "array([ 0.00973868,  0.02359959,  0.02906081,  0.00521444,  0.02447689,\n",
       "        0.01905392, -0.01101429,  0.01442075, -0.00945793, -0.0331611 ,\n",
       "       -0.02138757, -0.006775  ,  0.02211236, -0.02964629,  0.0296037 ],\n",
       "      dtype=float32)"
      ]
     },
     "execution_count": 8,
     "metadata": {},
     "output_type": "execute_result"
    }
   ],
   "source": [
    "w2v_model.wv['sky'] #Representation of the first word"
   ]
  },
  {
   "cell_type": "code",
   "execution_count": 9,
   "metadata": {},
   "outputs": [
    {
     "name": "stderr",
     "output_type": "stream",
     "text": [
      "<ipython-input-9-3b39b39ddf33>:11: DeprecationWarning: Call to deprecated `__getitem__` (Method will be removed in 4.0.0, use self.wv.__getitem__() instead).\n",
      "  feature_vector = np.add(feature_vector, model[word])\n"
     ]
    }
   ],
   "source": [
    "#we need to get the document level embeddings from each of the words present in each document.\n",
    "#average out the word embeddings for each word in a document\n",
    "def average_word_vectors(words, model, vocabulary, num_features):\n",
    "    \n",
    "    feature_vector = np.zeros((num_features,),dtype=\"float64\")\n",
    "    nwords = 0.\n",
    "    \n",
    "    for word in words:\n",
    "        if word in vocabulary: \n",
    "            nwords = nwords + 1.\n",
    "            feature_vector = np.add(feature_vector, model[word])\n",
    "    \n",
    "    if nwords:\n",
    "        feature_vector = np.divide(feature_vector, nwords)\n",
    "        \n",
    "    return feature_vector\n",
    "    \n",
    "def averaged_word_vectorizer(corpus, model, num_features):\n",
    "    vocabulary = set(model.wv.index2word)\n",
    "    features = [average_word_vectors(tokenized_sentence, model, vocabulary, num_features)\n",
    "                    for tokenized_sentence in corpus]\n",
    "    return np.array(features)\n",
    "\n",
    "\n",
    "# get document level embeddings\n",
    "w2v_feature_array = averaged_word_vectorizer(corpus=tokenized_corpus, \n",
    "                                             model=w2v_model, \n",
    "                                             num_features=feature_size)\n",
    "          "
   ]
  },
  {
   "cell_type": "code",
   "execution_count": 10,
   "metadata": {},
   "outputs": [
    {
     "data": {
      "text/html": [
       "<div>\n",
       "<style scoped>\n",
       "    .dataframe tbody tr th:only-of-type {\n",
       "        vertical-align: middle;\n",
       "    }\n",
       "\n",
       "    .dataframe tbody tr th {\n",
       "        vertical-align: top;\n",
       "    }\n",
       "\n",
       "    .dataframe thead th {\n",
       "        text-align: right;\n",
       "    }\n",
       "</style>\n",
       "<table border=\"1\" class=\"dataframe\">\n",
       "  <thead>\n",
       "    <tr style=\"text-align: right;\">\n",
       "      <th></th>\n",
       "      <th>0</th>\n",
       "      <th>1</th>\n",
       "      <th>2</th>\n",
       "      <th>3</th>\n",
       "      <th>4</th>\n",
       "      <th>5</th>\n",
       "      <th>6</th>\n",
       "      <th>7</th>\n",
       "      <th>8</th>\n",
       "      <th>9</th>\n",
       "      <th>10</th>\n",
       "      <th>11</th>\n",
       "      <th>12</th>\n",
       "      <th>13</th>\n",
       "      <th>14</th>\n",
       "    </tr>\n",
       "  </thead>\n",
       "  <tbody>\n",
       "    <tr>\n",
       "      <th>0</th>\n",
       "      <td>0.001330</td>\n",
       "      <td>-0.008441</td>\n",
       "      <td>-0.003707</td>\n",
       "      <td>-0.000943</td>\n",
       "      <td>0.018318</td>\n",
       "      <td>0.000399</td>\n",
       "      <td>-0.014301</td>\n",
       "      <td>0.010860</td>\n",
       "      <td>0.010997</td>\n",
       "      <td>-0.003491</td>\n",
       "      <td>-0.017815</td>\n",
       "      <td>0.004696</td>\n",
       "      <td>0.011584</td>\n",
       "      <td>-0.006502</td>\n",
       "      <td>0.003671</td>\n",
       "    </tr>\n",
       "    <tr>\n",
       "      <th>1</th>\n",
       "      <td>-0.000495</td>\n",
       "      <td>-0.011995</td>\n",
       "      <td>-0.004789</td>\n",
       "      <td>0.004300</td>\n",
       "      <td>0.011628</td>\n",
       "      <td>-0.004118</td>\n",
       "      <td>-0.009827</td>\n",
       "      <td>0.004168</td>\n",
       "      <td>0.010553</td>\n",
       "      <td>-0.005687</td>\n",
       "      <td>-0.005489</td>\n",
       "      <td>0.010582</td>\n",
       "      <td>0.000496</td>\n",
       "      <td>-0.003781</td>\n",
       "      <td>0.006423</td>\n",
       "    </tr>\n",
       "    <tr>\n",
       "      <th>2</th>\n",
       "      <td>0.001887</td>\n",
       "      <td>-0.007465</td>\n",
       "      <td>0.000617</td>\n",
       "      <td>0.005438</td>\n",
       "      <td>-0.008574</td>\n",
       "      <td>-0.006014</td>\n",
       "      <td>0.000254</td>\n",
       "      <td>-0.010487</td>\n",
       "      <td>0.007603</td>\n",
       "      <td>-0.019263</td>\n",
       "      <td>0.012230</td>\n",
       "      <td>0.010121</td>\n",
       "      <td>0.010589</td>\n",
       "      <td>-0.012266</td>\n",
       "      <td>-0.010161</td>\n",
       "    </tr>\n",
       "    <tr>\n",
       "      <th>3</th>\n",
       "      <td>0.016454</td>\n",
       "      <td>-0.002492</td>\n",
       "      <td>0.007208</td>\n",
       "      <td>-0.000538</td>\n",
       "      <td>-0.001118</td>\n",
       "      <td>0.012580</td>\n",
       "      <td>-0.008860</td>\n",
       "      <td>-0.003072</td>\n",
       "      <td>0.011947</td>\n",
       "      <td>-0.014386</td>\n",
       "      <td>-0.007250</td>\n",
       "      <td>-0.001320</td>\n",
       "      <td>0.002516</td>\n",
       "      <td>-0.001195</td>\n",
       "      <td>0.010179</td>\n",
       "    </tr>\n",
       "    <tr>\n",
       "      <th>4</th>\n",
       "      <td>0.009921</td>\n",
       "      <td>-0.012690</td>\n",
       "      <td>-0.004650</td>\n",
       "      <td>-0.006585</td>\n",
       "      <td>-0.008671</td>\n",
       "      <td>0.006650</td>\n",
       "      <td>-0.003117</td>\n",
       "      <td>-0.006868</td>\n",
       "      <td>0.003655</td>\n",
       "      <td>-0.017998</td>\n",
       "      <td>0.001849</td>\n",
       "      <td>0.001760</td>\n",
       "      <td>-0.008441</td>\n",
       "      <td>0.004092</td>\n",
       "      <td>0.014828</td>\n",
       "    </tr>\n",
       "    <tr>\n",
       "      <th>5</th>\n",
       "      <td>0.000850</td>\n",
       "      <td>-0.007049</td>\n",
       "      <td>-0.001213</td>\n",
       "      <td>0.003698</td>\n",
       "      <td>-0.006455</td>\n",
       "      <td>-0.007562</td>\n",
       "      <td>0.002804</td>\n",
       "      <td>-0.007018</td>\n",
       "      <td>0.013631</td>\n",
       "      <td>-0.017606</td>\n",
       "      <td>0.003963</td>\n",
       "      <td>0.011568</td>\n",
       "      <td>0.019524</td>\n",
       "      <td>-0.011810</td>\n",
       "      <td>-0.009215</td>\n",
       "    </tr>\n",
       "    <tr>\n",
       "      <th>6</th>\n",
       "      <td>-0.001662</td>\n",
       "      <td>0.005511</td>\n",
       "      <td>0.004937</td>\n",
       "      <td>0.004892</td>\n",
       "      <td>0.013895</td>\n",
       "      <td>-0.000323</td>\n",
       "      <td>-0.009066</td>\n",
       "      <td>0.011410</td>\n",
       "      <td>0.001158</td>\n",
       "      <td>-0.009116</td>\n",
       "      <td>-0.011942</td>\n",
       "      <td>0.001026</td>\n",
       "      <td>0.009395</td>\n",
       "      <td>-0.005287</td>\n",
       "      <td>0.007364</td>\n",
       "    </tr>\n",
       "    <tr>\n",
       "      <th>7</th>\n",
       "      <td>0.002080</td>\n",
       "      <td>-0.004721</td>\n",
       "      <td>0.001716</td>\n",
       "      <td>0.003718</td>\n",
       "      <td>-0.008180</td>\n",
       "      <td>-0.007847</td>\n",
       "      <td>0.005068</td>\n",
       "      <td>-0.011126</td>\n",
       "      <td>0.013159</td>\n",
       "      <td>-0.020373</td>\n",
       "      <td>0.008355</td>\n",
       "      <td>0.009731</td>\n",
       "      <td>0.016783</td>\n",
       "      <td>-0.011745</td>\n",
       "      <td>-0.007916</td>\n",
       "    </tr>\n",
       "    <tr>\n",
       "      <th>8</th>\n",
       "      <td>0.016669</td>\n",
       "      <td>-0.004721</td>\n",
       "      <td>-0.004455</td>\n",
       "      <td>0.002647</td>\n",
       "      <td>-0.005796</td>\n",
       "      <td>0.023165</td>\n",
       "      <td>0.005443</td>\n",
       "      <td>-0.004890</td>\n",
       "      <td>-0.010544</td>\n",
       "      <td>0.003172</td>\n",
       "      <td>-0.007369</td>\n",
       "      <td>-0.005109</td>\n",
       "      <td>0.008765</td>\n",
       "      <td>-0.009620</td>\n",
       "      <td>-0.000651</td>\n",
       "    </tr>\n",
       "    <tr>\n",
       "      <th>9</th>\n",
       "      <td>0.004030</td>\n",
       "      <td>0.019148</td>\n",
       "      <td>0.007538</td>\n",
       "      <td>-0.002229</td>\n",
       "      <td>0.004750</td>\n",
       "      <td>0.007844</td>\n",
       "      <td>0.007927</td>\n",
       "      <td>-0.003059</td>\n",
       "      <td>0.000108</td>\n",
       "      <td>0.007174</td>\n",
       "      <td>-0.010114</td>\n",
       "      <td>-0.005470</td>\n",
       "      <td>-0.016027</td>\n",
       "      <td>0.000573</td>\n",
       "      <td>-0.012847</td>\n",
       "    </tr>\n",
       "  </tbody>\n",
       "</table>\n",
       "</div>"
      ],
      "text/plain": [
       "         0         1         2         3         4         5         6   \\\n",
       "0  0.001330 -0.008441 -0.003707 -0.000943  0.018318  0.000399 -0.014301   \n",
       "1 -0.000495 -0.011995 -0.004789  0.004300  0.011628 -0.004118 -0.009827   \n",
       "2  0.001887 -0.007465  0.000617  0.005438 -0.008574 -0.006014  0.000254   \n",
       "3  0.016454 -0.002492  0.007208 -0.000538 -0.001118  0.012580 -0.008860   \n",
       "4  0.009921 -0.012690 -0.004650 -0.006585 -0.008671  0.006650 -0.003117   \n",
       "5  0.000850 -0.007049 -0.001213  0.003698 -0.006455 -0.007562  0.002804   \n",
       "6 -0.001662  0.005511  0.004937  0.004892  0.013895 -0.000323 -0.009066   \n",
       "7  0.002080 -0.004721  0.001716  0.003718 -0.008180 -0.007847  0.005068   \n",
       "8  0.016669 -0.004721 -0.004455  0.002647 -0.005796  0.023165  0.005443   \n",
       "9  0.004030  0.019148  0.007538 -0.002229  0.004750  0.007844  0.007927   \n",
       "\n",
       "         7         8         9         10        11        12        13  \\\n",
       "0  0.010860  0.010997 -0.003491 -0.017815  0.004696  0.011584 -0.006502   \n",
       "1  0.004168  0.010553 -0.005687 -0.005489  0.010582  0.000496 -0.003781   \n",
       "2 -0.010487  0.007603 -0.019263  0.012230  0.010121  0.010589 -0.012266   \n",
       "3 -0.003072  0.011947 -0.014386 -0.007250 -0.001320  0.002516 -0.001195   \n",
       "4 -0.006868  0.003655 -0.017998  0.001849  0.001760 -0.008441  0.004092   \n",
       "5 -0.007018  0.013631 -0.017606  0.003963  0.011568  0.019524 -0.011810   \n",
       "6  0.011410  0.001158 -0.009116 -0.011942  0.001026  0.009395 -0.005287   \n",
       "7 -0.011126  0.013159 -0.020373  0.008355  0.009731  0.016783 -0.011745   \n",
       "8 -0.004890 -0.010544  0.003172 -0.007369 -0.005109  0.008765 -0.009620   \n",
       "9 -0.003059  0.000108  0.007174 -0.010114 -0.005470 -0.016027  0.000573   \n",
       "\n",
       "         14  \n",
       "0  0.003671  \n",
       "1  0.006423  \n",
       "2 -0.010161  \n",
       "3  0.010179  \n",
       "4  0.014828  \n",
       "5 -0.009215  \n",
       "6  0.007364  \n",
       "7 -0.007916  \n",
       "8 -0.000651  \n",
       "9 -0.012847  "
      ]
     },
     "execution_count": 10,
     "metadata": {},
     "output_type": "execute_result"
    }
   ],
   "source": [
    "Vector_representation = pd.DataFrame(w2v_feature_array)\n",
    "Vector_representation"
   ]
  },
  {
   "cell_type": "markdown",
   "metadata": {},
   "source": [
    "The Affinity Propagation algorithm will be used to cluster those documents since its based on the concept of *message passing* between data points and does not need the number of clusters as an explicit input."
   ]
  },
  {
   "cell_type": "code",
   "execution_count": 11,
   "metadata": {},
   "outputs": [
    {
     "name": "stderr",
     "output_type": "stream",
     "text": [
      "/Users/anmarphy/opt/anaconda3/lib/python3.8/site-packages/sklearn/cluster/_affinity_propagation.py:146: FutureWarning: 'random_state' has been introduced in 0.23. It will be set to None starting from 0.25 which means that results will differ at every function call. Set 'random_state' to None to silence this warning, or to 0 to keep the behavior of versions <0.23.\n",
      "  warnings.warn((\"'random_state' has been introduced in 0.23. \"\n"
     ]
    }
   ],
   "source": [
    "from sklearn.cluster import AffinityPropagation\n",
    "\n",
    "ap = AffinityPropagation()\n",
    "ap.fit(w2v_feature_array) #The transformed vectors are the input to the unsupervised algorithm\n",
    "cluster_labels = ap.labels_\n",
    "cluster_labels = pd.DataFrame(cluster_labels, columns=['ClusterLabel'])\n",
    "corpus_df=pd.concat([corpus_df, cluster_labels], axis=1)"
   ]
  },
  {
   "cell_type": "code",
   "execution_count": 12,
   "metadata": {},
   "outputs": [
    {
     "data": {
      "text/plain": [
       "array([0, 0, 2, 1, 1, 2, 0, 2, 1, 3])"
      ]
     },
     "execution_count": 12,
     "metadata": {},
     "output_type": "execute_result"
    }
   ],
   "source": [
    "ap.labels_"
   ]
  },
  {
   "cell_type": "code",
   "execution_count": 13,
   "metadata": {},
   "outputs": [
    {
     "data": {
      "text/plain": [
       "2    3\n",
       "1    3\n",
       "0    3\n",
       "3    1\n",
       "Name: ClusterLabel, dtype: int64"
      ]
     },
     "execution_count": 13,
     "metadata": {},
     "output_type": "execute_result"
    }
   ],
   "source": [
    "corpus_df['ClusterLabel'].value_counts()"
   ]
  },
  {
   "cell_type": "code",
   "execution_count": 14,
   "metadata": {},
   "outputs": [
    {
     "data": {
      "text/html": [
       "<div>\n",
       "<style scoped>\n",
       "    .dataframe tbody tr th:only-of-type {\n",
       "        vertical-align: middle;\n",
       "    }\n",
       "\n",
       "    .dataframe tbody tr th {\n",
       "        vertical-align: top;\n",
       "    }\n",
       "\n",
       "    .dataframe thead th {\n",
       "        text-align: right;\n",
       "    }\n",
       "</style>\n",
       "<table border=\"1\" class=\"dataframe\">\n",
       "  <thead>\n",
       "    <tr style=\"text-align: right;\">\n",
       "      <th></th>\n",
       "      <th>Document</th>\n",
       "      <th>Category</th>\n",
       "      <th>norm_corpus</th>\n",
       "      <th>ClusterLabel</th>\n",
       "    </tr>\n",
       "  </thead>\n",
       "  <tbody>\n",
       "    <tr>\n",
       "      <th>0</th>\n",
       "      <td>The sky is blue and beautiful :) .</td>\n",
       "      <td>weather</td>\n",
       "      <td>sky blue beautiful</td>\n",
       "      <td>0</td>\n",
       "    </tr>\n",
       "    <tr>\n",
       "      <th>1</th>\n",
       "      <td>Love this blue and beautiful sky!</td>\n",
       "      <td>weather</td>\n",
       "      <td>love blue beautiful sky</td>\n",
       "      <td>0</td>\n",
       "    </tr>\n",
       "    <tr>\n",
       "      <th>2</th>\n",
       "      <td>The quick brown fox jumps over the lazy dog.</td>\n",
       "      <td>animals</td>\n",
       "      <td>quick brown fox jumps lazy dog</td>\n",
       "      <td>2</td>\n",
       "    </tr>\n",
       "    <tr>\n",
       "      <th>3</th>\n",
       "      <td>A king's breakfast has sausages, ham, bacon, eggs, toast and beans</td>\n",
       "      <td>food</td>\n",
       "      <td>kings breakfast sausages ham bacon eggs toast beans</td>\n",
       "      <td>1</td>\n",
       "    </tr>\n",
       "    <tr>\n",
       "      <th>4</th>\n",
       "      <td>I love green eggs, ham, sausages and bacon!</td>\n",
       "      <td>food</td>\n",
       "      <td>love green eggs ham sausages bacon</td>\n",
       "      <td>1</td>\n",
       "    </tr>\n",
       "    <tr>\n",
       "      <th>5</th>\n",
       "      <td>The brown fox is quick and the blue dog is lazy!</td>\n",
       "      <td>animals</td>\n",
       "      <td>brown fox quick blue dog lazy</td>\n",
       "      <td>2</td>\n",
       "    </tr>\n",
       "    <tr>\n",
       "      <th>6</th>\n",
       "      <td>The sky is very blue and the sky is very beautiful today</td>\n",
       "      <td>weather</td>\n",
       "      <td>sky blue sky beautiful today</td>\n",
       "      <td>0</td>\n",
       "    </tr>\n",
       "    <tr>\n",
       "      <th>7</th>\n",
       "      <td>The dog is lazy but the brown fox is quick!</td>\n",
       "      <td>animals</td>\n",
       "      <td>dog lazy brown fox quick</td>\n",
       "      <td>2</td>\n",
       "    </tr>\n",
       "    <tr>\n",
       "      <th>8</th>\n",
       "      <td>The owls live in the forest</td>\n",
       "      <td>animals</td>\n",
       "      <td>owls live forest</td>\n",
       "      <td>1</td>\n",
       "    </tr>\n",
       "    <tr>\n",
       "      <th>9</th>\n",
       "      <td>Today is raining cats and dogs</td>\n",
       "      <td>weather</td>\n",
       "      <td>today raining cats dogs</td>\n",
       "      <td>3</td>\n",
       "    </tr>\n",
       "  </tbody>\n",
       "</table>\n",
       "</div>"
      ],
      "text/plain": [
       "                                                             Document  \\\n",
       "0                                  The sky is blue and beautiful :) .   \n",
       "1                                   Love this blue and beautiful sky!   \n",
       "2                        The quick brown fox jumps over the lazy dog.   \n",
       "3  A king's breakfast has sausages, ham, bacon, eggs, toast and beans   \n",
       "4                         I love green eggs, ham, sausages and bacon!   \n",
       "5                    The brown fox is quick and the blue dog is lazy!   \n",
       "6            The sky is very blue and the sky is very beautiful today   \n",
       "7                         The dog is lazy but the brown fox is quick!   \n",
       "8                                         The owls live in the forest   \n",
       "9                                     Today is raining cats and dogs    \n",
       "\n",
       "  Category                                          norm_corpus  ClusterLabel  \n",
       "0  weather                                   sky blue beautiful             0  \n",
       "1  weather                              love blue beautiful sky             0  \n",
       "2  animals                       quick brown fox jumps lazy dog             2  \n",
       "3     food  kings breakfast sausages ham bacon eggs toast beans             1  \n",
       "4     food                   love green eggs ham sausages bacon             1  \n",
       "5  animals                        brown fox quick blue dog lazy             2  \n",
       "6  weather                         sky blue sky beautiful today             0  \n",
       "7  animals                             dog lazy brown fox quick             2  \n",
       "8  animals                                     owls live forest             1  \n",
       "9  weather                              today raining cats dogs             3  "
      ]
     },
     "execution_count": 14,
     "metadata": {},
     "output_type": "execute_result"
    }
   ],
   "source": [
    "corpus_df \n",
    "#due to the ambiguity of the last document it is classified closer than the animals instances than the weather ones"
   ]
  },
  {
   "cell_type": "code",
   "execution_count": 15,
   "metadata": {},
   "outputs": [
    {
     "data": {
      "image/png": "[encoded data removed]",
      "text/plain": [
       "<Figure size 432x288 with 1 Axes>"
      ]
     },
     "metadata": {
      "needs_background": "light"
     },
     "output_type": "display_data"
    }
   ],
   "source": [
    "from sklearn.decomposition import PCA\n",
    "\n",
    "pca = PCA(n_components=2, random_state=0)\n",
    "pcs = pca.fit_transform(w2v_feature_array)\n",
    "labels = ap.labels_\n",
    "categories = list(corpus_df['Category']) \n",
    "plt.figure(figsize=(6,4))\n",
    "\n",
    "for i in range(len(labels)):\n",
    "    label = labels[i]\n",
    "    color = 'orange' if label == 0 else 'blue' if label == 1  else 'red' if label==2  else 'green'\n",
    "    annotation_label = categories[i]\n",
    "    x, y = pcs[i]\n",
    "    plt.scatter(x, y, c=color, edgecolors='k')\n",
    "    plt.annotate(annotation_label, xy=(x+1e-4, y+1e-3), xytext=(0, 0), textcoords='offset points')"
   ]
  },
  {
   "cell_type": "markdown",
   "metadata": {},
   "source": [
    "### Similar words based on Word2Vec model"
   ]
  },
  {
   "cell_type": "code",
   "execution_count": 16,
   "metadata": {},
   "outputs": [
    {
     "name": "stderr",
     "output_type": "stream",
     "text": [
      "[nltk_data] Downloading package gutenberg to\n",
      "[nltk_data]     /Users/anmarphy/nltk_data...\n",
      "[nltk_data]   Package gutenberg is already up-to-date!\n"
     ]
    },
    {
     "data": {
      "text/plain": [
       "True"
      ]
     },
     "execution_count": 16,
     "metadata": {},
     "output_type": "execute_result"
    }
   ],
   "source": [
    "nltk.download('gutenberg')"
   ]
  },
  {
   "cell_type": "code",
   "execution_count": 17,
   "metadata": {},
   "outputs": [
    {
     "name": "stdout",
     "output_type": "stream",
     "text": [
      "Total lines: 30103\n",
      "\n",
      "Sample line: ['1', ':', '5', 'And', 'God', 'called', 'the', 'light', 'Day', ',', 'and', 'the', 'darkness', 'he', 'called', 'Night', '.']\n",
      "Total lines: 29251\n",
      "\n",
      "Processed line: god called light day darkness called night\n"
     ]
    }
   ],
   "source": [
    "from nltk.corpus import gutenberg\n",
    "from string import punctuation\n",
    "\n",
    "bible = gutenberg.sents('bible-kjv.txt') #sentences tokenizer\n",
    "remove_terms = punctuation + '0123456789'\n",
    "\n",
    "norm_bible = [[word.lower() for word in sent if word not in remove_terms] for sent in bible] #remove numbers and puctuation\n",
    "norm_bible = [' '.join(tok_sent) for tok_sent in norm_bible]\n",
    "norm_bible = filter(None, normalize_corpus(norm_bible))\n",
    "norm_bible = [tok_sent for tok_sent in norm_bible if len(tok_sent.split()) > 2] #removing sentences with less than 2 words\n",
    "\n",
    "print('Total lines:', len(bible))\n",
    "print('\\nSample line:', bible[8])\n",
    "print('Total lines:', len(norm_bible))\n",
    "print('\\nProcessed line:', norm_bible[8])"
   ]
  },
  {
   "cell_type": "code",
   "execution_count": 18,
   "metadata": {},
   "outputs": [
    {
     "data": {
      "text/plain": [
       "{'god': ['worldly', 'lord', 'reasonable', 'promised', 'established'],\n",
       " 'jesus': ['peter', 'messias', 'immediately', 'synagogue', 'apostles'],\n",
       " 'noah': ['shem', 'ham', 'japheth', 'kenan', 'enosh'],\n",
       " 'egypt': ['pharaoh', 'egyptians', 'bondage', 'rod', 'flowing'],\n",
       " 'john': ['james', 'baptist', 'devine', 'tetrarch', 'zebedee'],\n",
       " 'gospel': ['christ', 'faith', 'preach', 'repentance', 'afflictions'],\n",
       " 'moses': ['elisheba', 'congregation', 'joshua', 'children', 'aaron'],\n",
       " 'famine': ['pestilence', 'sword', 'peril', 'overtaketh', 'blasting'],\n",
       " 'love': ['humbleness', 'unfeigned', 'hate', 'likeminded', 'longsuffering']}"
      ]
     },
     "execution_count": 18,
     "metadata": {},
     "output_type": "execute_result"
    }
   ],
   "source": [
    "wpt = nltk.WordPunctTokenizer() # tokenize sentences in corpus\n",
    "tokenized_corpus = [wpt.tokenize(document) for document in norm_bible]\n",
    "\n",
    "## Word2Vec model\n",
    "feature_size = 100    \n",
    "window_context = 30                                                                                           \n",
    "min_word_count = 1                         \n",
    "sample = 1e-3   \n",
    "\n",
    "w2v_model = word2vec.Word2Vec(tokenized_corpus, \n",
    "                              size=feature_size, \n",
    "                              window=window_context, \n",
    "                              min_count=min_word_count,\n",
    "                              sample=sample, iter=50)\n",
    "\n",
    "# view similar words based on gensim's model\n",
    "similar_words = {search_term: [item[0] for item in w2v_model.wv.most_similar([search_term], topn=5)]\n",
    "                  for search_term in ['god', 'jesus', 'noah', 'egypt', 'john', 'gospel', 'moses','famine', 'love']}\n",
    "similar_words"
   ]
  },
  {
   "cell_type": "code",
   "execution_count": 19,
   "metadata": {},
   "outputs": [
    {
     "data": {
      "image/png": "[encoded data removed]",
      "text/plain": [
       "<Figure size 1008x576 with 1 Axes>"
      ]
     },
     "metadata": {
      "needs_background": "light"
     },
     "output_type": "display_data"
    }
   ],
   "source": [
    "from sklearn.manifold import TSNE\n",
    "\n",
    "words = sum([[k] + v for k, v in similar_words.items()], [])\n",
    "wvs = w2v_model.wv[words]\n",
    "\n",
    "tsne = TSNE(n_components=2, random_state=0, n_iter=10000, perplexity=2)\n",
    "np.set_printoptions(suppress=True)\n",
    "T = tsne.fit_transform(wvs)\n",
    "labels = words\n",
    "\n",
    "plt.figure(figsize=(14, 8))\n",
    "plt.scatter(T[:, 0], T[:, 1], c='purple', edgecolors='r')\n",
    "for label, x, y in zip(labels, T[:, 0], T[:, 1]):\n",
    "    plt.annotate(label, xy=(x+1, y+1), xytext=(0, 0), textcoords='offset points')"
   ]
  },
  {
   "cell_type": "markdown",
   "metadata": {},
   "source": [
    "## Prediction model using context window"
   ]
  },
  {
   "cell_type": "markdown",
   "metadata": {},
   "source": [
    "There are two different model architectures which can be leveraged by Word2Vec to create these word embedding representations.\n",
    "* The Continuous Bag of Words (CBOW) Model\n",
    "* The Skip-gram Model\n",
    "\n",
    "\n",
    "The CBOW model tries to predict the current target word (the center word) based on the surrounding words (context window). E.g: 'The quick brown fox jumps over the lazy dog', this can be pairs of (context_window, target_word) where if we consider a context window of size 2, we would have examples like ([quick, fox], brown), ([the, brown], quick), ([the, dog], lazy) and so on. "
   ]
  },
  {
   "cell_type": "code",
   "execution_count": 20,
   "metadata": {},
   "outputs": [
    {
     "name": "stdout",
     "output_type": "stream",
     "text": [
      "Vocabulary Size: 12425\n",
      "Vocabulary Sample: [('shall', 1), ('unto', 2), ('lord', 3), ('thou', 4), ('thy', 5), ('god', 6), ('ye', 7), ('said', 8), ('thee', 9), ('upon', 10), ('man', 11), ('israel', 12), ('king', 13), ('son', 14), ('hath', 15), ('people', 16)]\n",
      "list of numeric sequences:  [[13, 1154, 5766], [154, 2450, 13, 1154, 5766]]\n"
     ]
    }
   ],
   "source": [
    "# 1. Building the corpus vocabulary\n",
    "from tensorflow.keras.preprocessing import text\n",
    "from tensorflow.keras.utils import to_categorical \n",
    "from tensorflow.keras.preprocessing import sequence\n",
    "\n",
    "tokenizer = text.Tokenizer()\n",
    "tokenizer.fit_on_texts(norm_bible)\n",
    "word2id = tokenizer.word_index\n",
    "\n",
    "word2id['PAD'] = 0\n",
    "id2word = {v:k for k, v in word2id.items()}# build a vocabulary-dictionary of unique words\n",
    "\n",
    "# docs as nested lists of id's of words\n",
    "wids = [[word2id[w] for w in text.text_to_word_sequence(doc)] for doc in norm_bible]\n",
    "\n",
    "vocab_size = len(word2id)\n",
    "embed_size = 100\n",
    "window_size = 3 # context window size!\n",
    "\n",
    "#Each word is indexed, and that representation is used to rewrite the sentences\n",
    "print('Vocabulary Size:', vocab_size)\n",
    "print('Vocabulary Sample:', list(word2id.items())[:16])\n",
    "print('list of numeric sequences: ',wids[:2])"
   ]
  },
  {
   "cell_type": "code",
   "execution_count": 21,
   "metadata": {
    "scrolled": false
   },
   "outputs": [
    {
     "name": "stdout",
     "output_type": "stream",
     "text": [
      "list of preprocessed sequences:  ['king james bible', 'old testament king james bible']\n"
     ]
    }
   ],
   "source": [
    "print('list of preprocessed sequences: ',norm_bible[0:2])"
   ]
  },
  {
   "cell_type": "code",
   "execution_count": 22,
   "metadata": {},
   "outputs": [
    {
     "name": "stdout",
     "output_type": "stream",
     "text": [
      "Trial:  0 Context (X): ['earth', 'without', 'form', 'darkness', 'upon', 'face'] -> Target (Y): void\n",
      "Trial:  1 Context (X): ['without', 'form', 'void', 'upon', 'face', 'deep'] -> Target (Y): darkness\n",
      "Trial:  2 Context (X): ['god', 'saw', 'light', 'god', 'divided', 'light'] -> Target (Y): good\n",
      "Trial:  3 Context (X): ['saw', 'light', 'good', 'divided', 'light', 'darkness'] -> Target (Y): god\n",
      "Trial:  4 Context (X): ['god', 'called', 'light', 'darkness', 'called', 'night'] -> Target (Y): day\n",
      "Trial:  5 Context (X): ['god', 'said', 'let', 'midst', 'waters', 'let'] -> Target (Y): firmament\n",
      "Trial:  6 Context (X): ['said', 'let', 'firmament', 'waters', 'let', 'divide'] -> Target (Y): midst\n",
      "Trial:  7 Context (X): ['let', 'firmament', 'midst', 'let', 'divide', 'waters'] -> Target (Y): waters\n",
      "Trial:  8 Context (X): ['firmament', 'midst', 'waters', 'divide', 'waters', 'waters'] -> Target (Y): let\n",
      "Trial:  9 Context (X): ['god', 'made', 'firmament', 'waters', 'firmament', 'waters'] -> Target (Y): divided\n",
      "Trial:  10 Context (X): ['made', 'firmament', 'divided', 'firmament', 'waters', 'firmament'] -> Target (Y): waters\n"
     ]
    }
   ],
   "source": [
    "#2. Build a CBOW (context, target) generator\n",
    "##We are trying to predict the target center word Y based on this context (window size).\n",
    "\n",
    "def generate_context_word_pairs(corpus, window_size, vocab_size):\n",
    "    context_length = window_size*2\n",
    "    for words in corpus:\n",
    "        sentence_length = len(words)\n",
    "        for index, word in enumerate(words):\n",
    "            context_words = []\n",
    "            label_word   = []            \n",
    "            start = index - window_size\n",
    "            end = index + window_size + 1\n",
    "            \n",
    "            context_words.append([words[i] \n",
    "                                 for i in range(start, end) \n",
    "                                 if 0 <= i < sentence_length \n",
    "                                 and i != index])\n",
    "            label_word.append(word)\n",
    "\n",
    "            x = sequence.pad_sequences(context_words, maxlen=context_length)\n",
    "            y = to_categorical(label_word, vocab_size)\n",
    "            yield (x, y)\n",
    "            \n",
    "            \n",
    "# Test this out for some samples\n",
    "i = 0\n",
    "for x, y in generate_context_word_pairs(corpus=wids, window_size=window_size, vocab_size=vocab_size):\n",
    "    if 0 not in x[0]:\n",
    "        print( 'Trial: ',i,'Context (X):',[id2word[w] for w in x[0]], '-> Target (Y):', id2word[np.argwhere(y[0])[0][0]])\n",
    "    \n",
    "        if i == 10:\n",
    "            break\n",
    "        i += 1"
   ]
  },
  {
   "cell_type": "markdown",
   "metadata": {},
   "source": [
    "## Glove\n",
    "references: https://towardsdatascience.com/light-on-math-ml-intuitive-guide-to-understanding-glove-embeddings-b13b4f19c010 \n",
    "https://github.com/stanfordnlp/GloVe"
   ]
  },
  {
   "cell_type": "markdown",
   "metadata": {},
   "source": [
    "GloVe is a word vector technique . Its advantage  is that, unlike Word2vec, GloVe does not rely just on local statistics (local context information of words), but incorporates global statistics (word co-occurrence) to obtain word vectors. \n",
    "\n",
    "Word2Vec: you get a large corpus, and make a dataset of tuples, where each tuple contains (some word x, a word in the context of x). the semantics learnt for a given word, is only affected by the surrounding words. Word2vec which captures local statistics do very well in analogy tasks. \n",
    "\n",
    "Glove: You can derive semantic relationships between words from the co-occurrence matrix.\n",
    "\n"
   ]
  },
  {
   "cell_type": "code",
   "execution_count": null,
   "metadata": {},
   "outputs": [],
   "source": []
  },
  {
   "cell_type": "markdown",
   "metadata": {},
   "source": [
    "## References\n",
    "* https://jdvelasq.github.io/courses/\n",
    "* https://scikit-learn.org/stable/modules/generated/sklearn.manifold.TSNE.html\n",
    "* https://www.kdnuggets.com/2018/04/robust-word2vec-models-gensim.html\n",
    "* https://radimrehurek.com/gensim/models/word2vec.html\n",
    "* https://nbviewer.jupyter.org/github/AprendizajeProfundo/Diplomado/blob/master/Temas/Módulo%208-%20Aprendizaje%20Profundo%20II/1.%20Procesamiento%20de%20Lenguaje%20natural/Cuadernos/nlp_word2vec.ipynb\n",
    "* https://www.kdnuggets.com/2018/04/implementing-deep-learning-methods-feature-engineering-text-data-cbow.html"
   ]
  },
  {
   "cell_type": "code",
   "execution_count": null,
   "metadata": {},
   "outputs": [],
   "source": []
  }
 ],
 "metadata": {
  "kernelspec": {
   "display_name": "Python 3",
   "language": "python",
   "name": "python3"
  },
  "language_info": {
   "codemirror_mode": {
    "name": "ipython",
    "version": 3
   },
   "file_extension": ".py",
   "mimetype": "text/x-python",
   "name": "python",
   "nbconvert_exporter": "python",
   "pygments_lexer": "ipython3",
   "version": "3.8.5"
  }
 },
 "nbformat": 4,
 "nbformat_minor": 4
}
